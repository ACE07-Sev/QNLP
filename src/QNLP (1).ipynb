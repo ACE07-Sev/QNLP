{
 "cells": [
  {
   "cell_type": "code",
   "execution_count": 4,
   "id": "a2eed83a-38ef-4663-9178-b48b80b304fe",
   "metadata": {},
   "outputs": [
    {
     "name": "stdout",
     "output_type": "stream",
     "text": [
      "Collecting textblob\n",
      "  Using cached textblob-0.17.1-py2.py3-none-any.whl (636 kB)\n",
      "Collecting nltk>=3.1\n",
      "  Using cached nltk-3.7-py3-none-any.whl (1.5 MB)\n",
      "Requirement already satisfied: click in /opt/conda/lib/python3.8/site-packages (from nltk>=3.1->textblob) (8.1.3)\n",
      "Requirement already satisfied: tqdm in /opt/conda/lib/python3.8/site-packages (from nltk>=3.1->textblob) (4.64.1)\n",
      "Collecting regex>=2021.8.3\n",
      "  Using cached regex-2022.10.31-cp38-cp38-manylinux_2_17_x86_64.manylinux2014_x86_64.whl (772 kB)\n",
      "Requirement already satisfied: joblib in /opt/conda/lib/python3.8/site-packages (from nltk>=3.1->textblob) (1.2.0)\n",
      "Installing collected packages: regex, nltk, textblob\n",
      "Successfully installed nltk-3.7 regex-2022.10.31 textblob-0.17.1\n",
      "Note: you may need to restart the kernel to use updated packages.\n"
     ]
    }
   ],
   "source": [
    "pip install textblob"
   ]
  },
  {
   "cell_type": "code",
   "execution_count": 5,
   "id": "fab810a3-2c8b-4e26-baae-9955cdba735f",
   "metadata": {},
   "outputs": [
    {
     "name": "stdout",
     "output_type": "stream",
     "text": [
      "Collecting cleantext\n",
      "  Using cached cleantext-1.1.4-py3-none-any.whl (4.9 kB)\n",
      "Requirement already satisfied: nltk in /opt/conda/lib/python3.8/site-packages (from cleantext) (3.7)\n",
      "Requirement already satisfied: click in /opt/conda/lib/python3.8/site-packages (from nltk->cleantext) (8.1.3)\n",
      "Requirement already satisfied: regex>=2021.8.3 in /opt/conda/lib/python3.8/site-packages (from nltk->cleantext) (2022.10.31)\n",
      "Requirement already satisfied: tqdm in /opt/conda/lib/python3.8/site-packages (from nltk->cleantext) (4.64.1)\n",
      "Requirement already satisfied: joblib in /opt/conda/lib/python3.8/site-packages (from nltk->cleantext) (1.2.0)\n",
      "Installing collected packages: cleantext\n",
      "Successfully installed cleantext-1.1.4\n",
      "Note: you may need to restart the kernel to use updated packages.\n"
     ]
    }
   ],
   "source": [
    "pip install cleantext"
   ]
  },
  {
   "cell_type": "code",
   "execution_count": 6,
   "id": "a9e34e1b-fae2-4497-a8f9-a4f112fd8187",
   "metadata": {},
   "outputs": [
    {
     "name": "stdout",
     "output_type": "stream",
     "text": [
      "Collecting discopy\n",
      "  Using cached discopy-0.4.3-py3-none-any.whl\n",
      "Requirement already satisfied: numpy>=1.18.1 in /opt/conda/lib/python3.8/site-packages (from discopy) (1.22.4)\n",
      "Requirement already satisfied: matplotlib>=3.1.2 in /opt/conda/lib/python3.8/site-packages (from discopy) (3.5.1)\n",
      "Requirement already satisfied: pillow>=6.2.1 in /opt/conda/lib/python3.8/site-packages (from discopy) (9.0.1)\n",
      "Requirement already satisfied: networkx>=2.4 in /opt/conda/lib/python3.8/site-packages (from discopy) (2.7.1)\n",
      "Requirement already satisfied: cycler>=0.10 in /opt/conda/lib/python3.8/site-packages (from matplotlib>=3.1.2->discopy) (0.11.0)\n",
      "Requirement already satisfied: fonttools>=4.22.0 in /opt/conda/lib/python3.8/site-packages (from matplotlib>=3.1.2->discopy) (4.31.2)\n",
      "Requirement already satisfied: pyparsing>=2.2.1 in /opt/conda/lib/python3.8/site-packages (from matplotlib>=3.1.2->discopy) (3.0.7)\n",
      "Requirement already satisfied: python-dateutil>=2.7 in /opt/conda/lib/python3.8/site-packages (from matplotlib>=3.1.2->discopy) (2.8.2)\n",
      "Requirement already satisfied: packaging>=20.0 in /opt/conda/lib/python3.8/site-packages (from matplotlib>=3.1.2->discopy) (21.3)\n",
      "Requirement already satisfied: kiwisolver>=1.0.1 in /opt/conda/lib/python3.8/site-packages (from matplotlib>=3.1.2->discopy) (1.4.2)\n",
      "Requirement already satisfied: six>=1.5 in /opt/conda/lib/python3.8/site-packages (from python-dateutil>=2.7->matplotlib>=3.1.2->discopy) (1.16.0)\n",
      "Installing collected packages: discopy\n",
      "Successfully installed discopy-0.4.3\n",
      "Note: you may need to restart the kernel to use updated packages.\n"
     ]
    }
   ],
   "source": [
    "pip install discopy"
   ]
  },
  {
   "cell_type": "code",
   "execution_count": 7,
   "id": "b96d190e-051e-4968-a978-76b37a73e677",
   "metadata": {},
   "outputs": [
    {
     "name": "stdout",
     "output_type": "stream",
     "text": [
      "Collecting spacy\n",
      "  Using cached spacy-3.4.3-cp38-cp38-manylinux_2_17_x86_64.manylinux2014_x86_64.whl (6.6 MB)\n",
      "Collecting cymem<2.1.0,>=2.0.2\n",
      "  Using cached cymem-2.0.7-cp38-cp38-manylinux_2_17_x86_64.manylinux2014_x86_64.whl (36 kB)\n",
      "Collecting langcodes<4.0.0,>=3.2.0\n",
      "  Using cached langcodes-3.3.0-py3-none-any.whl (181 kB)\n",
      "Collecting preshed<3.1.0,>=3.0.2\n",
      "  Using cached preshed-3.0.8-cp38-cp38-manylinux_2_5_x86_64.manylinux1_x86_64.manylinux_2_17_x86_64.manylinux2014_x86_64.whl (130 kB)\n",
      "Collecting murmurhash<1.1.0,>=0.28.0\n",
      "  Using cached murmurhash-1.0.9-cp38-cp38-manylinux_2_5_x86_64.manylinux1_x86_64.manylinux_2_17_x86_64.manylinux2014_x86_64.whl (21 kB)\n",
      "Requirement already satisfied: setuptools in /opt/conda/lib/python3.8/site-packages (from spacy) (61.2.0)\n",
      "Requirement already satisfied: requests<3.0.0,>=2.13.0 in /opt/conda/lib/python3.8/site-packages (from spacy) (2.27.1)\n",
      "Collecting thinc<8.2.0,>=8.1.0\n",
      "  Using cached thinc-8.1.5-cp38-cp38-manylinux_2_17_x86_64.manylinux2014_x86_64.whl (819 kB)\n",
      "Collecting spacy-legacy<3.1.0,>=3.0.10\n",
      "  Using cached spacy_legacy-3.0.10-py2.py3-none-any.whl (21 kB)\n",
      "Collecting catalogue<2.1.0,>=2.0.6\n",
      "  Using cached catalogue-2.0.8-py3-none-any.whl (17 kB)\n",
      "Collecting spacy-loggers<2.0.0,>=1.0.0\n",
      "  Using cached spacy_loggers-1.0.3-py3-none-any.whl (9.3 kB)\n",
      "Requirement already satisfied: tqdm<5.0.0,>=4.38.0 in /opt/conda/lib/python3.8/site-packages (from spacy) (4.64.1)\n",
      "Requirement already satisfied: numpy>=1.15.0 in /opt/conda/lib/python3.8/site-packages (from spacy) (1.22.4)\n",
      "Requirement already satisfied: jinja2 in /opt/conda/lib/python3.8/site-packages (from spacy) (3.1.2)\n",
      "Collecting wasabi<1.1.0,>=0.9.1\n",
      "  Using cached wasabi-0.10.1-py3-none-any.whl (26 kB)\n",
      "Requirement already satisfied: packaging>=20.0 in /opt/conda/lib/python3.8/site-packages (from spacy) (21.3)\n",
      "Collecting pydantic!=1.8,!=1.8.1,<1.11.0,>=1.7.4\n",
      "  Using cached pydantic-1.10.2-cp38-cp38-manylinux_2_17_x86_64.manylinux2014_x86_64.whl (13.6 MB)\n",
      "Collecting srsly<3.0.0,>=2.4.3\n",
      "  Using cached srsly-2.4.5-cp38-cp38-manylinux_2_17_x86_64.manylinux2014_x86_64.whl (492 kB)\n",
      "Collecting typer<0.8.0,>=0.3.0\n",
      "  Using cached typer-0.7.0-py3-none-any.whl (38 kB)\n",
      "Collecting pathy>=0.3.5\n",
      "  Downloading pathy-0.10.0-py3-none-any.whl (48 kB)\n",
      "\u001b[K     |████████████████████████████████| 48 kB 153 kB/s  eta 0:00:01\n",
      "\u001b[?25hRequirement already satisfied: pyparsing!=3.0.5,>=2.0.2 in /opt/conda/lib/python3.8/site-packages (from packaging>=20.0->spacy) (3.0.7)\n",
      "Collecting smart-open<6.0.0,>=5.2.1\n",
      "  Using cached smart_open-5.2.1-py3-none-any.whl (58 kB)\n",
      "Requirement already satisfied: typing-extensions>=4.1.0 in /opt/conda/lib/python3.8/site-packages (from pydantic!=1.8,!=1.8.1,<1.11.0,>=1.7.4->spacy) (4.4.0)\n",
      "Requirement already satisfied: idna<4,>=2.5 in /opt/conda/lib/python3.8/site-packages (from requests<3.0.0,>=2.13.0->spacy) (3.3)\n",
      "Requirement already satisfied: certifi>=2017.4.17 in /opt/conda/lib/python3.8/site-packages (from requests<3.0.0,>=2.13.0->spacy) (2021.10.8)\n",
      "Requirement already satisfied: charset-normalizer~=2.0.0 in /opt/conda/lib/python3.8/site-packages (from requests<3.0.0,>=2.13.0->spacy) (2.0.12)\n",
      "Requirement already satisfied: urllib3<1.27,>=1.21.1 in /opt/conda/lib/python3.8/site-packages (from requests<3.0.0,>=2.13.0->spacy) (1.26.9)\n",
      "Collecting confection<1.0.0,>=0.0.1\n",
      "  Using cached confection-0.0.3-py3-none-any.whl (32 kB)\n",
      "Collecting blis<0.8.0,>=0.7.8\n",
      "  Using cached blis-0.7.9-cp38-cp38-manylinux_2_17_x86_64.manylinux2014_x86_64.whl (10.2 MB)\n",
      "Requirement already satisfied: click<9.0.0,>=7.1.1 in /opt/conda/lib/python3.8/site-packages (from typer<0.8.0,>=0.3.0->spacy) (8.1.3)\n",
      "Requirement already satisfied: MarkupSafe>=2.0 in /opt/conda/lib/python3.8/site-packages (from jinja2->spacy) (2.1.1)\n",
      "Installing collected packages: catalogue, srsly, pydantic, murmurhash, cymem, wasabi, typer, smart-open, preshed, confection, blis, thinc, spacy-loggers, spacy-legacy, pathy, langcodes, spacy\n",
      "Successfully installed blis-0.7.9 catalogue-2.0.8 confection-0.0.3 cymem-2.0.7 langcodes-3.3.0 murmurhash-1.0.9 pathy-0.10.0 preshed-3.0.8 pydantic-1.10.2 smart-open-5.2.1 spacy-3.4.3 spacy-legacy-3.0.10 spacy-loggers-1.0.3 srsly-2.4.5 thinc-8.1.5 typer-0.7.0 wasabi-0.10.1\n",
      "Note: you may need to restart the kernel to use updated packages.\n"
     ]
    }
   ],
   "source": [
    "pip install spacy"
   ]
  },
  {
   "cell_type": "code",
   "execution_count": 8,
   "id": "7783b39f-6dc4-402a-af5c-0e6e57179655",
   "metadata": {},
   "outputs": [
    {
     "name": "stdout",
     "output_type": "stream",
     "text": [
      "Collecting lambeq\n",
      "  Using cached lambeq-0.2.7-py3-none-any.whl (129 kB)\n",
      "Collecting pytket>=0.19.2\n",
      "  Using cached pytket-1.8.1-cp38-cp38-manylinux_2_17_x86_64.manylinux2014_x86_64.whl (13.3 MB)\n",
      "Collecting transformers\n",
      "  Using cached transformers-4.24.0-py3-none-any.whl (5.5 MB)\n",
      "Collecting tensornetwork\n",
      "  Using cached tensornetwork-0.4.6-py3-none-any.whl (364 kB)\n",
      "Requirement already satisfied: spacy>=3.0 in /opt/conda/lib/python3.8/site-packages (from lambeq) (3.4.3)\n",
      "Requirement already satisfied: pyyaml in /opt/conda/lib/python3.8/site-packages (from lambeq) (6.0)\n",
      "Requirement already satisfied: discopy>=0.4.3 in /opt/conda/lib/python3.8/site-packages (from lambeq) (0.4.3)\n",
      "Requirement already satisfied: torch>=1.12.1 in /opt/conda/lib/python3.8/site-packages (from lambeq) (1.13.0+rocm5.2)\n",
      "Requirement already satisfied: networkx>=2.4 in /opt/conda/lib/python3.8/site-packages (from discopy>=0.4.3->lambeq) (2.7.1)\n",
      "Requirement already satisfied: matplotlib>=3.1.2 in /opt/conda/lib/python3.8/site-packages (from discopy>=0.4.3->lambeq) (3.5.1)\n",
      "Requirement already satisfied: pillow>=6.2.1 in /opt/conda/lib/python3.8/site-packages (from discopy>=0.4.3->lambeq) (9.0.1)\n",
      "Requirement already satisfied: numpy>=1.18.1 in /opt/conda/lib/python3.8/site-packages (from discopy>=0.4.3->lambeq) (1.22.4)\n",
      "Requirement already satisfied: pyparsing>=2.2.1 in /opt/conda/lib/python3.8/site-packages (from matplotlib>=3.1.2->discopy>=0.4.3->lambeq) (3.0.7)\n",
      "Requirement already satisfied: packaging>=20.0 in /opt/conda/lib/python3.8/site-packages (from matplotlib>=3.1.2->discopy>=0.4.3->lambeq) (21.3)\n",
      "Requirement already satisfied: fonttools>=4.22.0 in /opt/conda/lib/python3.8/site-packages (from matplotlib>=3.1.2->discopy>=0.4.3->lambeq) (4.31.2)\n",
      "Requirement already satisfied: kiwisolver>=1.0.1 in /opt/conda/lib/python3.8/site-packages (from matplotlib>=3.1.2->discopy>=0.4.3->lambeq) (1.4.2)\n",
      "Requirement already satisfied: cycler>=0.10 in /opt/conda/lib/python3.8/site-packages (from matplotlib>=3.1.2->discopy>=0.4.3->lambeq) (0.11.0)\n",
      "Requirement already satisfied: python-dateutil>=2.7 in /opt/conda/lib/python3.8/site-packages (from matplotlib>=3.1.2->discopy>=0.4.3->lambeq) (2.8.2)\n",
      "Requirement already satisfied: six>=1.5 in /opt/conda/lib/python3.8/site-packages (from python-dateutil>=2.7->matplotlib>=3.1.2->discopy>=0.4.3->lambeq) (1.16.0)\n",
      "Requirement already satisfied: typing-extensions~=4.2 in /opt/conda/lib/python3.8/site-packages (from pytket>=0.19.2->lambeq) (4.4.0)\n",
      "Collecting qwasm~=1.0\n",
      "  Using cached qwasm-1.0.1-py3-none-any.whl (15 kB)\n",
      "Collecting types-pkg-resources\n",
      "  Using cached types_pkg_resources-0.1.3-py2.py3-none-any.whl (4.8 kB)\n",
      "Collecting lark-parser~=0.7\n",
      "  Using cached lark_parser-0.12.0-py2.py3-none-any.whl (103 kB)\n",
      "Requirement already satisfied: jinja2~=3.0 in /opt/conda/lib/python3.8/site-packages (from pytket>=0.19.2->lambeq) (3.1.2)\n",
      "Requirement already satisfied: graphviz~=0.14 in /opt/conda/lib/python3.8/site-packages (from pytket>=0.19.2->lambeq) (0.20.1)\n",
      "Requirement already satisfied: sympy~=1.6 in /opt/conda/lib/python3.8/site-packages (from pytket>=0.19.2->lambeq) (1.10.1)\n",
      "Requirement already satisfied: scipy<2.0,>=1.7.2 in /opt/conda/lib/python3.8/site-packages (from pytket>=0.19.2->lambeq) (1.8.0)\n",
      "Requirement already satisfied: MarkupSafe>=2.0 in /opt/conda/lib/python3.8/site-packages (from jinja2~=3.0->pytket>=0.19.2->lambeq) (2.1.1)\n",
      "Requirement already satisfied: setuptools in /opt/conda/lib/python3.8/site-packages (from qwasm~=1.0->pytket>=0.19.2->lambeq) (61.2.0)\n",
      "Requirement already satisfied: langcodes<4.0.0,>=3.2.0 in /opt/conda/lib/python3.8/site-packages (from spacy>=3.0->lambeq) (3.3.0)\n",
      "Requirement already satisfied: spacy-loggers<2.0.0,>=1.0.0 in /opt/conda/lib/python3.8/site-packages (from spacy>=3.0->lambeq) (1.0.3)\n",
      "Requirement already satisfied: typer<0.8.0,>=0.3.0 in /opt/conda/lib/python3.8/site-packages (from spacy>=3.0->lambeq) (0.7.0)\n",
      "Requirement already satisfied: preshed<3.1.0,>=3.0.2 in /opt/conda/lib/python3.8/site-packages (from spacy>=3.0->lambeq) (3.0.8)\n",
      "Requirement already satisfied: tqdm<5.0.0,>=4.38.0 in /opt/conda/lib/python3.8/site-packages (from spacy>=3.0->lambeq) (4.64.1)\n",
      "Requirement already satisfied: murmurhash<1.1.0,>=0.28.0 in /opt/conda/lib/python3.8/site-packages (from spacy>=3.0->lambeq) (1.0.9)\n",
      "Requirement already satisfied: cymem<2.1.0,>=2.0.2 in /opt/conda/lib/python3.8/site-packages (from spacy>=3.0->lambeq) (2.0.7)\n",
      "Requirement already satisfied: requests<3.0.0,>=2.13.0 in /opt/conda/lib/python3.8/site-packages (from spacy>=3.0->lambeq) (2.27.1)\n",
      "Requirement already satisfied: wasabi<1.1.0,>=0.9.1 in /opt/conda/lib/python3.8/site-packages (from spacy>=3.0->lambeq) (0.10.1)\n",
      "Requirement already satisfied: spacy-legacy<3.1.0,>=3.0.10 in /opt/conda/lib/python3.8/site-packages (from spacy>=3.0->lambeq) (3.0.10)\n",
      "Requirement already satisfied: srsly<3.0.0,>=2.4.3 in /opt/conda/lib/python3.8/site-packages (from spacy>=3.0->lambeq) (2.4.5)\n",
      "Requirement already satisfied: pydantic!=1.8,!=1.8.1,<1.11.0,>=1.7.4 in /opt/conda/lib/python3.8/site-packages (from spacy>=3.0->lambeq) (1.10.2)\n",
      "Requirement already satisfied: catalogue<2.1.0,>=2.0.6 in /opt/conda/lib/python3.8/site-packages (from spacy>=3.0->lambeq) (2.0.8)\n",
      "Requirement already satisfied: pathy>=0.3.5 in /opt/conda/lib/python3.8/site-packages (from spacy>=3.0->lambeq) (0.10.0)\n",
      "Requirement already satisfied: thinc<8.2.0,>=8.1.0 in /opt/conda/lib/python3.8/site-packages (from spacy>=3.0->lambeq) (8.1.5)\n",
      "Requirement already satisfied: smart-open<6.0.0,>=5.2.1 in /opt/conda/lib/python3.8/site-packages (from pathy>=0.3.5->spacy>=3.0->lambeq) (5.2.1)\n",
      "Requirement already satisfied: idna<4,>=2.5 in /opt/conda/lib/python3.8/site-packages (from requests<3.0.0,>=2.13.0->spacy>=3.0->lambeq) (3.3)\n",
      "Requirement already satisfied: urllib3<1.27,>=1.21.1 in /opt/conda/lib/python3.8/site-packages (from requests<3.0.0,>=2.13.0->spacy>=3.0->lambeq) (1.26.9)\n",
      "Requirement already satisfied: charset-normalizer~=2.0.0 in /opt/conda/lib/python3.8/site-packages (from requests<3.0.0,>=2.13.0->spacy>=3.0->lambeq) (2.0.12)\n",
      "Requirement already satisfied: certifi>=2017.4.17 in /opt/conda/lib/python3.8/site-packages (from requests<3.0.0,>=2.13.0->spacy>=3.0->lambeq) (2021.10.8)\n",
      "Requirement already satisfied: mpmath>=0.19 in /opt/conda/lib/python3.8/site-packages (from sympy~=1.6->pytket>=0.19.2->lambeq) (1.2.1)\n",
      "Requirement already satisfied: confection<1.0.0,>=0.0.1 in /opt/conda/lib/python3.8/site-packages (from thinc<8.2.0,>=8.1.0->spacy>=3.0->lambeq) (0.0.3)\n",
      "Requirement already satisfied: blis<0.8.0,>=0.7.8 in /opt/conda/lib/python3.8/site-packages (from thinc<8.2.0,>=8.1.0->spacy>=3.0->lambeq) (0.7.9)\n",
      "Requirement already satisfied: click<9.0.0,>=7.1.1 in /opt/conda/lib/python3.8/site-packages (from typer<0.8.0,>=0.3.0->spacy>=3.0->lambeq) (8.1.3)\n",
      "Collecting opt-einsum>=2.3.0\n",
      "  Using cached opt_einsum-3.3.0-py3-none-any.whl (65 kB)\n",
      "Requirement already satisfied: h5py>=2.9.0 in /opt/conda/lib/python3.8/site-packages (from tensornetwork->lambeq) (3.6.0)\n",
      "Collecting tokenizers!=0.11.3,<0.14,>=0.11.1\n",
      "  Using cached tokenizers-0.13.2-cp38-cp38-manylinux_2_17_x86_64.manylinux2014_x86_64.whl (7.6 MB)\n",
      "Collecting filelock\n",
      "  Using cached filelock-3.8.0-py3-none-any.whl (10 kB)\n",
      "Collecting huggingface-hub<1.0,>=0.10.0\n",
      "  Using cached huggingface_hub-0.11.0-py3-none-any.whl (182 kB)\n",
      "Requirement already satisfied: regex!=2019.12.17 in /opt/conda/lib/python3.8/site-packages (from transformers->lambeq) (2022.10.31)\n",
      "Installing collected packages: filelock, types-pkg-resources, tokenizers, qwasm, opt-einsum, lark-parser, huggingface-hub, transformers, tensornetwork, pytket, lambeq\n",
      "Successfully installed filelock-3.8.0 huggingface-hub-0.11.0 lambeq-0.2.7 lark-parser-0.12.0 opt-einsum-3.3.0 pytket-1.8.1 qwasm-1.0.1 tensornetwork-0.4.6 tokenizers-0.13.2 transformers-4.24.0 types-pkg-resources-0.1.3\n",
      "Note: you may need to restart the kernel to use updated packages.\n"
     ]
    }
   ],
   "source": [
    "pip install lambeq"
   ]
  },
  {
   "cell_type": "code",
   "execution_count": 9,
   "id": "842e2f61-fddb-4136-bc06-613983a327d5",
   "metadata": {},
   "outputs": [
    {
     "name": "stdout",
     "output_type": "stream",
     "text": [
      "Collecting pytket-qiskit\n",
      "  Using cached pytket_qiskit-0.30.0-py3-none-any.whl (42 kB)\n",
      "Requirement already satisfied: qiskit~=0.39.0 in /opt/conda/lib/python3.8/site-packages (from pytket-qiskit) (0.39.2)\n",
      "Requirement already satisfied: pytket~=1.8 in /opt/conda/lib/python3.8/site-packages (from pytket-qiskit) (1.8.1)\n",
      "Requirement already satisfied: types-pkg-resources in /opt/conda/lib/python3.8/site-packages (from pytket~=1.8->pytket-qiskit) (0.1.3)\n",
      "Requirement already satisfied: numpy<2.0,>=1.21.4 in /opt/conda/lib/python3.8/site-packages (from pytket~=1.8->pytket-qiskit) (1.22.4)\n",
      "Requirement already satisfied: networkx~=2.4 in /opt/conda/lib/python3.8/site-packages (from pytket~=1.8->pytket-qiskit) (2.7.1)\n",
      "Requirement already satisfied: typing-extensions~=4.2 in /opt/conda/lib/python3.8/site-packages (from pytket~=1.8->pytket-qiskit) (4.4.0)\n",
      "Requirement already satisfied: lark-parser~=0.7 in /opt/conda/lib/python3.8/site-packages (from pytket~=1.8->pytket-qiskit) (0.12.0)\n",
      "Requirement already satisfied: sympy~=1.6 in /opt/conda/lib/python3.8/site-packages (from pytket~=1.8->pytket-qiskit) (1.10.1)\n",
      "Requirement already satisfied: qwasm~=1.0 in /opt/conda/lib/python3.8/site-packages (from pytket~=1.8->pytket-qiskit) (1.0.1)\n",
      "Requirement already satisfied: scipy<2.0,>=1.7.2 in /opt/conda/lib/python3.8/site-packages (from pytket~=1.8->pytket-qiskit) (1.8.0)\n",
      "Requirement already satisfied: graphviz~=0.14 in /opt/conda/lib/python3.8/site-packages (from pytket~=1.8->pytket-qiskit) (0.20.1)\n",
      "Requirement already satisfied: jinja2~=3.0 in /opt/conda/lib/python3.8/site-packages (from pytket~=1.8->pytket-qiskit) (3.1.2)\n",
      "Requirement already satisfied: MarkupSafe>=2.0 in /opt/conda/lib/python3.8/site-packages (from jinja2~=3.0->pytket~=1.8->pytket-qiskit) (2.1.1)\n",
      "Requirement already satisfied: qiskit-aer==0.11.1 in /opt/conda/lib/python3.8/site-packages (from qiskit~=0.39.0->pytket-qiskit) (0.11.1)\n",
      "Requirement already satisfied: qiskit-terra==0.22.2 in /opt/conda/lib/python3.8/site-packages (from qiskit~=0.39.0->pytket-qiskit) (0.22.2)\n",
      "Requirement already satisfied: qiskit-ibmq-provider==0.19.2 in /opt/conda/lib/python3.8/site-packages (from qiskit~=0.39.0->pytket-qiskit) (0.19.2)\n",
      "Requirement already satisfied: python-dateutil>=2.8.0 in /opt/conda/lib/python3.8/site-packages (from qiskit-ibmq-provider==0.19.2->qiskit~=0.39.0->pytket-qiskit) (2.8.2)\n",
      "Requirement already satisfied: websockets>=10.0 in /opt/conda/lib/python3.8/site-packages (from qiskit-ibmq-provider==0.19.2->qiskit~=0.39.0->pytket-qiskit) (10.4)\n",
      "Requirement already satisfied: websocket-client>=1.0.1 in /opt/conda/lib/python3.8/site-packages (from qiskit-ibmq-provider==0.19.2->qiskit~=0.39.0->pytket-qiskit) (1.3.2)\n",
      "Requirement already satisfied: requests>=2.19 in /opt/conda/lib/python3.8/site-packages (from qiskit-ibmq-provider==0.19.2->qiskit~=0.39.0->pytket-qiskit) (2.27.1)\n",
      "Requirement already satisfied: requests-ntlm>=1.1.0 in /opt/conda/lib/python3.8/site-packages (from qiskit-ibmq-provider==0.19.2->qiskit~=0.39.0->pytket-qiskit) (1.1.0)\n",
      "Requirement already satisfied: urllib3>=1.21.1 in /opt/conda/lib/python3.8/site-packages (from qiskit-ibmq-provider==0.19.2->qiskit~=0.39.0->pytket-qiskit) (1.26.9)\n",
      "Requirement already satisfied: psutil>=5 in /opt/conda/lib/python3.8/site-packages (from qiskit-terra==0.22.2->qiskit~=0.39.0->pytket-qiskit) (5.9.0)\n",
      "Requirement already satisfied: dill>=0.3 in /opt/conda/lib/python3.8/site-packages (from qiskit-terra==0.22.2->qiskit~=0.39.0->pytket-qiskit) (0.3.4)\n",
      "Requirement already satisfied: tweedledum<2.0,>=1.1 in /opt/conda/lib/python3.8/site-packages (from qiskit-terra==0.22.2->qiskit~=0.39.0->pytket-qiskit) (1.1.1)\n",
      "Requirement already satisfied: ply>=3.10 in /opt/conda/lib/python3.8/site-packages (from qiskit-terra==0.22.2->qiskit~=0.39.0->pytket-qiskit) (3.11)\n",
      "Requirement already satisfied: retworkx>=0.11.0 in /opt/conda/lib/python3.8/site-packages (from qiskit-terra==0.22.2->qiskit~=0.39.0->pytket-qiskit) (0.11.0)\n",
      "Requirement already satisfied: symengine>=0.9 in /opt/conda/lib/python3.8/site-packages (from qiskit-terra==0.22.2->qiskit~=0.39.0->pytket-qiskit) (0.9.2)\n",
      "Requirement already satisfied: stevedore>=3.0.0 in /opt/conda/lib/python3.8/site-packages (from qiskit-terra==0.22.2->qiskit~=0.39.0->pytket-qiskit) (3.5.0)\n",
      "Requirement already satisfied: six>=1.5 in /opt/conda/lib/python3.8/site-packages (from python-dateutil>=2.8.0->qiskit-ibmq-provider==0.19.2->qiskit~=0.39.0->pytket-qiskit) (1.16.0)\n",
      "Requirement already satisfied: setuptools in /opt/conda/lib/python3.8/site-packages (from qwasm~=1.0->pytket~=1.8->pytket-qiskit) (61.2.0)\n",
      "Requirement already satisfied: certifi>=2017.4.17 in /opt/conda/lib/python3.8/site-packages (from requests>=2.19->qiskit-ibmq-provider==0.19.2->qiskit~=0.39.0->pytket-qiskit) (2021.10.8)\n",
      "Requirement already satisfied: charset-normalizer~=2.0.0 in /opt/conda/lib/python3.8/site-packages (from requests>=2.19->qiskit-ibmq-provider==0.19.2->qiskit~=0.39.0->pytket-qiskit) (2.0.12)\n",
      "Requirement already satisfied: idna<4,>=2.5 in /opt/conda/lib/python3.8/site-packages (from requests>=2.19->qiskit-ibmq-provider==0.19.2->qiskit~=0.39.0->pytket-qiskit) (3.3)\n",
      "Requirement already satisfied: ntlm-auth>=1.0.2 in /opt/conda/lib/python3.8/site-packages (from requests-ntlm>=1.1.0->qiskit-ibmq-provider==0.19.2->qiskit~=0.39.0->pytket-qiskit) (1.5.0)\n",
      "Requirement already satisfied: cryptography>=1.3 in /opt/conda/lib/python3.8/site-packages (from requests-ntlm>=1.1.0->qiskit-ibmq-provider==0.19.2->qiskit~=0.39.0->pytket-qiskit) (36.0.2)\n",
      "Requirement already satisfied: cffi>=1.12 in /opt/conda/lib/python3.8/site-packages (from cryptography>=1.3->requests-ntlm>=1.1.0->qiskit-ibmq-provider==0.19.2->qiskit~=0.39.0->pytket-qiskit) (1.15.0)\n",
      "Requirement already satisfied: pycparser in /opt/conda/lib/python3.8/site-packages (from cffi>=1.12->cryptography>=1.3->requests-ntlm>=1.1.0->qiskit-ibmq-provider==0.19.2->qiskit~=0.39.0->pytket-qiskit) (2.21)\n",
      "Requirement already satisfied: pbr!=2.1.0,>=2.0.0 in /opt/conda/lib/python3.8/site-packages (from stevedore>=3.0.0->qiskit-terra==0.22.2->qiskit~=0.39.0->pytket-qiskit) (5.8.1)\n",
      "Requirement already satisfied: mpmath>=0.19 in /opt/conda/lib/python3.8/site-packages (from sympy~=1.6->pytket~=1.8->pytket-qiskit) (1.2.1)\n",
      "Installing collected packages: pytket-qiskit\n",
      "Successfully installed pytket-qiskit-0.30.0\n",
      "Note: you may need to restart the kernel to use updated packages.\n"
     ]
    }
   ],
   "source": [
    "pip install pytket-qiskit"
   ]
  },
  {
   "cell_type": "code",
   "execution_count": 10,
   "id": "e6750a56-ac74-4d17-bc83-f851204e4368",
   "metadata": {},
   "outputs": [
    {
     "name": "stdout",
     "output_type": "stream",
     "text": [
      "\u001b[38;5;3m⚠ As of spaCy v3.0, shortcuts like 'en' are deprecated. Please use the\n",
      "full pipeline package name 'en_core_web_sm' instead.\u001b[0m\n",
      "Collecting en-core-web-sm==3.4.1\n",
      "  Downloading https://github.com/explosion/spacy-models/releases/download/en_core_web_sm-3.4.1/en_core_web_sm-3.4.1-py3-none-any.whl (12.8 MB)\n",
      "\u001b[K     |████████████████████████████████| 12.8 MB 23.7 MB/s eta 0:00:01  |█████████████▋                  | 5.4 MB 23.7 MB/s eta 0:00:01\n",
      "\u001b[?25hRequirement already satisfied: spacy<3.5.0,>=3.4.0 in /opt/conda/lib/python3.8/site-packages (from en-core-web-sm==3.4.1) (3.4.3)\n",
      "Requirement already satisfied: catalogue<2.1.0,>=2.0.6 in /opt/conda/lib/python3.8/site-packages (from spacy<3.5.0,>=3.4.0->en-core-web-sm==3.4.1) (2.0.8)\n",
      "Requirement already satisfied: murmurhash<1.1.0,>=0.28.0 in /opt/conda/lib/python3.8/site-packages (from spacy<3.5.0,>=3.4.0->en-core-web-sm==3.4.1) (1.0.9)\n",
      "Requirement already satisfied: thinc<8.2.0,>=8.1.0 in /opt/conda/lib/python3.8/site-packages (from spacy<3.5.0,>=3.4.0->en-core-web-sm==3.4.1) (8.1.5)\n",
      "Requirement already satisfied: jinja2 in /opt/conda/lib/python3.8/site-packages (from spacy<3.5.0,>=3.4.0->en-core-web-sm==3.4.1) (3.1.2)\n",
      "Requirement already satisfied: setuptools in /opt/conda/lib/python3.8/site-packages (from spacy<3.5.0,>=3.4.0->en-core-web-sm==3.4.1) (61.2.0)\n",
      "Requirement already satisfied: typer<0.8.0,>=0.3.0 in /opt/conda/lib/python3.8/site-packages (from spacy<3.5.0,>=3.4.0->en-core-web-sm==3.4.1) (0.7.0)\n",
      "Requirement already satisfied: tqdm<5.0.0,>=4.38.0 in /opt/conda/lib/python3.8/site-packages (from spacy<3.5.0,>=3.4.0->en-core-web-sm==3.4.1) (4.64.1)\n",
      "Requirement already satisfied: pathy>=0.3.5 in /opt/conda/lib/python3.8/site-packages (from spacy<3.5.0,>=3.4.0->en-core-web-sm==3.4.1) (0.10.0)\n",
      "Requirement already satisfied: srsly<3.0.0,>=2.4.3 in /opt/conda/lib/python3.8/site-packages (from spacy<3.5.0,>=3.4.0->en-core-web-sm==3.4.1) (2.4.5)\n",
      "Requirement already satisfied: wasabi<1.1.0,>=0.9.1 in /opt/conda/lib/python3.8/site-packages (from spacy<3.5.0,>=3.4.0->en-core-web-sm==3.4.1) (0.10.1)\n",
      "Requirement already satisfied: spacy-loggers<2.0.0,>=1.0.0 in /opt/conda/lib/python3.8/site-packages (from spacy<3.5.0,>=3.4.0->en-core-web-sm==3.4.1) (1.0.3)\n",
      "Requirement already satisfied: cymem<2.1.0,>=2.0.2 in /opt/conda/lib/python3.8/site-packages (from spacy<3.5.0,>=3.4.0->en-core-web-sm==3.4.1) (2.0.7)\n",
      "Requirement already satisfied: spacy-legacy<3.1.0,>=3.0.10 in /opt/conda/lib/python3.8/site-packages (from spacy<3.5.0,>=3.4.0->en-core-web-sm==3.4.1) (3.0.10)\n",
      "Requirement already satisfied: packaging>=20.0 in /opt/conda/lib/python3.8/site-packages (from spacy<3.5.0,>=3.4.0->en-core-web-sm==3.4.1) (21.3)\n",
      "Requirement already satisfied: numpy>=1.15.0 in /opt/conda/lib/python3.8/site-packages (from spacy<3.5.0,>=3.4.0->en-core-web-sm==3.4.1) (1.22.4)\n",
      "Requirement already satisfied: pydantic!=1.8,!=1.8.1,<1.11.0,>=1.7.4 in /opt/conda/lib/python3.8/site-packages (from spacy<3.5.0,>=3.4.0->en-core-web-sm==3.4.1) (1.10.2)\n",
      "Requirement already satisfied: preshed<3.1.0,>=3.0.2 in /opt/conda/lib/python3.8/site-packages (from spacy<3.5.0,>=3.4.0->en-core-web-sm==3.4.1) (3.0.8)\n",
      "Requirement already satisfied: langcodes<4.0.0,>=3.2.0 in /opt/conda/lib/python3.8/site-packages (from spacy<3.5.0,>=3.4.0->en-core-web-sm==3.4.1) (3.3.0)\n",
      "Requirement already satisfied: requests<3.0.0,>=2.13.0 in /opt/conda/lib/python3.8/site-packages (from spacy<3.5.0,>=3.4.0->en-core-web-sm==3.4.1) (2.27.1)\n",
      "Requirement already satisfied: pyparsing!=3.0.5,>=2.0.2 in /opt/conda/lib/python3.8/site-packages (from packaging>=20.0->spacy<3.5.0,>=3.4.0->en-core-web-sm==3.4.1) (3.0.7)\n",
      "Requirement already satisfied: smart-open<6.0.0,>=5.2.1 in /opt/conda/lib/python3.8/site-packages (from pathy>=0.3.5->spacy<3.5.0,>=3.4.0->en-core-web-sm==3.4.1) (5.2.1)\n",
      "Requirement already satisfied: typing-extensions>=4.1.0 in /opt/conda/lib/python3.8/site-packages (from pydantic!=1.8,!=1.8.1,<1.11.0,>=1.7.4->spacy<3.5.0,>=3.4.0->en-core-web-sm==3.4.1) (4.4.0)\n",
      "Requirement already satisfied: certifi>=2017.4.17 in /opt/conda/lib/python3.8/site-packages (from requests<3.0.0,>=2.13.0->spacy<3.5.0,>=3.4.0->en-core-web-sm==3.4.1) (2021.10.8)\n",
      "Requirement already satisfied: urllib3<1.27,>=1.21.1 in /opt/conda/lib/python3.8/site-packages (from requests<3.0.0,>=2.13.0->spacy<3.5.0,>=3.4.0->en-core-web-sm==3.4.1) (1.26.9)\n",
      "Requirement already satisfied: idna<4,>=2.5 in /opt/conda/lib/python3.8/site-packages (from requests<3.0.0,>=2.13.0->spacy<3.5.0,>=3.4.0->en-core-web-sm==3.4.1) (3.3)\n",
      "Requirement already satisfied: charset-normalizer~=2.0.0 in /opt/conda/lib/python3.8/site-packages (from requests<3.0.0,>=2.13.0->spacy<3.5.0,>=3.4.0->en-core-web-sm==3.4.1) (2.0.12)\n",
      "Requirement already satisfied: confection<1.0.0,>=0.0.1 in /opt/conda/lib/python3.8/site-packages (from thinc<8.2.0,>=8.1.0->spacy<3.5.0,>=3.4.0->en-core-web-sm==3.4.1) (0.0.3)\n",
      "Requirement already satisfied: blis<0.8.0,>=0.7.8 in /opt/conda/lib/python3.8/site-packages (from thinc<8.2.0,>=8.1.0->spacy<3.5.0,>=3.4.0->en-core-web-sm==3.4.1) (0.7.9)\n",
      "Requirement already satisfied: click<9.0.0,>=7.1.1 in /opt/conda/lib/python3.8/site-packages (from typer<0.8.0,>=0.3.0->spacy<3.5.0,>=3.4.0->en-core-web-sm==3.4.1) (8.1.3)\n",
      "Requirement already satisfied: MarkupSafe>=2.0 in /opt/conda/lib/python3.8/site-packages (from jinja2->spacy<3.5.0,>=3.4.0->en-core-web-sm==3.4.1) (2.1.1)\n",
      "Installing collected packages: en-core-web-sm\n",
      "Successfully installed en-core-web-sm-3.4.1\n",
      "\u001b[38;5;2m✔ Download and installation successful\u001b[0m\n",
      "You can now load the package via spacy.load('en_core_web_sm')\n"
     ]
    }
   ],
   "source": [
    "import sys\n",
    "!{sys.executable} -m spacy download en"
   ]
  },
  {
   "cell_type": "code",
   "execution_count": 18,
   "id": "0ed4d158-24ed-4656-8017-bf51a59e2ce5",
   "metadata": {},
   "outputs": [
    {
     "name": "stdout",
     "output_type": "stream",
     "text": [
      "All packages imported successfully!\n"
     ]
    }
   ],
   "source": [
    "import collections\n",
    "import pickle\n",
    "import sys\n",
    "import warnings\n",
    "import os\n",
    "from random import shuffle\n",
    "\n",
    "from textblob import TextBlob\n",
    "from cleantext import clean\n",
    "\n",
    "from discopy.tensor import Tensor\n",
    "from discopy import Word\n",
    "from discopy.rigid import Functor\n",
    "import spacy\n",
    "\n",
    "import matplotlib.pyplot as plt\n",
    "import numpy as np\n",
    "from numpy import random, unique\n",
    "import lambeq\n",
    "from lambeq import AtomicType, IQPAnsatz, remove_cups, NumpyModel, spiders_reader, cups_reader, stairs_reader, Rewriter\n",
    "from lambeq import BobcatParser\n",
    "from lambeq import Dataset\n",
    "from lambeq import TreeReader, TreeReaderMode\n",
    "from lambeq import QuantumTrainer, SPSAOptimizer\n",
    "from lambeq import TketModel\n",
    "from lambeq import SpacyTokeniser\n",
    "from pytket.circuit.display import render_circuit_jupyter\n",
    "from pytket.extensions.qiskit import AerBackend\n",
    "\n",
    "print(\"All packages imported successfully!\")"
   ]
  },
  {
   "cell_type": "code",
   "execution_count": 19,
   "id": "f1ad9e6d-c333-457b-8d01-8f19d26207b8",
   "metadata": {},
   "outputs": [
    {
     "data": {
      "text/plain": [
       "<spacy.lang.en.English at 0x7f87f05d4310>"
      ]
     },
     "execution_count": 19,
     "metadata": {},
     "output_type": "execute_result"
    }
   ],
   "source": [
    "warnings.filterwarnings(\"ignore\")\n",
    "os.environ[\"TOKENIZERS_PARALLELISM\"] = \"false\"\n",
    "spacy.load('en_core_web_sm')"
   ]
  },
  {
   "cell_type": "code",
   "execution_count": 20,
   "id": "4319c40c-e483-4a1e-a6e5-6b72d309f1b5",
   "metadata": {},
   "outputs": [],
   "source": [
    "BATCH_SIZE = 30\n",
    "EPOCHS = 300\n",
    "EPSILON = sys.float_info.epsilon\n",
    "SEED = 0"
   ]
  },
  {
   "cell_type": "code",
   "execution_count": 21,
   "id": "d22d839b-cd13-4c67-a7bd-318155503441",
   "metadata": {},
   "outputs": [],
   "source": [
    "# Function for replacing low occuring word(s) with <unk> token\n",
    "def replace(box):\n",
    "    if isinstance(box, Word) and dataset.count(box.name) < 2:\n",
    "        return Word('unk', box.cod, box.dom)\n",
    "    return box\n",
    "\n",
    "\n",
    "# Function for removing punctuations at sentence level\n",
    "def remove_dots_commas(sentence):\n",
    "    sentence = sentence.replace(\",\", \"\")\n",
    "    sentence = sentence.replace(\" .\", \"\")\n",
    "    return sentence\n",
    "\n",
    "\n",
    "# Function for removing punctuations at sentence level for a list of sentences\n",
    "def remove_dots_commas_sentences(list):\n",
    "    for i in range(len(list)):\n",
    "        list[i] = remove_dots_commas(list[i])\n",
    "    return list\n",
    "\n",
    "\n",
    "# Function for removing determiners at sentence level\n",
    "def remove_determiner(sentence):\n",
    "    sentence = sentence.replace(\"the \", \"\")\n",
    "    sentence = sentence.replace(\"The \", \"\")\n",
    "    return sentence\n",
    "\n",
    "\n",
    "# Function for removing determiners at sentence level for a list of sentences\n",
    "def remove_determiner_sentences(list):\n",
    "    for i in range(len(list)):\n",
    "        list[i] = remove_determiner(list[i])\n",
    "    return list\n",
    "\n",
    "\n",
    "# Function for removing auxiliary at sentence level\n",
    "def remove_auxiliary(sentence):\n",
    "    sentence = sentence.replace(\"I am\", \"I\")\n",
    "    sentence = sentence.replace(\"I 'm\", \"I\")\n",
    "    sentence = sentence.replace(\"I was\", \"I\")\n",
    "    sentence = sentence.replace(\"I were\", \"I\")\n",
    "    sentence = sentence.replace(\"you are\", \"you\")\n",
    "    sentence = sentence.replace(\"you were\", \"you\")\n",
    "    sentence = sentence.replace(\"you 're\", \"you\")\n",
    "    sentence = sentence.replace(\"he is\", \"he\")\n",
    "    sentence = sentence.replace(\"he was\", \"he\")\n",
    "    sentence = sentence.replace(\"he 's\", \"he\")\n",
    "    sentence = sentence.replace(\"she is\", \"she\")\n",
    "    sentence = sentence.replace(\"she was\", \"she\")\n",
    "    sentence = sentence.replace(\"she 's\", \"he\")\n",
    "    sentence = sentence.replace(\"they are\", \"they\")\n",
    "    sentence = sentence.replace(\"they 're\", \"they\")\n",
    "    sentence = sentence.replace(\"they were\", \"they\")\n",
    "    return sentence\n",
    "\n",
    "\n",
    "# Fix suffix token at sentence level (you can use this function together with spacy tokenization)\n",
    "def fix_suffix(sentence, spacy_token=False):\n",
    "    if spacy_token is False:\n",
    "        sentence = sentence.replace(\"'m\", \" am\")\n",
    "        sentence = sentence.replace(\"'s\", \" is\")\n",
    "        sentence = sentence.replace(\"'re\", \" are\")\n",
    "    else:\n",
    "        sentence = sentence.replace(\"'m\", \"am\")\n",
    "        sentence = sentence.replace(\"'s\", \"is\")\n",
    "        sentence = sentence.replace(\"'re\", \"are\")\n",
    "    return sentence\n",
    "\n",
    "\n",
    "# Fix suffix token at sentence level for a list of sentences\n",
    "def fix_suffix_sentences(list, spacy_token):\n",
    "    for i in range(len(list)):\n",
    "        list[i] = fix_suffix(list[i], spacy_token)\n",
    "    return list\n",
    "\n",
    "\n",
    "# Function for removing auxiliary at sentence level for a list of sentences\n",
    "def remove_auxiliary_sentences(list):\n",
    "    for i in range(len(list)):\n",
    "        list[i] = remove_auxiliary(list[i])\n",
    "    return list\n",
    "\n",
    "\n",
    "# Function for removing that connector at sentence level\n",
    "def remove_connector(sentence):\n",
    "    sentence = sentence.replace(\" that\", \"\")\n",
    "    return sentence\n",
    "\n",
    "\n",
    "# Function for removing that connector at sentence level for a list of sentences\n",
    "def remove_connector_sentences(list):\n",
    "    for i in range(len(list)):\n",
    "        list[i] = remove_connector(list[i])\n",
    "    return list\n",
    "\n",
    "\n",
    "# Function for correcting dictation\n",
    "def correct_dictation(sentence):\n",
    "    sentence = TextBlob(sentence)\n",
    "    result = sentence.correct()\n",
    "    return result\n",
    "\n",
    "\n",
    "# Function for correcting dication for a list of sentences\n",
    "def correct_dication_sentences(list):\n",
    "    for i in range(len(list)):\n",
    "        list[i] = correct_dictation(list[i])\n",
    "    return list\n",
    "\n",
    "\n",
    "# Function for removing emojis\n",
    "def remove_emoji(sentence):\n",
    "    # removing emojis\n",
    "    result = clean(sentence, no_emoji=True)\n",
    "    # returning cleaned sentence\n",
    "    return result\n",
    "\n",
    "\n",
    "# Function for removing emojis for a list of sentences\n",
    "def remove_emoji_sentences(list):\n",
    "    for i in range(len(list)):\n",
    "        list[i] = remove_emoji(list[i])\n",
    "    return list\n",
    "\n",
    "\n",
    "# reading dataset from a .txt file\n",
    "def read_data(filename):\n",
    "    labels, sentences = [], []\n",
    "    with open(filename) as f:\n",
    "        for line in f:\n",
    "            t = int(line[0])\n",
    "            labels.append([t, 1 - t])\n",
    "            sentences.append(line[1:].strip())\n",
    "    return labels, sentences\n",
    "\n",
    "\n",
    "# Function for SpaCy Tokenization\n",
    "def suffix_tokenizer(list):\n",
    "    # tokenizing each sentence in the list\n",
    "    list = tokeniser.tokenise_sentences(list)\n",
    "    # merging the tokenized words back into a sentence\n",
    "    for i in range(len(list)):\n",
    "        list[i] = ' '.join(list[i])\n",
    "    # returning tokenized list\n",
    "    return list"
   ]
  },
  {
   "cell_type": "code",
   "execution_count": 22,
   "id": "28c89f32-7566-4e5d-b5c4-3779386de1d2",
   "metadata": {},
   "outputs": [
    {
     "name": "stdout",
     "output_type": "stream",
     "text": [
      "323\n"
     ]
    }
   ],
   "source": [
    "# train/test split\n",
    "\n",
    "# training dataset\n",
    "train_labels, train_data = read_data('bc_train_data.txt')\n",
    "# validation dataset\n",
    "dev_labels, dev_data = read_data('bc_dev_data.txt')\n",
    "# test dataset\n",
    "test_labels, test_data = read_data('bc_test_data.txt')\n",
    "\n",
    "labels = train_labels + dev_labels + test_labels\n",
    "data = train_data + dev_data + test_data\n",
    "\n",
    "pairs = list(zip(labels, data))\n",
    "random.seed(0)\n",
    "random.shuffle(pairs)\n",
    "print(len(pairs))\n",
    "\n",
    "N_EXAMPLES = len(pairs)"
   ]
  },
  {
   "cell_type": "code",
   "execution_count": 23,
   "id": "a722fc30-3d4f-4462-b14c-1c964a440d27",
   "metadata": {},
   "outputs": [],
   "source": [
    "# Shuffling datasets\n",
    "train_labels, train_data = zip(*pairs[:round(N_EXAMPLES * 0.4)])\n",
    "dev_labels, dev_data = zip(*pairs[round(N_EXAMPLES * 0.4):round(N_EXAMPLES * 0.8)])\n",
    "test_labels, test_data = zip(*pairs[round(N_EXAMPLES * 0.8):])\n",
    "\n",
    "# training set words (with repetition)\n",
    "train_data_string = ' '.join(train_data)\n",
    "train_data_list = train_data_string.split(' ')\n",
    "# validation set words (with repetition)\n",
    "dev_data_string = ' '.join(dev_data)\n",
    "dev_data_list = dev_data_string.split(' ')\n",
    "# test set words (with repetition)\n",
    "test_data_string = ' '.join(test_data)\n",
    "test_data_list = test_data_string.split(' ')"
   ]
  },
  {
   "cell_type": "code",
   "execution_count": 24,
   "id": "061ff92f-2f45-465a-a3a5-99dd90c58d16",
   "metadata": {},
   "outputs": [],
   "source": [
    "# initializing spacy tokenizer\n",
    "tokeniser = lambeq.SpacyTokeniser()"
   ]
  },
  {
   "cell_type": "code",
   "execution_count": 25,
   "id": "1882e110-f10f-4513-8a4b-623dfff3afd3",
   "metadata": {},
   "outputs": [],
   "source": [
    "\"\"\"\n",
    "tokenize for words with suffix (We can use either the SpaCy tokenizer or the fix_suffix method)\n",
    "Note : using both suffix_tokenizer and fix_suffix_sentences essentially allows the model to perform better\n",
    "\"\"\"\n",
    "# suffix tokenizing for training dataset\n",
    "train_data = suffix_tokenizer(train_data)\n",
    "train_data = fix_suffix_sentences(train_data, spacy_token=True)\n",
    "# suffix tokenizing for validation dataset\n",
    "dev_data = suffix_tokenizer(dev_data)\n",
    "dev_data = fix_suffix_sentences(dev_data, spacy_token=True)\n",
    "# suffix tokenizing for testing dataset\n",
    "test_data = suffix_tokenizer(test_data)\n",
    "test_data = fix_suffix_sentences(test_data, spacy_token=True)"
   ]
  },
  {
   "cell_type": "code",
   "execution_count": 26,
   "id": "7b4c8060-f645-42fc-8402-8f58d5444b30",
   "metadata": {},
   "outputs": [],
   "source": [
    "for i in range(len(train_data)):\n",
    "    # rewriting training sentences for parser on sentence level (Use when not using Rewriter Object)\n",
    "    # (Can use remove_dots_commas in either case)\n",
    "    train_data[i] = remove_dots_commas(train_data[i])\n",
    "    train_data[i] = remove_connector(train_data[i])\n",
    "    train_data[i] = remove_auxiliary(train_data[i])\n",
    "    train_data[i] = remove_determiner(train_data[i])"
   ]
  },
  {
   "cell_type": "code",
   "execution_count": 27,
   "id": "aa199d84-9e29-44a1-90e0-f028debc4d63",
   "metadata": {},
   "outputs": [],
   "source": [
    "for i in range(len(dev_data)):\n",
    "    # rewriting validation sentences for parser on sentence level (Use when not using Rewriter Object)\n",
    "    # (Can use remove_dots_commas in either case)\n",
    "    dev_data[i] = remove_dots_commas(dev_data[i])\n",
    "    dev_data[i] = remove_connector(dev_data[i])\n",
    "    dev_data[i] = remove_auxiliary(dev_data[i])\n",
    "    dev_data[i] = remove_determiner(dev_data[i])"
   ]
  },
  {
   "cell_type": "code",
   "execution_count": 28,
   "id": "5302d677-9c84-4114-a7a7-61deaf045f4b",
   "metadata": {},
   "outputs": [],
   "source": [
    "for i in range(len(test_data)):\n",
    "    # rewriting testing sentences for parser on sentence level (Use when not using Rewriter Object)\n",
    "    # (Can use remove_dots_commas in either case)\n",
    "    test_data[i] = remove_dots_commas(test_data[i])\n",
    "    test_data[i] = remove_connector(test_data[i])\n",
    "    test_data[i] = remove_auxiliary(test_data[i])\n",
    "    test_data[i] = remove_determiner(test_data[i])"
   ]
  },
  {
   "cell_type": "code",
   "execution_count": 29,
   "id": "6a3daa25-3270-4b28-93bc-c9ddb1b76f6e",
   "metadata": {},
   "outputs": [
    {
     "name": "stdout",
     "output_type": "stream",
     "text": [
      "Counter({'.': 323, 'I': 83, 'he': 72, 'she': 66, 'to': 65, 'a': 61, 'was': 59, 'the': 53, 'is': 46, 'am': 30, 'happy': 29, 'of': 28, 'man': 26, 'her': 26, 'sad': 25, 'depressed': 24, 'upset': 23, 'you': 21, 'suicide': 20, 'in': 19, 'very': 19, 'and': 16, 'depression': 15, 'are': 15, 'crying': 15, 'good': 15, 'my': 14, 'for': 14, 'his': 14, 'woman': 13, 'it': 13, 'cry': 13, 'great': 13, 'we': 13, 'lonely': 12, 'him': 12, 'because': 12, 'they': 12, 'with': 10, 'life': 10, 'by': 9, 'have': 9, 'love': 9, 'dream': 8, 'joyful': 8, 'committed': 8, 'see': 8, 'dance': 8, 'about': 8, 'had': 8, 'that': 7, 'people': 7, 'feel': 7, 'be': 7, 'person': 7, 'depressing': 7, 'room': 7, 'like': 7, 'lovely': 6, 'me': 6, 'this': 6, 'success': 6, 'feeling': 6, 'felt': 6, 'has': 6, 'remorse': 5, 'helps': 5, \"she's\": 5, 'laughing': 5, 'all': 5, 'at': 5, 'failure': 5, 'loves': 5, 'would': 5, 'herself': 5, 'himself': 5, 'sadness': 5, 'today': 5, 'disappoint': 5, 'anxiety': 5, 'cries': 5, 'makes': 4, 'lucky': 4, 'play': 4, 'meal': 4, 'treat': 4, 'glad': 4, 'kind': 4, 'something': 4, 'should': 4, 'help': 4, 'anger': 3, 'suffered': 3, 'agonies': 3, 'every': 3, 'day': 3, 'laugh': 3, 'shower': 3, 'alone': 3, 'their': 3, 'decision': 3, 'failed': 3, 'exam': 3, 'world': 3, 'started': 3, 'perfect': 3, 'lead': 3, 'on': 3, 'as': 3, 'successful': 3, 'nightmare': 3, 'killed': 3, 'expressed': 3, 'smiling': 3, 'much': 3, 'were': 3, 'listen': 3, 'commited': 3, 'surprise': 3, 'unhappy': 3, 'fearful': 3, 'smile': 3, 'knew': 3, 'depress': 3, \"he's\": 3, 'did': 3, 'sleep': 3, 'when': 3, 'commit': 3, 'happiness': 3, 'photo': 2, 'holding': 2, 'cooks': 2, 'dinner': 2, 'heart': 2, 'so': 2, 'mom': 2, 'family': 2, 'together': 2, 'runs': 2, \"you're\": 2, 'confused': 2, 'ashamed': 2, \"they're\": 2, 'way': 2, 'from': 2, 'doing': 2, 'appreciate': 2, 'must': 2, '': 2, 'cooking': 2, 'sorrow': 2, 'kills': 2, 'fell': 2, 'into': 2, 'thought': 2, 'again': 2, 'make': 2, 'try': 2, 'amazing': 2, 'suicidal': 2, 'points': 2, 'read': 2, 'letter': 2, 'two': 2, 'wants': 2, 'going': 2, 'area': 2, 'sudden': 2, 'time': 2, 'share': 2, 'others': 2, 'hate': 2, 'began': 2, 'little': 2, 'over': 2, 'month': 2, 'sorry': 2, 'will': 2, 'back': 2, 'attempted': 2, 'rising': 2, 'angry': 2, 'note': 2, 'appreciates': 2, 'days': 2, 'came': 2, 'who': 2, 'not': 2, 'overwhelmed': 2, 'really': 2, 'hope': 2, 'without': 2, 'consider': 2, 'friends': 2, 'take': 1, 'said': 1, 'caused': 1, 'recalled': 1, 'blooming': 1, 'visage': 1, 'saw': 1, 'told': 1, 'reunion': 1, 'They': 1, 'yesterday': 1, 'drunk': 1, 'end': 1, 'party': 1, 'grieving': 1, 'software': 1, 'state': 1, 'mind': 1, 'likely': 1, 'lot': 1, 'too': 1, 'rational': 1, 'hurt': 1, 'use': 1, 'only': 1, 'figure': 1, 'board': 1, 'mourn': 1, 'suit': 1, 'allow': 1, 'speculated': 1, 'might': 1, 'smooched': 1, 'floor': 1, 'fish': 1, 'rage': 1, 'pierced': 1, 'core': 1, 'desperately': 1, 'looked': 1, 'misery': 1, 'awake': 1, 'such': 1, 'taking': 1, 'hated': 1, 'forget': 1, 'affair': 1, 'background': 1, 'right': 1, 'school': 1, 'talk': 1, 'evidence': 1, 'bakes': 1, 'tasty': 1, 'suiced': 1, 'meeting': 1, 'between': 1, 'families': 1, 'one': 1, 'sorrowful': 1, 'shed': 1, 'tears': 1, 'cancel': 1, 'concert': 1, 'bound': 1, 'fans': 1, 'kill': 1, 'occasioned': 1, 'around': 1, 'news': 1, 'death': 1, 'result': 1, 'spotted': 1, 'danger': 1, 'student': 1, 'keyhole': 1, 'boy': 1, 'braced': 1, 'add': 1, 'mounted': 1, 'want': 1, 'having': 1, 'road': 1, 'heard': 1, 'shocked': 1, 'no': 1, 'wonder': 1, 'stair': 1, 'bled': 1, 'poor': 1, 'children': 1, 'outside': 1, 'cut': 1, 'off': 1, 'any': 1, 'reason': 1, 'investigation': 1, 'drive': 1, 'thick': 1, 'fog': 1, 'realised': 1, 'becoming': 1, 'increasingly': 1, 'story': 1, 'made': 1, 'us': 1, 'owe': 1, 'helping': 1, 'rainy': 1, 'always': 1, 'singing': 1, 'songs': 1, 'joy': 1, 'suffering': 1, 'distressed': 1, 'committing': 1, 'living': 1, 'hobby': 1, 'certainly': 1, 'audience': 1, 'jumped': 1, 'yelp': 1, 'just': 1, 'surge': 1, 'say': 1, 'regretted': 1, 'if': 1, 'deliberately': 1, 'trying': 1, 'drug': 1, 'wedding': 1, 'celebration': 1, 'feelings': 1, 'feels': 1, 'constantly': 1, 'young': 1, 'standing': 1, 'bus': 1, 'stop': 1, 'mass': 1, 'visibly': 1, 'eyes': 1, 'deep': 1, 'more': 1, 'show': 1, 'truly': 1, 'baby': 1, 'gets': 1, 'leave': 1, 'home': 1, 'animals': 1, \"I'm\": 1, 'crime': 1, 'yours': 1, 'prepares': 1, 'overtaken': 1, 'dreaded': 1, 'deal': 1, 'died': 1, 'leaving': 1, 'report': 1, 'seemed': 1, 'anxious': 1, 'after': 1, 'buried': 1, 'friend': 1, 'lived': 1, 'filled': 1, 'three': 1, 'later': 1, 'humble': 1, 'uttered': 1, 'wordless': 1, 'complete': 1, 'quite': 1, 'someone': 1, 'laughs': 1, 'exhibited': 1, 'symptoms': 1, 'crimes': 1, 'attempt': 1, 'can': 1, 'traced': 1, 'games': 1, 'angery': 1, 'some': 1, 'babies': 1, 'during': 1, 'night': 1, 'need': 1, 'there': 1, 'unconfirmed': 1, 'reports': 1, 'tried': 1, 'partnered': 1, 'up': 1, 'repeatedly': 1, 'threatened': 1, 'nuzzled': 1, 'neck': 1, 'move': 1, 'writes': 1, 'letters': 1, 'next': 1, 'new': 1, 'job': 1, 'sister': 1, 'put': 1, 'face': 1, 'got': 1, 'smiles': 1, 'sees': 1, 'kicked': 1, 'out': 1, 'being': 1, 'work': 1, 'boys': 1, 'wanted': 1, 'starves': 1, 'friendship': 1})\n"
     ]
    }
   ],
   "source": [
    "# dataset words (with repetition)\n",
    "dataset = train_data_list + dev_data_list + test_data_list\n",
    "# list of all unique words in the dataset\n",
    "unique_words = unique(dataset)\n",
    "# frequency for each unique word\n",
    "counter = collections.Counter(dataset)\n",
    "print(counter)"
   ]
  },
  {
   "cell_type": "code",
   "execution_count": 30,
   "id": "b4b1f8ba-3161-44a0-8eb7-c1f7055c848b",
   "metadata": {},
   "outputs": [],
   "source": [
    "# initializing the replace functor for UNK tokenization\n",
    "replace_functor = Functor(ob=lambda x: x, ar=replace)"
   ]
  },
  {
   "cell_type": "code",
   "execution_count": 31,
   "id": "9afc8a70-25c8-42aa-aad4-e919a0452742",
   "metadata": {},
   "outputs": [],
   "source": [
    "# initializing rewriter\n",
    "rewriter = Rewriter(\n",
    "    ['prepositional_phrase', 'determiner', 'auxiliary', 'curry', 'coordination', 'connector', 'preadverb', 'postadverb',\n",
    "     'prepositional_phrase'])"
   ]
  },
  {
   "cell_type": "code",
   "execution_count": 32,
   "id": "06f267fa-53a2-4d90-9eee-3b76b5209577",
   "metadata": {},
   "outputs": [],
   "source": [
    "# initializing the parser\n",
    "parser = spiders_reader\n",
    "# parser = BobcatParser\n",
    "# parser = cups_reader\n",
    "# parser = stairs_reader"
   ]
  },
  {
   "cell_type": "code",
   "execution_count": 33,
   "id": "0acebb4c-9377-4fcf-a8e8-79656d741dc6",
   "metadata": {},
   "outputs": [],
   "source": [
    "# parsing the dataset into sentence diagrams\n",
    "raw_train_diagrams = parser.sentences2diagrams(train_data)\n",
    "raw_dev_diagrams = parser.sentences2diagrams(dev_data)\n",
    "raw_test_diagrams = parser.sentences2diagrams(test_data)"
   ]
  },
  {
   "cell_type": "code",
   "execution_count": 34,
   "id": "b1ec1307-b52f-44ca-899c-1332d3ccbdbc",
   "metadata": {},
   "outputs": [],
   "source": [
    "\"\"\"\n",
    "Note : IF you are not using preprocessing at sentence level for rewrite rules besides remove_dots_commas, uncomment the\n",
    "rewrite lines below with the normal_form() for normalizing the diagram. Given we are using spiders_reader, we will not\n",
    "use the Rewriter object.\n",
    "\"\"\"\n",
    "# Rewriting the sentence diagrams\n",
    "for i in range(len(raw_train_diagrams)):\n",
    "    # raw_train_diagrams[i] = rewriter(raw_train_diagrams[i])\n",
    "    # raw_train_diagrams[i] = raw_train_diagrams[i].normal_form()\n",
    "\n",
    "    # Tokenizing low occuring words in training dataset\n",
    "    raw_train_diagrams[i] = replace_functor(raw_train_diagrams[i])\n",
    "\n",
    "for i in range(len(raw_dev_diagrams)):\n",
    "    # raw_dev_diagrams[i] = rewriter(raw_dev_diagrams[i])\n",
    "    # raw_dev_diagrams[i] = raw_dev_diagrams[i].normal_form()\n",
    "\n",
    "    # Tokenizing low occuring words in validation dataset\n",
    "    raw_dev_diagrams[i] = replace_functor(raw_dev_diagrams[i])\n",
    "\n",
    "for i in range(len(raw_test_diagrams)):\n",
    "    # raw_test_diagrams[i] = rewriter(raw_test_diagrams[i])\n",
    "    # raw_test_diagrams[i] = raw_test_diagrams[i].normal_form()\n",
    "\n",
    "    # Tokenizing low occuring words in test dataset\n",
    "    raw_test_diagrams[i] = replace_functor(raw_test_diagrams[i])"
   ]
  },
  {
   "cell_type": "code",
   "execution_count": 35,
   "id": "1ee16083-8e23-40b6-9112-43e14d4e75fc",
   "metadata": {},
   "outputs": [],
   "source": [
    "# merging all diagrams into one for checking the new words\n",
    "raw_all_diagrams = raw_train_diagrams + raw_dev_diagrams + raw_test_diagrams"
   ]
  },
  {
   "cell_type": "code",
   "execution_count": 36,
   "id": "8a33652b-b88f-4f8a-967f-c5e94e123411",
   "metadata": {},
   "outputs": [],
   "source": [
    "# removing cups (after performing top-to-bottom scan of the word diagrams)\n",
    "train_diagrams = [remove_cups(diagram) for diagram in raw_train_diagrams]\n",
    "dev_diagrams = [remove_cups(diagram) for diagram in raw_dev_diagrams]\n",
    "test_diagrams = [remove_cups(diagram) for diagram in raw_test_diagrams]"
   ]
  },
  {
   "cell_type": "code",
   "execution_count": 42,
   "id": "8d6113a3-ea92-44f5-baf6-fd09626906ea",
   "metadata": {},
   "outputs": [],
   "source": [
    "\"\"\"\n",
    "Circuit Ansatz\n",
    "==============\n",
    "A circuit ansatz is used to convert a DisCoCat diagram into a quantum circuit.\n",
    "\"\"\"\n",
    "\n",
    "__all__ = ['CircuitAnsatz', 'IQPAnsatz']\n",
    "\n",
    "from collections.abc import Mapping\n",
    "from typing import Any, Callable, Optional\n",
    "\n",
    "from discopy.quantum.circuit import (Circuit, Discard, Functor, Id, qubit)\n",
    "from discopy.quantum.gates import Bra, Ket, Rx, Rz\n",
    "from discopy.rigid import Box, Diagram, Ty\n",
    "import numpy as np\n",
    "\n",
    "from lambeq.ansatz import BaseAnsatz, Symbol\n",
    "\n",
    "_ArMapT = Callable[[Box], Circuit]"
   ]
  },
  {
   "cell_type": "code",
   "execution_count": 43,
   "id": "8f171318-ecda-4376-847c-51fa21cb4e1f",
   "metadata": {},
   "outputs": [],
   "source": [
    "from discopy.quantum.circuit import (Circuit, Discard, Functor, Id, qubit)\n",
    "\n",
    "class Sim13ansatz(Circuit):\n",
    "    \"\"\"\n",
    "    Builds an ansatz on n qubits matching circuit 13 from arXiv:1905.10876\n",
    "        If n=1, returns Euler decomposition.\n",
    "    >>> pprint = lambda c: print(str(c).replace(' >>', '\\\\n  >>'))\n",
    "    >>> pprint(Sim13ansatz(3, [[i/10 for i in range(12)]]))\n",
    "    Ry(0) @ Id(2)\n",
    "      >> Id(1) @ Ry(0.1) @ Id(1)\n",
    "      >> Id(2) @ Ry(0.2)\n",
    "      >> CRz(0.3)\n",
    "      >> CRz(0.4) @ Id(1)\n",
    "      >> Id(1) @ CRz(0.5)\n",
    "      >> Ry(0.6) @ Id(2)\n",
    "      >> Id(1) @ Ry(0.7) @ Id(1)\n",
    "      >> Id(2) @ Ry(0.8)\n",
    "      >> CRz(0.9) @ Id(1)\n",
    "      >> CRz(1)\n",
    "      >> Id(1) @ CRz(1.1)\n",
    "    >>> pprint(Sim13ansatz(1, [0.1, 0.2, 0.3]))\n",
    "    Rx(0.1)\n",
    "      >> Rz(0.2)\n",
    "      >> Rx(0.3)\n",
    "    \"\"\"\n",
    "\n",
    "    def __init__(self, n_qubits, params):\n",
    "        from discopy.quantum.gates import Rx, Ry, Rz\n",
    "\n",
    "        def layer(thetas):\n",
    "            sublayer1 = Id().tensor(\n",
    "                *([Ry(theta) for theta in thetas[:n_qubits]]))\n",
    "\n",
    "            for i in range(n_qubits):\n",
    "                src = i\n",
    "                tgt = (i - 1) % n_qubits\n",
    "                sublayer1 = sublayer1.CRz(thetas[n_qubits + i], src, tgt)\n",
    "\n",
    "            sublayer2 = Id().tensor(\n",
    "                *([Ry(theta) for theta in thetas[2 * n_qubits: 3 * n_qubits]]))\n",
    "\n",
    "            for i in range(n_qubits, 0, -1):\n",
    "                src = i % n_qubits\n",
    "                tgt = (i + 1) % n_qubits\n",
    "                sublayer2 = sublayer2.CRz(thetas[-i], src, tgt)\n",
    "\n",
    "            return sublayer1 >> sublayer2\n",
    "\n",
    "        params_shape = Tensor.np.shape(params)\n",
    "\n",
    "        if n_qubits == 1:\n",
    "            circuit = Rx(params[0]) >> Rz(params[1]) >> Rx(params[2])\n",
    "        elif (len(params_shape) != 2) or (params_shape[1] != 4 * n_qubits):\n",
    "            raise ValueError(\n",
    "                \"Expected params of shape (depth, {})\".format(4 * n_qubits))\n",
    "        else:\n",
    "            depth = params_shape[0]\n",
    "            circuit = Id(n_qubits).then(*(\n",
    "                layer(params[i]) for i in range(depth)))\n",
    "\n",
    "        super().__init__(\n",
    "            circuit.dom, circuit.cod, circuit.boxes, circuit.offsets)        "
   ]
  },
  {
   "cell_type": "code",
   "execution_count": 44,
   "id": "9d340d0e-8d3e-4446-89bd-09ea26ea12de",
   "metadata": {},
   "outputs": [],
   "source": [
    "class Sim14ansatz(Circuit):\n",
    "    \"\"\"\n",
    "    Builds an ansatz on n qubits matching circuit 14 from arXiv:1905.10876\n",
    "        If n=1, returns Euler decomposition.\n",
    "    >>> pprint = lambda c: print(str(c).replace(' >>', '\\\\n  >>'))\n",
    "    >>> pprint(Sim14ansatz(3, [[i/10 for i in range(12)]]))\n",
    "    Ry(0) @ Id(2)\n",
    "      >> Id(1) @ Ry(0.1) @ Id(1)\n",
    "      >> Id(2) @ Ry(0.2)\n",
    "      >> CRx(0.3)\n",
    "      >> CRx(0.4) @ Id(1)\n",
    "      >> Id(1) @ CRx(0.5)\n",
    "      >> Ry(0.6) @ Id(2)\n",
    "      >> Id(1) @ Ry(0.7) @ Id(1)\n",
    "      >> Id(2) @ Ry(0.8)\n",
    "      >> CRx(0.9) @ Id(1)\n",
    "      >> CRx(1)\n",
    "      >> Id(1) @ CRx(1.1)\n",
    "    >>> pprint(Sim14ansatz(1, [0.1, 0.2, 0.3]))\n",
    "    Rx(0.1)\n",
    "      >> Rz(0.2)\n",
    "      >> Rx(0.3)\n",
    "    \"\"\"\n",
    "\n",
    "    def __init__(self, n_qubits, params):\n",
    "        from discopy.quantum.gates import Rx, Ry, Rz\n",
    "\n",
    "        def layer(thetas):\n",
    "            sublayer1 = Id().tensor(\n",
    "                *([Ry(theta) for theta in thetas[:n_qubits]]))\n",
    "\n",
    "            for i in range(n_qubits):\n",
    "                src = i\n",
    "                tgt = (i - 1) % n_qubits\n",
    "                sublayer1 = sublayer1.CRx(thetas[n_qubits + i], src, tgt)\n",
    "\n",
    "            sublayer2 = Id().tensor(\n",
    "                *([Ry(theta) for theta in thetas[2 * n_qubits: 3 * n_qubits]]))\n",
    "\n",
    "            for i in range(n_qubits, 0, -1):\n",
    "                src = i % n_qubits\n",
    "                tgt = (i + 1) % n_qubits\n",
    "                sublayer2 = sublayer2.CRx(thetas[-i], src, tgt)\n",
    "\n",
    "            return sublayer1 >> sublayer2\n",
    "\n",
    "        params_shape = Tensor.np.shape(params)\n",
    "\n",
    "        if n_qubits == 1:\n",
    "            circuit = Rx(params[0]) >> Rz(params[1]) >> Rx(params[2])\n",
    "        elif (len(params_shape) != 2) or (params_shape[1] != 4 * n_qubits):\n",
    "            raise ValueError(\n",
    "                \"Expected params of shape (depth, {})\".format(4 * n_qubits))\n",
    "        else:\n",
    "            depth = params_shape[0]\n",
    "            circuit = Id(n_qubits).then(*(\n",
    "                layer(params[i]) for i in range(depth)))\n",
    "\n",
    "        super().__init__(\n",
    "            circuit.dom, circuit.cod, circuit.boxes, circuit.offsets)"
   ]
  },
  {
   "cell_type": "code",
   "execution_count": 45,
   "id": "da361b2c-44c0-483d-aa0a-ec5539e7fd09",
   "metadata": {},
   "outputs": [],
   "source": [
    "class Sim15ansatz(Circuit):\n",
    "    \"\"\"\n",
    "    Builds an ansatz on n qubits matching circuit 15 from arXiv:1905.10876\n",
    "        If n=1, returns Euler decomposition.\n",
    "    >>> pprint = lambda c: print(str(c).replace(' >>', '\\\\n  >>'))\n",
    "    >>> pprint(Sim15ansatz(3, [[0.1, 0.2, 0.3, 0.4, 0.5, 0.6]]))\n",
    "    Ry(0.1) @ Id(2)\n",
    "      >> Id(1) @ Ry(0.2) @ Id(1)\n",
    "      >> Id(2) @ Ry(0.3)\n",
    "      >> CX\n",
    "      >> CX @ Id(1)\n",
    "      >> Id(1) @ CX\n",
    "      >> Ry(0.4) @ Id(2)\n",
    "      >> Id(1) @ Ry(0.5) @ Id(1)\n",
    "      >> Id(2) @ Ry(0.6)\n",
    "      >> CX @ Id(1)\n",
    "      >> CX\n",
    "      >> Id(1) @ CX\n",
    "    >>> pprint(Sim15ansatz(1, [0.1, 0.2, 0.3]))\n",
    "    Rx(0.1)\n",
    "      >> Rz(0.2)\n",
    "      >> Rx(0.3)\n",
    "    \"\"\"\n",
    "\n",
    "    def __init__(self, n_qubits, params):\n",
    "        from discopy.quantum.gates import Rx, Ry, Rz\n",
    "\n",
    "        def layer(thetas):\n",
    "            sublayer1 = Id().tensor(\n",
    "                *([Ry(theta) for theta in thetas[:n_qubits]]))\n",
    "\n",
    "            for i in range(n_qubits):\n",
    "                src = i\n",
    "                tgt = (i - 1) % n_qubits\n",
    "                sublayer1 = sublayer1.CZ(src, tgt)\n",
    "\n",
    "            sublayer2 = Id().tensor(\n",
    "                *([Ry(theta) for theta in thetas[n_qubits:]]))\n",
    "\n",
    "            for i in range(n_qubits, 0, -1):\n",
    "                src = i % n_qubits\n",
    "                tgt = (i + 1) % n_qubits\n",
    "                sublayer2 = sublayer2.CZ(src, tgt)\n",
    "\n",
    "            return sublayer1 >> sublayer2\n",
    "\n",
    "        params_shape = Tensor.np.shape(params)\n",
    "\n",
    "        if n_qubits == 1:\n",
    "            circuit = Rx(params[0]) >> Rz(params[1]) >> Rx(params[2])\n",
    "        elif (len(params_shape) != 2) or (params_shape[1] != 2 * n_qubits):\n",
    "            raise ValueError(\n",
    "                \"Expected params of shape (depth, {})\".format(2 * n_qubits))\n",
    "        else:\n",
    "            depth = params_shape[0]\n",
    "            circuit = Id(n_qubits).then(*(\n",
    "                layer(params[i]) for i in range(depth)))\n",
    "\n",
    "        super().__init__(\n",
    "            circuit.dom, circuit.cod, circuit.boxes, circuit.offsets)"
   ]
  },
  {
   "cell_type": "code",
   "execution_count": 52,
   "id": "b635b710-87f5-405b-a65a-fb400d99d4a8",
   "metadata": {},
   "outputs": [],
   "source": [
    "from __future__ import annotations\n",
    "\n",
    "class CircuitAnsatz(BaseAnsatz):\n",
    "    \"\"\"Base class for circuit ansatz.\"\"\"\n",
    "\n",
    "    def __init__(self, ob_map: Mapping[Ty, int], **kwargs: Any) -> None:\n",
    "        \"\"\"Instantiate a circuit ansatz.\n",
    "        Parameters\n",
    "        ----------\n",
    "        ob_map : dict\n",
    "            A mapping from :py:class:`discopy.rigid.Ty` to the number of\n",
    "            qubits it uses in a circuit.\n",
    "        **kwargs : dict\n",
    "            Extra parameters for ansatz configuration.\n",
    "        \"\"\"\n",
    "        self.ob_map = ob_map\n",
    "        self.functor = Functor({}, {})\n",
    "\n",
    "    def __call__(self, diagram: Diagram) -> Circuit:\n",
    "        \"\"\"Convert a DisCoPy diagram into a DisCoPy circuit.\"\"\"\n",
    "        return self.functor(diagram)\n",
    "\n",
    "    def _ob(self, pg_type: Ty) -> int:\n",
    "        \"\"\"Calculate the number of qubits used for a given type.\"\"\"\n",
    "        return sum(self.ob_map[Ty(factor.name)] for factor in pg_type)\n",
    "\n",
    "    def _special_cases(self, ar_map: _ArMapT) -> _ArMapT:\n",
    "        \"\"\"Convert a DisCoPy box into a tket Circuit element\"\"\"\n",
    "        return ar_map"
   ]
  },
  {
   "cell_type": "code",
   "execution_count": 53,
   "id": "e37401a5-257c-4e19-aaec-16ed1fdb5600",
   "metadata": {},
   "outputs": [],
   "source": [
    "def _sim_ansatz_factory(sim_circuit_n=13):\n",
    "    \"\"\"Generate a SimAnsatz class for the specified Sim ansatz.\n",
    "    Parameters\n",
    "    ----------\n",
    "    sim_circuit_n : int\n",
    "        Circuit number, according to arXiv:1905.10876\n",
    "    \"\"\"\n",
    "\n",
    "    # Map from Sim circuit number to a function specifying\n",
    "    # number of params, given the number of qubits\n",
    "    param_count_fns = {13: lambda n_qbs: 4 * n_qbs,\n",
    "                       14: lambda n_qbs: 4 * n_qbs,\n",
    "                       15: lambda n_qbs: 2 * n_qbs}\n",
    "\n",
    "    sim_discopy_classes = {13: Sim13ansatz, 14: Sim14ansatz, 15: Sim15ansatz}\n",
    "\n",
    "    if sim_circuit_n not in sim_discopy_classes:\n",
    "        raise ValueError(f'Invalid Sim circuit name: {sim_circuit_n}')\n",
    "\n",
    "    class SimAnsatz(CircuitAnsatz):\n",
    "        \"\"\" Sim circuit ansatz (arXiv:1905.10876)\n",
    "        Multiple Sim ansatze can be created, using the available\n",
    "         DisCoPy classes specified in `sim_discopy_classes`.\n",
    "        \"\"\"\n",
    "\n",
    "        def __init__(self,\n",
    "                     ob_map: Mapping[Ty, int],\n",
    "                     n_layers: int,\n",
    "                     n_single_qubit_params: int = 3,\n",
    "                     discard: bool = False,\n",
    "                     special_cases: Optional[Callable[[_ArMapT],\n",
    "                                                      _ArMapT]] = None):\n",
    "            \"\"\"Instantiate Sim circuit ansatz (arXiv:1905.10876).\n",
    "            Parameters\n",
    "            ----------\n",
    "            ob_map : dict\n",
    "                A mapping from :py:class:`discopy.rigid.Ty` to the number of\n",
    "                qubits it uses in a circuit.\n",
    "            n_layers : int\n",
    "                The number of IQP layers used by the ansatz.\n",
    "            n_single_qubit_params : int, default: 3\n",
    "                The number of single qubit rotations used by the ansatz.\n",
    "            discard : bool, default: False\n",
    "                Discard open wires instead of post-selecting.\n",
    "            special_cases : callable, optional\n",
    "                A function that transforms an arrow map into one specifying\n",
    "                special cases that should not be converted by the Ansatz\n",
    "                class.\n",
    "            \"\"\"\n",
    "\n",
    "            super().__init__(ob_map=ob_map, n_layers=n_layers,\n",
    "                             n_single_qubit_params=n_single_qubit_params)\n",
    "\n",
    "            if special_cases is None:\n",
    "                special_cases = self._special_cases\n",
    "\n",
    "            self.n_layers = n_layers\n",
    "            self.n_single_qubit_params = n_single_qubit_params\n",
    "            self.discard = discard\n",
    "            self.functor = Functor(ob=self.ob_map,\n",
    "                                   ar=special_cases(self._ar))\n",
    "\n",
    "        def _ar(self, box: Box) -> Circuit:\n",
    "            \n",
    "            # Step 1: obtain labels\n",
    "            label = self._summarise_box(box)\n",
    "            \n",
    "            #Step 2: Apply functor to the domain and codomain\n",
    "            dom, cod = self._ob(box.dom), self._ob(box.cod)\n",
    "\n",
    "            n_qubits = max(dom, cod)\n",
    "            n_layers = self.n_layers\n",
    "            n_1qubit_params = self.n_single_qubit_params\n",
    "\n",
    "             #Step 3: Construct and return ansatz with new domain and codomain\n",
    "            if n_qubits == 0:\n",
    "                circuit = Id()\n",
    "            elif n_qubits == 1:\n",
    "                syms = [Symbol(f'{label}_{i}') for i in range(n_1qubit_params)]\n",
    "                rots = [Rx, Rz]\n",
    "                circuit = Id(qubit)\n",
    "                for i, sym in enumerate(syms):\n",
    "                    circuit >>= rots[i % 2](sym)\n",
    "            else:\n",
    "                n_params = n_layers * param_count_fns[sim_circuit_n](n_qubits)\n",
    "                syms = [Symbol(f'{label}_{i}') for i in range(n_params)]\n",
    "                params = np.array(syms).reshape(\n",
    "                        (n_layers, param_count_fns[sim_circuit_n](n_qubits)))\n",
    "\n",
    "                circuit = sim_discopy_classes[sim_circuit_n](n_qubits, params)\n",
    "\n",
    "            if cod > dom:\n",
    "                circuit <<= Id(dom) @ Ket(*[0]*(cod - dom))\n",
    "            elif self.discard:\n",
    "                circuit >>= Id(cod) @ Discard(dom - cod)\n",
    "            else:\n",
    "                circuit >>= Id(cod) @ Bra(*[0]*(dom - cod))\n",
    "            return circuit\n",
    "\n",
    "    return SimAnsatz\n",
    "\n",
    "Sim13Ansatz = _sim_ansatz_factory(13)\n",
    "Sim14Ansatz = _sim_ansatz_factory(14)\n",
    "Sim15Ansatz = _sim_ansatz_factory(15)"
   ]
  },
  {
   "cell_type": "code",
   "execution_count": 54,
   "id": "a4dda772-a81f-4d59-8bbc-5ec316ab96a7",
   "metadata": {},
   "outputs": [],
   "source": [
    "# initializing the ansatz for generating the circuit (1 layer, 3 qubits) (output : 1 qubit)\n",
    "ansatz = IQPAnsatz({AtomicType.NOUN: 1, AtomicType.SENTENCE: 1, AtomicType.PREPOSITIONAL_PHRASE: 1}, n_layers=1,\n",
    "                   n_single_qubit_params=3)"
   ]
  },
  {
   "cell_type": "code",
   "execution_count": 55,
   "id": "a08251da-a826-4edc-bd0a-e9ead26cee7a",
   "metadata": {},
   "outputs": [],
   "source": [
    "# initializing the ansatz for generating the circuit (2 layer, 3 qubits) (output : 1 qubit)\n",
    "ansatz = Sim13Ansatz({AtomicType.NOUN: 1, AtomicType.SENTENCE: 1, AtomicType.PREPOSITIONAL_PHRASE: 1}, n_layers=5,\n",
    "                        n_single_qubit_params=3)"
   ]
  },
  {
   "cell_type": "code",
   "execution_count": 56,
   "id": "50e3507f-8ff3-43f0-a96f-082bf51b2703",
   "metadata": {},
   "outputs": [],
   "source": [
    "# initializing the ansatz for generating the circuit (2 layer, 3 qubits) (output : 1 qubit)\n",
    "ansatz = Sim14Ansatz({AtomicType.NOUN: 1, AtomicType.SENTENCE: 1, AtomicType.PREPOSITIONAL_PHRASE: 1}, n_layers=5,\n",
    "                        n_single_qubit_params=3)"
   ]
  },
  {
   "cell_type": "code",
   "execution_count": 57,
   "id": "1067a91e-5765-4eb3-89ff-32e05140450c",
   "metadata": {},
   "outputs": [],
   "source": [
    "# initializing the ansatz for generating the circuit (2 layer, 3 qubits) (output : 1 qubit)\n",
    "ansatz = Sim15Ansatz({AtomicType.NOUN: 1, AtomicType.SENTENCE: 1, AtomicType.PREPOSITIONAL_PHRASE: 1}, n_layers=5,\n",
    "                        n_single_qubit_params=3)"
   ]
  },
  {
   "cell_type": "code",
   "execution_count": 28,
   "id": "5b29face-446a-4696-abe0-e03998e4b705",
   "metadata": {},
   "outputs": [],
   "source": [
    "# train/test circuits\n",
    "train_circuits = [ansatz(diagram) for diagram in train_diagrams]\n",
    "dev_circuits = [ansatz(diagram) for diagram in dev_diagrams]\n",
    "test_circuits = [ansatz(diagram) for diagram in test_diagrams]"
   ]
  },
  {
   "cell_type": "code",
   "execution_count": 29,
   "id": "9a24db0b-623a-45c6-8cfb-ef8a3669b7b6",
   "metadata": {},
   "outputs": [
    {
     "data": {
      "image/png": "[encoded data removed]",
      "text/plain": [
       "<Figure size 648x864 with 1 Axes>"
      ]
     },
     "metadata": {},
     "output_type": "display_data"
    },
    {
     "data": {
      "text/html": [
       "\n",
       "\n",
       "\n",
       "\n",
       "\n",
       "\n",
       "<iframe srcdoc=\"\n",
       "&lt;!DOCTYPE html&gt;\n",
       "&lt;html lang=&#34;en&#34;&gt;\n",
       "&lt;head&gt;\n",
       "    &lt;meta charset=&#34;UTF-8&#34;&gt;\n",
       "    &lt;script type=&#34;application/javascript&#34; src=&#34;https://cdn.jsdelivr.net/npm/vue@3&#34;&gt;&lt;/script&gt;\n",
       "    &lt;script type=&#34;application/javascript&#34; src=&#34;https://unpkg.com/pytket-circuit-renderer@0.3/dist/pytket-circuit-renderer.umd.js&#34;&gt;&lt;/script&gt;\n",
       "    &lt;link rel=&#34;stylesheet&#34; href=&#34;https://unpkg.com/pytket-circuit-renderer@0.3/dist/pytket-circuit-renderer.css&#34;&gt;\n",
       "&lt;/head&gt;\n",
       "&lt;body&gt;\n",
       "    &lt;div id=&#34;circuit-display-vue-container-d84c20aa-357e-4206-af3e-5ef1375249ab&#34; class=&#34;pytket-circuit-display-container&#34;&gt;\n",
       "        &lt;div style=&#34;display: none&#34;&gt;\n",
       "            &lt;div id=&#34;circuit-json-to-display&#34;&gt;{&#34;bits&#34;: [[&#34;c&#34;, [0]], [&#34;c&#34;, [1]], [&#34;c&#34;, [2]], [&#34;c&#34;, [3]], [&#34;c&#34;, [4]]], &#34;commands&#34;: [{&#34;args&#34;: [[&#34;q&#34;, [0]]], &#34;op&#34;: {&#34;params&#34;: [&#34;2*she__s_0&#34;], &#34;type&#34;: &#34;Rx&#34;}}, {&#34;args&#34;: [[&#34;q&#34;, [1]]], &#34;op&#34;: {&#34;params&#34;: [&#34;2*happy__s_0&#34;], &#34;type&#34;: &#34;Rx&#34;}}, {&#34;args&#34;: [[&#34;q&#34;, [2]]], &#34;op&#34;: {&#34;params&#34;: [&#34;2*to__s_0&#34;], &#34;type&#34;: &#34;Rx&#34;}}, {&#34;args&#34;: [[&#34;q&#34;, [3]]], &#34;op&#34;: {&#34;params&#34;: [&#34;2*unk__s_0&#34;], &#34;type&#34;: &#34;Rx&#34;}}, {&#34;args&#34;: [[&#34;q&#34;, [4]]], &#34;op&#34;: {&#34;params&#34;: [&#34;2*a__s_0&#34;], &#34;type&#34;: &#34;Rx&#34;}}, {&#34;args&#34;: [[&#34;q&#34;, [5]]], &#34;op&#34;: {&#34;params&#34;: [&#34;2*photo__s_0&#34;], &#34;type&#34;: &#34;Rx&#34;}}, {&#34;args&#34;: [[&#34;q&#34;, [0]]], &#34;op&#34;: {&#34;params&#34;: [&#34;2*she__s_1&#34;], &#34;type&#34;: &#34;Rz&#34;}}, {&#34;args&#34;: [[&#34;q&#34;, [1]]], &#34;op&#34;: {&#34;params&#34;: [&#34;2*happy__s_1&#34;], &#34;type&#34;: &#34;Rz&#34;}}, {&#34;args&#34;: [[&#34;q&#34;, [2]]], &#34;op&#34;: {&#34;params&#34;: [&#34;2*to__s_1&#34;], &#34;type&#34;: &#34;Rz&#34;}}, {&#34;args&#34;: [[&#34;q&#34;, [3]]], &#34;op&#34;: {&#34;params&#34;: [&#34;2*unk__s_1&#34;], &#34;type&#34;: &#34;Rz&#34;}}, {&#34;args&#34;: [[&#34;q&#34;, [4]]], &#34;op&#34;: {&#34;params&#34;: [&#34;2*a__s_1&#34;], &#34;type&#34;: &#34;Rz&#34;}}, {&#34;args&#34;: [[&#34;q&#34;, [5]]], &#34;op&#34;: {&#34;params&#34;: [&#34;2*photo__s_1&#34;], &#34;type&#34;: &#34;Rz&#34;}}, {&#34;args&#34;: [[&#34;q&#34;, [0]]], &#34;op&#34;: {&#34;params&#34;: [&#34;2*she__s_2&#34;], &#34;type&#34;: &#34;Rx&#34;}}, {&#34;args&#34;: [[&#34;q&#34;, [1]]], &#34;op&#34;: {&#34;params&#34;: [&#34;2*happy__s_2&#34;], &#34;type&#34;: &#34;Rx&#34;}}, {&#34;args&#34;: [[&#34;q&#34;, [2]]], &#34;op&#34;: {&#34;params&#34;: [&#34;2*to__s_2&#34;], &#34;type&#34;: &#34;Rx&#34;}}, {&#34;args&#34;: [[&#34;q&#34;, [3]]], &#34;op&#34;: {&#34;params&#34;: [&#34;2*unk__s_2&#34;], &#34;type&#34;: &#34;Rx&#34;}}, {&#34;args&#34;: [[&#34;q&#34;, [4]]], &#34;op&#34;: {&#34;params&#34;: [&#34;2*a__s_2&#34;], &#34;type&#34;: &#34;Rx&#34;}}, {&#34;args&#34;: [[&#34;q&#34;, [5]]], &#34;op&#34;: {&#34;params&#34;: [&#34;2*photo__s_2&#34;], &#34;type&#34;: &#34;Rx&#34;}}, {&#34;args&#34;: [[&#34;q&#34;, [0]], [&#34;q&#34;, [1]]], &#34;op&#34;: {&#34;type&#34;: &#34;CX&#34;}}, {&#34;args&#34;: [[&#34;q&#34;, [3]], [&#34;q&#34;, [4]]], &#34;op&#34;: {&#34;type&#34;: &#34;CX&#34;}}, {&#34;args&#34;: [[&#34;q&#34;, [1]], [&#34;c&#34;, [0]]], &#34;op&#34;: {&#34;type&#34;: &#34;Measure&#34;}}, {&#34;args&#34;: [[&#34;q&#34;, [4]], [&#34;c&#34;, [2]]], &#34;op&#34;: {&#34;type&#34;: &#34;Measure&#34;}}, {&#34;args&#34;: [[&#34;q&#34;, [0]], [&#34;q&#34;, [2]]], &#34;op&#34;: {&#34;type&#34;: &#34;CX&#34;}}, {&#34;args&#34;: [[&#34;q&#34;, [3]], [&#34;q&#34;, [5]]], &#34;op&#34;: {&#34;type&#34;: &#34;CX&#34;}}, {&#34;args&#34;: [[&#34;q&#34;, [2]], [&#34;c&#34;, [1]]], &#34;op&#34;: {&#34;type&#34;: &#34;Measure&#34;}}, {&#34;args&#34;: [[&#34;q&#34;, [5]], [&#34;c&#34;, [3]]], &#34;op&#34;: {&#34;type&#34;: &#34;Measure&#34;}}, {&#34;args&#34;: [[&#34;q&#34;, [0]], [&#34;q&#34;, [3]]], &#34;op&#34;: {&#34;type&#34;: &#34;CX&#34;}}, {&#34;args&#34;: [[&#34;q&#34;, [3]], [&#34;c&#34;, [4]]], &#34;op&#34;: {&#34;type&#34;: &#34;Measure&#34;}}], &#34;created_qubits&#34;: [], &#34;discarded_qubits&#34;: [], &#34;implicit_permutation&#34;: [[[&#34;q&#34;, [0]], [&#34;q&#34;, [0]]], [[&#34;q&#34;, [1]], [&#34;q&#34;, [1]]], [[&#34;q&#34;, [2]], [&#34;q&#34;, [2]]], [[&#34;q&#34;, [3]], [&#34;q&#34;, [3]]], [[&#34;q&#34;, [4]], [&#34;q&#34;, [4]]], [[&#34;q&#34;, [5]], [&#34;q&#34;, [5]]]], &#34;phase&#34;: &#34;0.0&#34;, &#34;qubits&#34;: [[&#34;q&#34;, [0]], [&#34;q&#34;, [1]], [&#34;q&#34;, [2]], [&#34;q&#34;, [3]], [&#34;q&#34;, [4]], [&#34;q&#34;, [5]]]}&lt;/div&gt;\n",
       "        &lt;/div&gt;\n",
       "        &lt;circuit-display-container :circuit-element-str=&#34;&#39;#circuit-json-to-display&#39;&#34;&gt;&lt;/circuit-display-container&gt;\n",
       "    &lt;/div&gt;\n",
       "    &lt;script type=&#34;application/javascript&#34;&gt;\n",
       "        const { createApp } = Vue;\n",
       "        const circuitDisplayContainer = window[&#34;pytket-circuit-renderer&#34;].default;\n",
       "        // Init variables to be shared between circuit display instances\n",
       "        if (typeof window.pytketCircuitDisplays === &#34;undefined&#34;) {\n",
       "            window.pytketCircuitDisplays = {};\n",
       "        }\n",
       "        const uid = &#34;d84c20aa-357e-4206-af3e-5ef1375249ab&#34;;\n",
       "        // Create the root Vue component\n",
       "        const app = createApp({\n",
       "            delimiters: [&#39;[[#&#39;, &#39;#]]&#39;],\n",
       "            components: { circuitDisplayContainer },\n",
       "        })\n",
       "        app.config.unwrapInjectedRef = true;\n",
       "        app.mount(&#34;#circuit-display-vue-container-&#34;+uid);\n",
       "        window.pytketCircuitDisplays[uid] = app;\n",
       "    &lt;/script&gt;\n",
       "&lt;/body&gt;\n",
       "&lt;/html&gt;\n",
       "\"\n",
       "        width=\"100%\" height=\"200px\"\n",
       "        style=\"border: none; outline: none; resize: vertical; overflow: auto\"></iframe>\n",
       "\n"
      ],
      "text/plain": [
       "<IPython.core.display.HTML object>"
      ]
     },
     "metadata": {},
     "output_type": "display_data"
    }
   ],
   "source": [
    "# sample circuit diagram\n",
    "train_circuits[0].draw(figsize=(9, 12))\n",
    "train_circuit_tk = train_circuits[0].to_tk()\n",
    "render_circuit_jupyter(train_circuit_tk)"
   ]
  },
  {
   "cell_type": "code",
   "execution_count": 30,
   "id": "2f11011a-e037-43a1-9d80-aa81e7f4d3ee",
   "metadata": {},
   "outputs": [],
   "source": [
    "# all circuits\n",
    "all_circuits = train_circuits + dev_circuits + test_circuits"
   ]
  },
  {
   "cell_type": "code",
   "execution_count": 31,
   "id": "38275ac8-30e8-4d08-ab59-991bdfbc108b",
   "metadata": {},
   "outputs": [],
   "source": [
    "# initializing the Aer backend only when using TketModel\n",
    "backend = AerBackend()\n",
    "# backend configs\n",
    "backend_config = {\n",
    "    'backend': backend,\n",
    "    'compilation': backend.default_compilation_pass(2),\n",
    "    'shots': 8192\n",
    "}"
   ]
  },
  {
   "cell_type": "code",
   "execution_count": 32,
   "id": "ba061538-bb38-4880-9971-afad56535c09",
   "metadata": {},
   "outputs": [],
   "source": [
    "# initializing the Numpy Quantum Model model (TKET simulates a NISQ system and can be time consuming, hence we will use Numpy)\n",
    "# model = TketModel.from_diagrams(all_circuits, backend_config=backend_config)\n",
    "model = NumpyModel.from_diagrams(all_circuits)"
   ]
  },
  {
   "cell_type": "code",
   "execution_count": 33,
   "id": "4a12cdb2-18c2-4c2d-bf65-d6dc6941c9da",
   "metadata": {},
   "outputs": [],
   "source": [
    "# defining loss and accuracy (binary cross entropy)\n",
    "loss = lambda y_hat, y: -np.sum(y * np.log(y_hat + EPSILON)) / len(y)\n",
    "acc = lambda y_hat, y: np.sum(np.round(y_hat) == y) / len(y) / 2"
   ]
  },
  {
   "cell_type": "code",
   "execution_count": 34,
   "id": "cb60621b-67cd-40b4-bea2-c12306589616",
   "metadata": {},
   "outputs": [],
   "source": [
    "# initializing the trainer for the model\n",
    "trainer = QuantumTrainer(\n",
    "    model,\n",
    "    loss_function=loss,\n",
    "    epochs=EPOCHS,\n",
    "    optimizer=SPSAOptimizer,  # Simultaneous Perturbation Stochastic Approximation optimizer\n",
    "    optim_hyperparams={'a': 0.2, 'c': 0.06, 'A': 0.01 * EPOCHS},\n",
    "    evaluate_functions={'acc': acc},\n",
    "    evaluate_on_train=True,\n",
    "    verbose='text',\n",
    "    seed=SEED\n",
    ")"
   ]
  },
  {
   "cell_type": "code",
   "execution_count": 35,
   "id": "0671edb7-a86d-4953-9437-ec3548292883",
   "metadata": {},
   "outputs": [],
   "source": [
    "# training dataset (Quantum batch optimization)\n",
    "train_dataset = Dataset(train_circuits, train_labels, batch_size=BATCH_SIZE)\n",
    "# validation dataset\n",
    "val_dataset = Dataset(dev_circuits, dev_labels, shuffle=False)"
   ]
  },
  {
   "cell_type": "code",
   "execution_count": 36,
   "id": "2fc39003-df58-4f39-9bd9-fad7556438dc",
   "metadata": {},
   "outputs": [
    {
     "name": "stderr",
     "output_type": "stream",
     "text": [
      "Epoch 1:    train/loss: 1.7392   valid/loss: 1.4349   train/acc: 0.5659   valid/acc: 0.6744\n",
      "Epoch 12:   train/loss: 1.7576   valid/loss: 1.3061   train/acc: 0.5039   valid/acc: 0.5891\n",
      "Epoch 24:   train/loss: 1.5954   valid/loss: 1.0779   train/acc: 0.4806   valid/acc: 0.6124\n",
      "Epoch 36:   train/loss: 1.4999   valid/loss: 2.1263   train/acc: 0.5891   valid/acc: 0.4651\n",
      "Epoch 48:   train/loss: 1.6226   valid/loss: 1.2665   train/acc: 0.5659   valid/acc: 0.5814\n",
      "Epoch 60:   train/loss: 1.1354   valid/loss: 1.0648   train/acc: 0.6357   valid/acc: 0.5969\n",
      "Epoch 72:   train/loss: 0.9776   valid/loss: 0.7507   train/acc: 0.5736   valid/acc: 0.7364\n",
      "Epoch 84:   train/loss: 0.9175   valid/loss: 0.9491   train/acc: 0.6202   valid/acc: 0.6822\n",
      "Epoch 96:   train/loss: 0.8289   valid/loss: 0.9622   train/acc: 0.7984   valid/acc: 0.6744\n",
      "Epoch 108:  train/loss: 0.7059   valid/loss: 0.7402   train/acc: 0.7442   valid/acc: 0.6977\n",
      "Epoch 120:  train/loss: 0.4152   valid/loss: 0.6050   train/acc: 0.8372   valid/acc: 0.7364\n",
      "Epoch 132:  train/loss: 0.3742   valid/loss: 0.6017   train/acc: 0.8915   valid/acc: 0.7674\n",
      "Epoch 144:  train/loss: 0.2521   valid/loss: 0.4455   train/acc: 0.9147   valid/acc: 0.8217\n",
      "Epoch 156:  train/loss: 0.1734   valid/loss: 0.3590   train/acc: 0.9225   valid/acc: 0.7907\n",
      "Epoch 168:  train/loss: 0.1612   valid/loss: 0.3814   train/acc: 0.9457   valid/acc: 0.8372\n",
      "Epoch 180:  train/loss: 0.1139   valid/loss: 0.2983   train/acc: 0.9612   valid/acc: 0.8760\n",
      "Epoch 204:  train/loss: 0.0876   valid/loss: 0.2495   train/acc: 0.9767   valid/acc: 0.8760\n",
      "Epoch 216:  train/loss: 0.0708   valid/loss: 0.2685   train/acc: 0.9845   valid/acc: 0.8682\n",
      "Epoch 228:  train/loss: 0.0667   valid/loss: 0.2508   train/acc: 0.9922   valid/acc: 0.8837\n",
      "Epoch 240:  train/loss: 0.0567   valid/loss: 0.2334   train/acc: 1.0000   valid/acc: 0.8682\n",
      "Epoch 252:  train/loss: 0.0462   valid/loss: 0.2185   train/acc: 0.9922   valid/acc: 0.8760\n",
      "Epoch 264:  train/loss: 0.0474   valid/loss: 0.2417   train/acc: 0.9922   valid/acc: 0.8837\n",
      "Epoch 276:  train/loss: 0.0520   valid/loss: 0.2422   train/acc: 1.0000   valid/acc: 0.8837\n",
      "Epoch 288:  train/loss: 0.0482   valid/loss: 0.2311   train/acc: 1.0000   valid/acc: 0.8915\n",
      "Epoch 300:  train/loss: 0.0422   valid/loss: 0.2297   train/acc: 0.9922   valid/acc: 0.8915\n",
      "\n",
      "Training completed!\n"
     ]
    }
   ],
   "source": [
    "# fitting the model (training on train and validation dataset)\n",
    "trainer.fit(train_dataset, val_dataset, logging_step=12)"
   ]
  },
  {
   "cell_type": "code",
   "execution_count": 37,
   "id": "cb2e9e15-89a4-402f-9509-10ed412a7334",
   "metadata": {},
   "outputs": [
    {
     "data": {
      "image/png": "[encoded data removed]",
      "text/plain": [
       "<Figure size 720x432 with 4 Axes>"
      ]
     },
     "metadata": {
      "needs_background": "light"
     },
     "output_type": "display_data"
    },
    {
     "name": "stdout",
     "output_type": "stream",
     "text": [
      "Test accuracy: 0.7846153846153846\n",
      "Model summary\n",
      "Train accuracy :  1.0\n",
      "Validation accuracy :  0.8914728682170543\n",
      "Test accuracy:  0.7846153846153846\n",
      "Cummulative accuracy :  0.892029417610813\n"
     ]
    }
   ],
   "source": [
    "# plotting results\n",
    "fig, ((ax_tl, ax_tr), (ax_bl, ax_br)) = plt.subplots(2, 2, sharex=True, sharey='row', figsize=(10, 6))\n",
    "ax_tl.set_title('Training set')\n",
    "ax_tr.set_title('Development set')\n",
    "ax_bl.set_xlabel('Iterations')\n",
    "ax_br.set_xlabel('Iterations')\n",
    "ax_bl.set_ylabel('Accuracy')\n",
    "ax_tl.set_ylabel('Loss')\n",
    "\n",
    "colours = iter(plt.rcParams['axes.prop_cycle'].by_key()['color'])\n",
    "ax_tl.plot(trainer.train_epoch_costs, color=next(colours))\n",
    "ax_bl.plot(trainer.train_results['acc'], color=next(colours))\n",
    "ax_tr.plot(trainer.val_costs, color=next(colours))\n",
    "ax_br.plot(trainer.val_results['acc'], color=next(colours))\n",
    "plt.show()\n",
    "\n",
    "# Model accuracy on test dataset\n",
    "test_acc = acc(model(test_circuits), test_labels)\n",
    "train_acc = acc(model(train_circuits), train_labels)\n",
    "dev_acc = acc(model(dev_circuits), dev_labels)\n",
    "cumulative_acc = (train_acc + dev_acc + test_acc) / 3\n",
    "print('Test accuracy:', test_acc)\n",
    "print(\"Model summary\")\n",
    "print(\"Train accuracy : \", train_acc)\n",
    "print(\"Validation accuracy : \", dev_acc)\n",
    "print(\"Test accuracy: \", test_acc)\n",
    "print(\"Cummulative accuracy : \", cumulative_acc)"
   ]
  },
  {
   "cell_type": "code",
   "execution_count": 98,
   "id": "402da519-88fe-4673-a7f2-cf819000fb49",
   "metadata": {},
   "outputs": [],
   "source": [
    "import lambeq\n",
    "\n",
    "# Function for replacing the unknown word(s) with <unk> token\n",
    "def replace(box):\n",
    "    if box.name not in known_words_list:\n",
    "        return Word('unk', box.cod, box.dom)\n",
    "    return box\n",
    "\n",
    "\n",
    "# Function for printing the label based on the prediction array\n",
    "def result_label(prediction):\n",
    "    depressive_score = prediction[0][0]\n",
    "    non_depressive_score = prediction[0][1]\n",
    "    label = 0\n",
    "\n",
    "    if depressive_score > non_depressive_score:\n",
    "        label = 1\n",
    "        return label\n",
    "    elif depressive_score <= non_depressive_score:\n",
    "        return label\n",
    "\n",
    "\n",
    "\"\"\"\n",
    "With this approach we can have both the similarity check of two sentences as well as their individual label, hence we \n",
    "won't have any loss of information since we trained the model to classify each label, not just which two labels are in\n",
    "one category.\n",
    "\"\"\"\n",
    "\n",
    "\n",
    "def same_category(sentence1, sentence2):\n",
    "    if result_label(sentence1) == result_label(sentence2) and result_label(sentence1) == 1:\n",
    "        print(\"Both sentences are depressive\")\n",
    "        group = \"Same Category Depressive\"\n",
    "        return group\n",
    "    elif result_label(sentence1) == result_label(sentence2) and result_label(sentence1) == 0:\n",
    "        print(\"Both sentences are non-depressive\")\n",
    "        group = \"Same Category Non-depressive\"\n",
    "        return group\n",
    "    elif result_label(sentence1) == 1 and result_label(sentence2) == 0:\n",
    "        print(\"Sentence 1 is depressive and Sentence 2 is non-depressive\")\n",
    "        group = \"Different Category\"\n",
    "        return group\n",
    "    elif result_label(sentence1) == 0 and result_label(sentence2) == 1:\n",
    "        print(\"Sentence 1 is non-depressive and Sentence 2 is depressive\")\n",
    "        group = \"Different Category\"\n",
    "        return group"
   ]
  },
  {
   "cell_type": "code",
   "execution_count": 99,
   "id": "864b7cc0-99ce-4c83-9198-bea730a32b34",
   "metadata": {},
   "outputs": [],
   "source": [
    "# Loading checkpoint model (300 epoch model)\n",
    "model = NumpyModel.from_checkpoint('runs/Nov23_13-38-47_jupyter-62cd92e9ccef1cfbb44b4d25/model.lt')"
   ]
  },
  {
   "cell_type": "code",
   "execution_count": 100,
   "id": "886a11a4-0448-4e1b-b1ae-842c7e5bb156",
   "metadata": {},
   "outputs": [
    {
     "name": "stdout",
     "output_type": "stream",
     "text": [
      "[I__s_0, I__s_1, I__s_2, a__s_0, a__s_1, a__s_2, about__s_0, about__s_1, about__s_2, again__s_0, again__s_1, again__s_2, agonies__s_0, agonies__s_1, agonies__s_2, all__s_0, all__s_1, all__s_2, alone__s_0, alone__s_1, alone__s_2, amazing__s_0, amazing__s_1, amazing__s_2, and__s_0, and__s_1, and__s_2, anger__s_0, anger__s_1, anger__s_2, angry__s_0, angry__s_1, angry__s_2, anxiety__s_0, anxiety__s_1, anxiety__s_2, appreciate__s_0, appreciate__s_1, appreciate__s_2, appreciates__s_0, appreciates__s_1, appreciates__s_2, are__s_0, are__s_1, are__s_2, area__s_0, area__s_1, area__s_2, as__s_0, as__s_1, as__s_2, ashamed__s_0, ashamed__s_1, ashamed__s_2, at__s_0, at__s_1, at__s_2, attempted__s_0, attempted__s_1, attempted__s_2, back__s_0, back__s_1, back__s_2, be__s_0, be__s_1, be__s_2, because__s_0, because__s_1, because__s_2, began__s_0, began__s_1, began__s_2, by__s_0, by__s_1, by__s_2, came__s_0, came__s_1, came__s_2, commit__s_0, commit__s_1, commit__s_2, commited__s_0, commited__s_1, commited__s_2, committed__s_0, committed__s_1, committed__s_2, confused__s_0, confused__s_1, confused__s_2, consider__s_0, consider__s_1, consider__s_2, cooking__s_0, cooking__s_1, cooking__s_2, cooks__s_0, cooks__s_1, cooks__s_2, cries__s_0, cries__s_1, cries__s_2, cry__s_0, cry__s_1, cry__s_2, crying__s_0, crying__s_1, crying__s_2, dance__s_0, dance__s_1, dance__s_2, day__s_0, day__s_1, day__s_2, days__s_0, days__s_1, days__s_2, decision__s_0, decision__s_1, decision__s_2, depress__s_0, depress__s_1, depress__s_2, depressed__s_0, depressed__s_1, depressed__s_2, depressing__s_0, depressing__s_1, depressing__s_2, depression__s_0, depression__s_1, depression__s_2, did__s_0, did__s_1, did__s_2, dinner__s_0, dinner__s_1, dinner__s_2, disappoint__s_0, disappoint__s_1, disappoint__s_2, doing__s_0, doing__s_1, doing__s_2, dream__s_0, dream__s_1, dream__s_2, every__s_0, every__s_1, every__s_2, exam__s_0, exam__s_1, exam__s_2, expressed__s_0, expressed__s_1, expressed__s_2, failed__s_0, failed__s_1, failed__s_2, failure__s_0, failure__s_1, failure__s_2, family__s_0, family__s_1, family__s_2, fearful__s_0, fearful__s_1, fearful__s_2, feel__s_0, feel__s_1, feel__s_2, feeling__s_0, feeling__s_1, feeling__s_2, fell__s_0, fell__s_1, fell__s_2, felt__s_0, felt__s_1, felt__s_2, for__s_0, for__s_1, for__s_2, friends__s_0, friends__s_1, friends__s_2, from__s_0, from__s_1, from__s_2, glad__s_0, glad__s_1, glad__s_2, going__s_0, going__s_1, going__s_2, good__s_0, good__s_1, good__s_2, great__s_0, great__s_1, great__s_2, had__s_0, had__s_1, had__s_2, happiness__s_0, happiness__s_1, happiness__s_2, happy__s_0, happy__s_1, happy__s_2, has__s_0, has__s_1, has__s_2, hate__s_0, hate__s_1, hate__s_2, have__s_0, have__s_1, have__s_2, he__s_0, he__s_1, he__s_2, heart__s_0, heart__s_1, heart__s_2, help__s_0, help__s_1, help__s_2, helps__s_0, helps__s_1, helps__s_2, her__s_0, her__s_1, her__s_2, herself__s_0, herself__s_1, herself__s_2, him__s_0, him__s_1, him__s_2, himself__s_0, himself__s_1, himself__s_2, his__s_0, his__s_1, his__s_2, holding__s_0, holding__s_1, holding__s_2, hope__s_0, hope__s_1, hope__s_2, in__s_0, in__s_1, in__s_2, into__s_0, into__s_1, into__s_2, is__s_0, is__s_1, is__s_2, it__s_0, it__s_1, it__s_2, joyful__s_0, joyful__s_1, joyful__s_2, killed__s_0, killed__s_1, killed__s_2, kills__s_0, kills__s_1, kills__s_2, kind__s_0, kind__s_1, kind__s_2, knew__s_0, knew__s_1, knew__s_2, laugh__s_0, laugh__s_1, laugh__s_2, laughing__s_0, laughing__s_1, laughing__s_2, lead__s_0, lead__s_1, lead__s_2, letter__s_0, letter__s_1, letter__s_2, life__s_0, life__s_1, life__s_2, like__s_0, like__s_1, like__s_2, listen__s_0, listen__s_1, listen__s_2, little__s_0, little__s_1, little__s_2, lonely__s_0, lonely__s_1, lonely__s_2, love__s_0, love__s_1, love__s_2, lovely__s_0, lovely__s_1, lovely__s_2, loves__s_0, loves__s_1, loves__s_2, lucky__s_0, lucky__s_1, lucky__s_2, make__s_0, make__s_1, make__s_2, makes__s_0, makes__s_1, makes__s_2, man__s_0, man__s_1, man__s_2, me__s_0, me__s_1, me__s_2, meal__s_0, meal__s_1, meal__s_2, mom__s_0, mom__s_1, mom__s_2, month__s_0, month__s_1, month__s_2, much__s_0, much__s_1, much__s_2, must__s_0, must__s_1, must__s_2, my__s_0, my__s_1, my__s_2, nightmare__s_0, nightmare__s_1, nightmare__s_2, not__s_0, not__s_1, not__s_2, note__s_0, note__s_1, note__s_2, of__s_0, of__s_1, of__s_2, on__s_0, on__s_1, on__s_2, others__s_0, others__s_1, others__s_2, over__s_0, over__s_1, over__s_2, overwhelmed__s_0, overwhelmed__s_1, overwhelmed__s_2, people__s_0, people__s_1, people__s_2, perfect__s_0, perfect__s_1, perfect__s_2, person__s_0, person__s_1, person__s_2, photo__s_0, photo__s_1, photo__s_2, play__s_0, play__s_1, play__s_2, points__s_0, points__s_1, points__s_2, read__s_0, read__s_1, read__s_2, really__s_0, really__s_1, really__s_2, remorse__s_0, remorse__s_1, remorse__s_2, rising__s_0, rising__s_1, rising__s_2, room__s_0, room__s_1, room__s_2, runs__s_0, runs__s_1, runs__s_2, sad__s_0, sad__s_1, sad__s_2, sadness__s_0, sadness__s_1, sadness__s_2, see__s_0, see__s_1, see__s_2, share__s_0, share__s_1, share__s_2, she__s_0, she__s_1, she__s_2, should__s_0, should__s_1, should__s_2, shower__s_0, shower__s_1, shower__s_2, sleep__s_0, sleep__s_1, sleep__s_2, smile__s_0, smile__s_1, smile__s_2, smiling__s_0, smiling__s_1, smiling__s_2, so__s_0, so__s_1, so__s_2, something__s_0, something__s_1, something__s_2, sorrow__s_0, sorrow__s_1, sorrow__s_2, sorry__s_0, sorry__s_1, sorry__s_2, started__s_0, started__s_1, started__s_2, success__s_0, success__s_1, success__s_2, successful__s_0, successful__s_1, successful__s_2, sudden__s_0, sudden__s_1, sudden__s_2, suffered__s_0, suffered__s_1, suffered__s_2, suicidal__s_0, suicidal__s_1, suicidal__s_2, suicide__s_0, suicide__s_1, suicide__s_2, surprise__s_0, surprise__s_1, surprise__s_2, their__s_0, their__s_1, their__s_2, they__s_0, they__s_1, they__s_2, this__s_0, this__s_1, this__s_2, thought__s_0, thought__s_1, thought__s_2, time__s_0, time__s_1, time__s_2, to__s_0, to__s_1, to__s_2, today__s_0, today__s_1, today__s_2, together__s_0, together__s_1, together__s_2, treat__s_0, treat__s_1, treat__s_2, try__s_0, try__s_1, try__s_2, two__s_0, two__s_1, two__s_2, unhappy__s_0, unhappy__s_1, unhappy__s_2, unk__s_0, unk__s_1, unk__s_2, upset__s_0, upset__s_1, upset__s_2, very__s_0, very__s_1, very__s_2, wants__s_0, wants__s_1, wants__s_2, was__s_0, was__s_1, was__s_2, way__s_0, way__s_1, way__s_2, we__s_0, we__s_1, we__s_2, were__s_0, were__s_1, were__s_2, when__s_0, when__s_1, when__s_2, who__s_0, who__s_1, who__s_2, will__s_0, will__s_1, will__s_2, with__s_0, with__s_1, with__s_2, without__s_0, without__s_1, without__s_2, woman__s_0, woman__s_1, woman__s_2, world__s_0, world__s_1, world__s_2, would__s_0, would__s_1, would__s_2, you__s_0, you__s_1, you__s_2]\n"
     ]
    }
   ],
   "source": [
    "print(model.symbols)"
   ]
  },
  {
   "cell_type": "code",
   "execution_count": 101,
   "id": "58d3a8a8-76a4-499f-a77e-a191b3d116c4",
   "metadata": {},
   "outputs": [],
   "source": [
    "# test sentence\n",
    "test_sentence = ['I am really sad max .', 'I am very happy']"
   ]
  },
  {
   "cell_type": "code",
   "execution_count": 102,
   "id": "0f3bcb5a-2fcb-4efa-ae76-db2d924a517c",
   "metadata": {},
   "outputs": [],
   "source": [
    "# initializing spacy tokenizer\n",
    "tokeniser = lambeq.SpacyTokeniser()"
   ]
  },
  {
   "cell_type": "code",
   "execution_count": 103,
   "id": "3bc27dfa-b769-4330-9c95-a99f66fc9149",
   "metadata": {},
   "outputs": [],
   "source": [
    "\"\"\"\n",
    "tokenize for words with suffix (We can use either the SpaCy tokenizer or the fix_suffix method)\n",
    "Note : using both suffix_tokenizer and fix_suffix_sentences essentially allows the model to perform better\n",
    "\"\"\"\n",
    "# suffix tokenizing for test sentence\n",
    "test_sentence = suffix_tokenizer(test_sentence)\n",
    "test_sentence = fix_suffix_sentences(test_sentence, spacy_token=True)"
   ]
  },
  {
   "cell_type": "code",
   "execution_count": 104,
   "id": "60e04ced-630c-4997-8148-19207342db2f",
   "metadata": {},
   "outputs": [],
   "source": [
    "for i in range(len(test_sentence)):\n",
    "    # rewriting testing sentences for parser on sentence level (Use when not using Rewriter Object)\n",
    "    # (Can use remove_dots_commas in either case)\n",
    "    test_sentence[i] = remove_dots_commas(test_sentence[i])\n",
    "    test_sentence[i] = remove_connector(test_sentence[i])\n",
    "    test_sentence[i] = remove_auxiliary(test_sentence[i])\n",
    "    test_sentence[i] = remove_determiner(test_sentence[i])"
   ]
  },
  {
   "cell_type": "code",
   "execution_count": 105,
   "id": "12d192f7-eeef-4ac2-8a45-356da6e815fb",
   "metadata": {},
   "outputs": [
    {
     "name": "stdout",
     "output_type": "stream",
     "text": [
      "['he', 'overtaken', 'by', 'depression', 'he', 'dreaded', 'it', 'is', 'a', 'sad', 'and', 'depressing', 'world', 'I', 'sad', 'to', 'say', 'I', 'regretted', 'my', 'decision', 'he', 'crying', 'in', 'shower', 'rainy', 'days', 'always', 'depress', 'me', 'they', 'crying', 'in', 'their', 'room', 'they', 'crying', 'in', 'their', 'shower', 'he', 'crying', 'in', 'shower', 'alone', 'she', 'crying', 'alone', 'in', 'her', 'room', 'I', 'crying', 'because', 'I', 'sad', 'this', 'drug', 'helps', 'depressed', 'man', 'it', 'would', 'really', 'depress', 'me', 'if', 'I', 'did', 'depressed', 'person', 'was', 'very', 'sad', 'and', 'lonely', 'I', 'depressed', 'by', 'thought', 'of', 'her', 'crying', 'I', 'overwhelmed', 'by', 'feelings', 'of', 'depression', 'depression', 'is', 'caused', 'by', 'holding', 'in', 'anger', 'I', 'realised', 'I', 'becoming', 'increasingly', 'depressed', 'and', 'sad', 'thought', 'of', 'taking', 'exam', 'again', 'depressed', 'him', 'he', 'sad', 'and', 'confused', 'he', 'depressed', 'she', 'going', 'to', 'kill', 'herself', 'she', 'hurt', 'I', 'cry', 'because', 'I', 'failed', 'my', 'exam', 'she', 'cries', 'because', 'she', 'failed', 'he', 'has', 'depression', 'she', 'has', 'depression', 'he', 'upset', 'she', 'upset', 'I', 'upset', 'I', 'depressed', 'I', 'have', 'depression', 'I', 'had', 'depression', 'she', 'depressed', 'she', 'very', 'depressed', 'he', 'depressed', 'they', 'depressed', 'you', 'depressed', 'I', 'sad', 'about', 'something', 'I', 'crying', 'she', 'crying', 'he', 'crying', 'he', 'crying', 'because', 'he', 'failed', 'his', 'exam', 'some', 'babies', 'cry', 'during', 'night', 'her', 'eyes', 'expressed', 'deep', 'sadness', 'she', 'expressed', 'sadness', 'he', 'expressed', 'sadness', 'much', 'sadness', 'was', 'occasioned', 'around', 'area', 'by', 'news', 'of', 'her', 'sudden', 'death', 'he', 'starves', 'for', 'friendship', 'they', 'lived', 'a', 'lonely', 'life', 'he', 'felt', 'lonely', 'after', 'he', 'buried', 'his', 'good', 'friend', 'I', 'feel', 'lonely', 'without', 'you', 'I', 'feel', 'lonely', 'she', 'desperately', 'lonely', 'she', 'started', 'to', 'cry', 'again', 'she', 'began', 'to', 'cry', 'she', 'started', 'to', 'cry', 'she', 'looked', 'about', 'to', 'cry', 'she', 'angery', 'and', 'sad', 'he', 'very', 'depressed', 'and', 'angry', 'sorrow', 'and', 'rage', 'pierced', 'him', 'to', 'core', 'I', 'mourn', 'him', 'I', 'feel', 'very', 'lonely', 'I', 'sad', 'and', 'lonely', 'I', 'feel', 'so', 'lonely', 'he', 'told', 'me', 'he', 'lonely', 'he', 'said', 'he', 'lonely', 'she', 'grieving', 'he', 'sad', 'they', 'depressed', 'he', 'seemed', 'anxious', 'he', 'felt', 'very', 'lonely', 'she', 'very', 'sad', 'sad', 'man', 'cries', 'in', 'his', 'room', 'sorrowful', 'woman', 'shed', 'tears', 'man', 'killed', 'himself', 'woman', 'commited', 'suicide', 'she', 'commited', 'suicide', 'in', 'her', 'room', 'man', 'commited', 'suicide', 'in', 'his', 'room', 'life', 'is', 'very', 'depressing', 'I', 'suicidal', 'I', 'cry', 'in', 'my', 'sleep', 'he', 'in', 'a', 'confused', 'state', 'of', 'mind', 'depression', 'can', 'be', 'traced', 'to', 'holding', 'in', 'anger', 'it', 'is', 'a', 'sad', 'and', 'depressed', 'world', 'woman', 'began', 'to', 'cry', 'she', 'filled', 'with', 'anger', 'and', 'sorrow', 'I', 'hope', 'you', 'two', 'are', 'happy', 'together', 'you', 'happy', 'I', 'very', 'happy', 'I', 'very', 'happy', 'she', 'happy', 'she', 'would', 'like', 'to', 'have', 'so', 'much', 'happiness', 'They', 'laugh', 'together', 'I', 'hope', 'to', 'have', 'a', 'love', 'like', 'yours', 'it', 'was', 'a', 'good', 'deal', 'he', 'a', 'good', 'man', 'man', 'was', 'singing', 'happy', 'songs', 'you', 'laughing', 'I', 'laughing', 'she', 'laughing', 'with', 'happiness', 'I', 'happy', 'to', 'talk', 'she', 'recalled', 'her', 'happy', 'dream', 'with', 'him', 'I', 'treat', 'my', 'family', 'good', 'you', 'doing', 'good', 'she', 'a', 'good', 'woman', 'he', 'a', 'very', 'good', 'man', 'I', 'a', 'good', 'person', 'they', 'a', 'good', 'person', 'he', 'committed', 'suicide', 'yesterday', 'she', 'committed', 'suicide', 'today', 'depressed', 'man', 'committed', 'suicide', 'you', 'should', 'treat', 'him', 'good', 'we', 'should', 'treat', 'animals', 'good', 'I', 'consider', 'him', 'a', 'good', 'man', 'you', 'have', 'to', 'laugh', 'more', 'you', 'should', 'consider', 'smiling', 'he', 'loves', 'to', 'play', 'boys', 'wanted', 'to', 'play', 'I', 'love', 'to', 'play', 'she', 'loves', 'to', 'play', 'games', 'happy', 'woman', 'is', 'smiling', 'happy', 'man', 'is', 'laughing', 'with', 'happiness', 'he', 'loves', 'figure', 'from', 'board', 'a', 'happy', 'man', 'was', 'standing', 'at', 'bus', 'stop', 'I', 'share', 'a', 'happy', 'dream', 'with', 'my', 'mom', 'we', 'share', 'love', 'I', 'happy', 'to', 'see', 'him', 'she', 'loves', 'him', 'very', 'much', 'my', 'life', 'is', 'like', 'a', 'happy', 'dream', 'this', 'man', 'is', 'very', 'lovely', 'he', 'a', 'lovely', 'man', 'I', 'quite', 'happy', 'to', 'see', 'you', 'he', 'speculated', 'this', 'might', 'lead', 'to', 'a', 'success', 'road', 'will', 'lead', 'you', 'back', 'to', 'success', 'she', 'braced', 'herself', 'to', 'lead', 'a', 'successful', 'life', 'he', 'a', 'successful', 'man', 'this', 'suit', 'is', 'perfect', 'for', 'me', 'she', 'perfect', 'woman', 'we', 'love', 'to', 'see', 'perfect', 'show', 'I', 'owe', 'you', 'for', 'helping', 'me', 'he', 'helps', 'people', 'every', 'day', 'he', 'very', 'humble', 'about', 'his', 'success', 'we', 'must', 'allow', 'for', 'his', 'success', 'they', 'help', 'people', 'every', 'day', 'I', 'a', 'failure', 'he', 'felt', 'like', 'a', 'failure', 'she', 'felt', 'like', 'a', 'failure', 'at', 'her', 'school', 'I', 'help', 'my', 'friends', 'to', 'move', 'she', 'helps', 'her', 'friends', 'they', 'appreciate', 'home', 'we', 'would', 'appreciate', 'it', 'she', 'appreciates', 'it', 'he', 'appreciates', 'help', 'man', 'cooks', 'a', 'lovely', 'dinner', 'man', 'is', 'happy', 'man', 'is', 'smiling', 'man', 'is', 'laughing', 'I', 'cooking', 'a', 'good', 'meal', 'life', 'is', 'a', 'lovely', 'dream', 'I', 'saw', 'my', 'lovely', 'mom', 'in', 'a', 'dream', 'woman', 'bakes', 'tasty', 'meal', 'man', 'runs', 'software', 'person', 'prepares', 'great', 'meal', 'I', 'feeling', 'great', 'she', 'feeling', 'great', 'because', 'of', 'her', 'dream', 'I', 'very', 'happy', 'for', 'my', 'great', 'sister', 'person', 'cooks', 'great', 'meal', 'she', 'joyful', 'he', 'very', 'joyful', 'with', 'his', 'success', 'I', 'very', 'happy', 'and', 'joyful', 'great', 'woman', 'makes', 'dinner', 'happy', 'man', 'runs', 'outside', 'person', 'was', 'very', 'kind', 'woman', 'was', 'kind', 'person', 'is', 'kind', 'and', 'helps', 'people', 'kind', 'woman', 'helps', 'student', 'he', 'has', 'depression', 'she', 'has', 'depression', 'he', 'upset', 'she', 'upset', 'I', 'upset', 'I', 'depressed', 'I', 'have', 'depression', 'I', 'had', 'depression', 'she', 'depressed', 'she', 'very', 'depressed', 'he', 'depressed', 'they', 'depressed', 'you', 'depressed', 'I', 'sad', 'about', 'something', 'I', 'crying', 'she', 'crying', 'he', 'crying', 'we', 'all', 'felt', 'sad', 'about', 'his', 'depression', 'depressing', 'and', 'sad', 'story', 'made', 'us', 'cry', 'he', 'cries', 'over', 'his', 'sad', 'life', 'we', 'must', 'try', 'to', 'forget', 'this', 'sad', 'affair', 'life', 'is', 'a', 'depressing', 'dream', 'I', 'smooched', 'with', 'him', 'on', 'dance', 'floor', 'she', 'happy', 'to', 'dance', 'on', 'her', 'points', 'he', 'happy', 'to', 'see', 'her', 'dance', 'they', 'feeling', 'great', 'because', 'of', 'their', 'happy', 'life', 'they', 'have', 'partnered', 'up', 'for', 'lovely', 'dance', 'you', 'sad', 'about', 'it', 'you', 'just', 'sad', 'I', 'sorry', 'to', 'depress', 'you', 'little', 'boy', 'fell', 'over', 'and', 'started', 'to', 'cry', 'she', 'uttered', 'a', 'wordless', 'cry', 'of', 'sadness', 'all', 'of', 'a', 'sudden', 'we', 'heard', 'a', 'depressing', 'cry', 'I', 'hated', 'to', 'make', 'her', 'sad', 'man', 'was', 'doing', 'amazing', 'they', 'kicked', 'him', 'out', 'for', 'being', 'depressed', 'at', 'work', 'he', 'sad', 'and', 'drunk', 'at', 'end', 'of', 'party', 'I', 'should', 'add', 'we', 'are', 'very', 'lucky', 'you', 'lucky', 'you', 'spotted', 'danger', 'in', 'time', 'she', 'a', 'lucky', 'woman', 'I', 'feel', 'lucky', 'today', 'he', 'deliberately', 'trying', 'to', 'make', 'her', 'sad', 'this', 'decision', 'is', 'likely', 'to', 'upset', 'a', 'lot', 'of', 'people', 'he', 'upset', 'she', 'upset', 'for', 'crying', 'I', 'knew', 'he', 'upset', 'I', 'feeling', 'amazing', 'it', 'is', 'depressing', 'to', 'drive', 'in', 'a', 'thick', 'fog', 'it', 'came', 'as', 'something', 'of', 'a', 'dream', 'I', 'had', 'a', 'great', 'surprise', 'she', 'jumped', 'back', 'with', 'a', 'little', 'yelp', 'of', 'surprise', 'it', 'came', 'as', 'a', 'complete', 'surprise', 'I', 'have', 'a', 'right', 'to', 'be', 'upset', 'no', 'wonder', 'he', 'upset', 'in', 'stair', 'room', 'I', 'glad', 'to', 'awake', 'from', 'such', 'a', 'nightmare', 'she', 'having', 'a', 'sad', 'nightmare', 'I', 'hate', 'to', 'see', 'a', 'nightmare', 'because', 'it', 'makes', 'me', 'upset', 'I', 'happy', 'to', 'see', 'you', 'a', 'happy', 'heart', 'makes', 'a', 'blooming', 'visage', 'he', 'truly', 'happy', 'who', 'makes', 'others', 'happy', 'happy', 'is', 'man', 'who', 'is', 'living', 'by', 'his', 'hobby', 'her', 'anxiety', 'mounted', 'month', 'by', 'month', 'I', 'have', 'anxiety', 'sad', 'woman', 'had', 'anxiety', 'he', 'has', 'anxiety', 'because', 'he', 'alone', 'my', 'heart', 'bled', 'for', 'poor', 'unhappy', 'children', 'I', 'unhappy', 'in', 'my', 'life', 'she', 'unhappy', 'because', 'he', 'upset', 'her', 'there', 'are', 'unconfirmed', 'reports', 'he', 'tried', 'to', 'commit', 'suicide', 'all', 'evidence', 'points', 'to', 'suicide', 'suicide', 'note', 'cut', 'off', 'any', 'reason', 'for', 'investigation', 'I', 'feel', 'suicidal', 'because', 'I', 'depressed', 'she', 'committed', 'suiced', 'today', 'he', 'killed', 'himself', 'today', 'she', 'killed', 'herself', 'today', 'she', 'cries', 'herself', 'to', 'sleep', 'he', 'cries', 'himself', 'to', 'sleep', 'man', 'kills', 'himself', 'woman', 'kills', 'herself', 'a', 'wedding', 'is', 'a', 'joyful', 'celebration', 'of', 'love', 'it', 'was', 'a', 'joyful', 'reunion', 'of', 'all', 'family', 'I', 'had', 'a', 'joyful', 'feeling', 'my', 'baby', 'gets', 'upset', 'when', 'I', 'leave', 'room', 'he', 'too', 'upset', 'to', 'be', 'rational', 'I', 'angry', 'and', 'upset', 'he', 'would', 'be', 'upset', 'he', 'visibly', 'upset', 'she', 'joyful', 'of', 'her', 'good', 'result', 'meeting', 'between', 'two', 'families', 'was', 'a', 'joyful', 'one', 'I', 'glad', 'about', 'his', 'new', 'job', 'she', 'glad', 'to', 'see', 'her', 'love', 'I', 'glad', 'to', 'have', 'a', 'success', 'to', 'be', 'of', 'use', 'in', 'world', 'is', 'only', 'way', 'to', 'be', 'happy', 'people', 'are', 'fearful', 'of', 'rising', 'crime', 'in', 'area', 'people', 'are', 'fearful', 'because', 'of', 'rising', 'depression', 'I', 'fearful', 'for', 'my', 'life', 'he', 'suffered', 'agonies', 'of', 'remorse', 'she', 'suffered', 'agonies', 'of', 'remorse', 'I', 'suffered', 'agonies', 'of', 'remorse', 'she', 'overwhelmed', 'by', 'a', 'surge', 'of', 'remorse', 'he', 'felt', 'remorse', 'for', 'his', 'crimes', 'he', 'smiles', 'when', 'he', 'sees', 'himself', 'you', 'need', 'to', 'be', 'a', 'good', 'man', 'he', 'loves', 'to', 'listen', 'at', 'keyhole', 'of', 'others', 'he', 'a', 'great', 'joy', 'to', 'listen', 'to', 'we', 'are', 'going', 'to', 'listen', 'to', 'a', 'great', 'report', 'she', 'cooking', 'a', 'great', 'fish', 'as', 'a', 'treat', 'she', 'read', 'love', 'letter', 'I', 'read', 'love', 'letter', 'she', 'writes', 'great', 'love', 'letters', 'it', 'is', 'great', 'to', 'dance', 'someone', 'laughs', 'we', 'all', 'like', 'to', 'laugh', 'I', 'fell', 'into', 'misery', 'she', 'committed', 'suicide', 'he', 'committed', 'suicide', 'because', 'of', 'depression', 'she', 'had', 'attempted', 'suicide', 'we', 'had', 'to', 'smile', 'for', 'photo', 'she', 'happy', 'to', 'take', 'a', 'photo', 'we', 'were', 'shocked', 'by', 'his', 'attempted', 'suicide', 'her', 'suicide', 'attempt', 'was', 'really', 'a', 'cry', 'for', 'help', 'he', 'died', 'without', 'leaving', 'a', 'suicide', 'note', 'I', 'will', 'try', 'not', 'to', 'disappoint', 'you', 'next', 'time', 'he', 'certainly', 'did', 'not', 'disappoint', 'audience', 'she', 'had', 'repeatedly', 'threatened', 'to', 'commit', 'suicide', 'her', 'suffering', 'distressed', 'her', 'into', 'committing', 'suicide', 'he', 'a', 'successful', 'man', 'she', 'ashamed', 'of', 'her', 'background', 'I', 'feel', 'ashamed', 'of', 'my', 'failure', 'he', 'feels', 'like', 'a', 'failure', 'I', 'want', 'to', 'dance', 'with', 'her', 'he', 'wants', 'to', 'dance', 'she', 'wants', 'to', 'dance', 'with', 'him', 'she', 'put', 'a', 'smile', 'on', 'her', 'face', 'I', 'smile', 'every', 'day', 'I', 'got', 'feeling', 'he', 'upset', 'about', 'something', 'she', 'nuzzled', 'his', 'neck', 'way', 'he', 'did', 'to', 'her', 'when', 'she', 'upset', 'I', 'sorry', 'they', 'upset', 'you', 'she', 'knew', 'she', 'would', 'disappoint', 'him', 'she', 'knew', 'he', 'depressing', 'her', 'decision', 'to', 'cancel', 'concert', 'is', 'bound', 'to', 'disappoint', 'her', 'fans', 'they', 'constantly', 'disappoint', 'young', 'man', 'committed', 'mass', 'suicide', 'people', 'commit', 'suicide', 'she', 'committed', 'suicide', 'three', 'days', 'later', 'he', 'has', 'exhibited', 'symptoms', 'of', 'anxiety', 'I', 'hate', 'to', 'see', 'you', 'upset']\n"
     ]
    }
   ],
   "source": [
    "# merging all diagrams into one\n",
    "all_diagrams = train_diagrams + dev_diagrams + test_diagrams\n",
    "\n",
    "# known symbols (330 words)\n",
    "known_words = []\n",
    "known_words_list = []\n",
    "for i in range(len(all_diagrams)):\n",
    "    known_words = [box.name for box in all_diagrams[i].boxes if isinstance(box, Word)]\n",
    "    for j in range(len(known_words)):\n",
    "        known_words_list.append(known_words[j])\n",
    "\n",
    "print(known_words_list)"
   ]
  },
  {
   "cell_type": "code",
   "execution_count": 106,
   "id": "74ba1dd7-c9a8-449d-91d4-caa179a37e98",
   "metadata": {},
   "outputs": [
    {
     "data": {
      "image/png": "[encoded data removed]",
      "text/plain": [
       "<Figure size 432x288 with 1 Axes>"
      ]
     },
     "metadata": {},
     "output_type": "display_data"
    }
   ],
   "source": [
    "# new sample\n",
    "new_diagram = parser.sentence2diagram(test_sentence[0])\n",
    "new_diagram2 = parser.sentence2diagram(test_sentence[1])\n",
    "\n",
    "new_diagram.draw()"
   ]
  },
  {
   "cell_type": "code",
   "execution_count": 107,
   "id": "b8b50a62-ee9c-4757-8a40-b44755260478",
   "metadata": {},
   "outputs": [],
   "source": [
    "# initializing the replace functor\n",
    "replace_functor = Functor(ob=lambda x: x, ar=replace)"
   ]
  },
  {
   "cell_type": "code",
   "execution_count": 108,
   "id": "35eeabb5-a945-4a02-8f55-f0f8c69c49c1",
   "metadata": {},
   "outputs": [
    {
     "data": {
      "image/png": "[encoded data removed]",
      "text/plain": [
       "<Figure size 432x288 with 1 Axes>"
      ]
     },
     "metadata": {},
     "output_type": "display_data"
    }
   ],
   "source": [
    "# tokenized diagram\n",
    "replaced_diag = replace_functor(new_diagram)\n",
    "replaced_diag.draw()\n",
    "replaced_diag2 = replace_functor(new_diagram2)"
   ]
  },
  {
   "cell_type": "code",
   "execution_count": 109,
   "id": "4ffdb72a-a575-4175-b143-601a144ff2c2",
   "metadata": {},
   "outputs": [
    {
     "data": {
      "image/png": "[encoded data removed]",
      "text/plain": [
       "<Figure size 432x288 with 1 Axes>"
      ]
     },
     "metadata": {},
     "output_type": "display_data"
    }
   ],
   "source": [
    "# removing cups\n",
    "diagram = remove_cups(replaced_diag)\n",
    "diagram.draw()\n",
    "diagram2 = remove_cups(replaced_diag2)"
   ]
  },
  {
   "cell_type": "code",
   "execution_count": 110,
   "id": "336c890d-5130-435d-90c4-adc222422347",
   "metadata": {},
   "outputs": [
    {
     "data": {
      "image/png": "[encoded data removed]",
      "text/plain": [
       "<Figure size 432x288 with 1 Axes>"
      ]
     },
     "metadata": {},
     "output_type": "display_data"
    }
   ],
   "source": [
    "# initializing the ansatz for generating the circuit (1 layer, 3 qubits) (output : 1 qubit)\n",
    "ansatz = IQPAnsatz({AtomicType.NOUN: 1, AtomicType.SENTENCE: 1, AtomicType.PREPOSITIONAL_PHRASE: 1}, n_layers=1,\n",
    "                   n_single_qubit_params=3)\n",
    "\n",
    "# converting the diagram to a circuit\n",
    "diagram = ansatz(diagram)\n",
    "diagram2 = ansatz(diagram2)\n",
    "# Circuit show\n",
    "diagram.draw()"
   ]
  },
  {
   "cell_type": "code",
   "execution_count": 111,
   "id": "78bdcb9c-87e5-428b-a091-5ebb1a50d644",
   "metadata": {},
   "outputs": [
    {
     "name": "stdout",
     "output_type": "stream",
     "text": [
      "[[0.9979951311150215, 0.0020048688849784524]]\n",
      "[[0.006660987876850992, 0.993339012123149]]\n",
      "Sentence 1 is depressive and Sentence 2 is non-depressive\n"
     ]
    },
    {
     "data": {
      "text/plain": [
       "'Different Category'"
      ]
     },
     "execution_count": 111,
     "metadata": {},
     "output_type": "execute_result"
    }
   ],
   "source": [
    "# predicting on new input\n",
    "prediction = model.forward([diagram])\n",
    "prediction2 = model.forward([diagram2])\n",
    "result = prediction.tolist()\n",
    "result2 = prediction2.tolist()\n",
    "print(result)\n",
    "print(result2)\n",
    "same_category(result, result2)"
   ]
  },
  {
   "cell_type": "code",
   "execution_count": null,
   "id": "78ae012e-b058-41ba-92cd-61cac189f475",
   "metadata": {},
   "outputs": [],
   "source": []
  }
 ],
 "metadata": {
  "kernelspec": {
   "display_name": "Python 3 (ipykernel)",
   "language": "python",
   "name": "python3"
  },
  "language_info": {
   "codemirror_mode": {
    "name": "ipython",
    "version": 3
   },
   "file_extension": ".py",
   "mimetype": "text/x-python",
   "name": "python",
   "nbconvert_exporter": "python",
   "pygments_lexer": "ipython3",
   "version": "3.8.13"
  },
  "widgets": {
   "application/vnd.jupyter.widget-state+json": {
    "state": {},
    "version_major": 2,
    "version_minor": 0
   }
  }
 },
 "nbformat": 4,
 "nbformat_minor": 5
}
