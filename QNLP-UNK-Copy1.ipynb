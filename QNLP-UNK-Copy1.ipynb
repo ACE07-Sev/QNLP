{
 "cells": [
  {
   "cell_type": "code",
   "execution_count": 1,
   "id": "a2eed83a-38ef-4663-9178-b48b80b304fe",
   "metadata": {},
   "outputs": [
    {
     "name": "stdout",
     "output_type": "stream",
     "text": [
      "Collecting textblob\n",
      "  Using cached textblob-0.17.1-py2.py3-none-any.whl (636 kB)\n",
      "Collecting nltk>=3.1\n",
      "  Using cached nltk-3.8.1-py3-none-any.whl (1.5 MB)\n",
      "Requirement already satisfied: joblib in /opt/conda/lib/python3.10/site-packages (from nltk>=3.1->textblob) (1.2.0)\n",
      "Requirement already satisfied: click in /opt/conda/lib/python3.10/site-packages (from nltk>=3.1->textblob) (8.1.3)\n",
      "Requirement already satisfied: tqdm in /opt/conda/lib/python3.10/site-packages (from nltk>=3.1->textblob) (4.65.0)\n",
      "Collecting regex>=2021.8.3\n",
      "  Downloading regex-2023.5.5-cp310-cp310-manylinux_2_17_x86_64.manylinux2014_x86_64.whl (769 kB)\n",
      "\u001b[2K     \u001b[90m━━━━━━━━━━━━━━━━━━━━━━━━━━━━━━━━━━━━━━━\u001b[0m \u001b[32m769.7/769.7 kB\u001b[0m \u001b[31m1.1 MB/s\u001b[0m eta \u001b[36m0:00:00\u001b[0m00:01\u001b[0m\n",
      "\u001b[?25hInstalling collected packages: regex, nltk, textblob\n",
      "Successfully installed nltk-3.8.1 regex-2023.5.5 textblob-0.17.1\n",
      "\n",
      "\u001b[1m[\u001b[0m\u001b[34;49mnotice\u001b[0m\u001b[1;39;49m]\u001b[0m\u001b[39;49m A new release of pip available: \u001b[0m\u001b[31;49m23.1.1\u001b[0m\u001b[39;49m -> \u001b[0m\u001b[32;49m23.1.2\u001b[0m\n",
      "\u001b[1m[\u001b[0m\u001b[34;49mnotice\u001b[0m\u001b[1;39;49m]\u001b[0m\u001b[39;49m To update, run: \u001b[0m\u001b[32;49mpip install --upgrade pip\u001b[0m\n",
      "Note: you may need to restart the kernel to use updated packages.\n"
     ]
    }
   ],
   "source": [
    "pip install textblob"
   ]
  },
  {
   "cell_type": "code",
   "execution_count": 2,
   "id": "fab810a3-2c8b-4e26-baae-9955cdba735f",
   "metadata": {},
   "outputs": [
    {
     "name": "stdout",
     "output_type": "stream",
     "text": [
      "Collecting cleantext\n",
      "  Using cached cleantext-1.1.4-py3-none-any.whl (4.9 kB)\n",
      "Requirement already satisfied: nltk in /opt/conda/lib/python3.10/site-packages (from cleantext) (3.8.1)\n",
      "Requirement already satisfied: regex>=2021.8.3 in /opt/conda/lib/python3.10/site-packages (from nltk->cleantext) (2023.5.5)\n",
      "Requirement already satisfied: joblib in /opt/conda/lib/python3.10/site-packages (from nltk->cleantext) (1.2.0)\n",
      "Requirement already satisfied: click in /opt/conda/lib/python3.10/site-packages (from nltk->cleantext) (8.1.3)\n",
      "Requirement already satisfied: tqdm in /opt/conda/lib/python3.10/site-packages (from nltk->cleantext) (4.65.0)\n",
      "Installing collected packages: cleantext\n",
      "Successfully installed cleantext-1.1.4\n",
      "\n",
      "\u001b[1m[\u001b[0m\u001b[34;49mnotice\u001b[0m\u001b[1;39;49m]\u001b[0m\u001b[39;49m A new release of pip available: \u001b[0m\u001b[31;49m23.1.1\u001b[0m\u001b[39;49m -> \u001b[0m\u001b[32;49m23.1.2\u001b[0m\n",
      "\u001b[1m[\u001b[0m\u001b[34;49mnotice\u001b[0m\u001b[1;39;49m]\u001b[0m\u001b[39;49m To update, run: \u001b[0m\u001b[32;49mpip install --upgrade pip\u001b[0m\n",
      "Note: you may need to restart the kernel to use updated packages.\n"
     ]
    }
   ],
   "source": [
    "pip install cleantext"
   ]
  },
  {
   "cell_type": "code",
   "execution_count": 3,
   "id": "a9e34e1b-fae2-4497-a8f9-a4f112fd8187",
   "metadata": {},
   "outputs": [
    {
     "name": "stdout",
     "output_type": "stream",
     "text": [
      "Collecting discopy\n",
      "  Downloading discopy-1.1.2-py3-none-any.whl (142 kB)\n",
      "\u001b[2K     \u001b[90m━━━━━━━━━━━━━━━━━━━━━━━━━━━━━━━━━━━━━\u001b[0m \u001b[32m142.4/142.4 kB\u001b[0m \u001b[31m308.2 kB/s\u001b[0m eta \u001b[36m0:00:00\u001b[0ma \u001b[36m0:00:01\u001b[0m\n",
      "\u001b[?25hRequirement already satisfied: networkx>=2.4 in /opt/conda/lib/python3.10/site-packages (from discopy) (2.8.8)\n",
      "Requirement already satisfied: pillow>=6.2.1 in /opt/conda/lib/python3.10/site-packages (from discopy) (9.2.0)\n",
      "Requirement already satisfied: matplotlib>=3.1.2 in /opt/conda/lib/python3.10/site-packages (from discopy) (3.6.3)\n",
      "Requirement already satisfied: numpy>=1.18.1 in /opt/conda/lib/python3.10/site-packages (from discopy) (1.23.5)\n",
      "Requirement already satisfied: cycler>=0.10 in /opt/conda/lib/python3.10/site-packages (from matplotlib>=3.1.2->discopy) (0.11.0)\n",
      "Requirement already satisfied: pyparsing>=2.2.1 in /opt/conda/lib/python3.10/site-packages (from matplotlib>=3.1.2->discopy) (3.0.9)\n",
      "Requirement already satisfied: python-dateutil>=2.7 in /opt/conda/lib/python3.10/site-packages (from matplotlib>=3.1.2->discopy) (2.8.2)\n",
      "Requirement already satisfied: kiwisolver>=1.0.1 in /opt/conda/lib/python3.10/site-packages (from matplotlib>=3.1.2->discopy) (1.4.4)\n",
      "Requirement already satisfied: packaging>=20.0 in /opt/conda/lib/python3.10/site-packages (from matplotlib>=3.1.2->discopy) (21.3)\n",
      "Requirement already satisfied: contourpy>=1.0.1 in /opt/conda/lib/python3.10/site-packages (from matplotlib>=3.1.2->discopy) (1.0.6)\n",
      "Requirement already satisfied: fonttools>=4.22.0 in /opt/conda/lib/python3.10/site-packages (from matplotlib>=3.1.2->discopy) (4.38.0)\n",
      "Requirement already satisfied: six>=1.5 in /opt/conda/lib/python3.10/site-packages (from python-dateutil>=2.7->matplotlib>=3.1.2->discopy) (1.16.0)\n",
      "Installing collected packages: discopy\n",
      "Successfully installed discopy-1.1.2\n",
      "\n",
      "\u001b[1m[\u001b[0m\u001b[34;49mnotice\u001b[0m\u001b[1;39;49m]\u001b[0m\u001b[39;49m A new release of pip available: \u001b[0m\u001b[31;49m23.1.1\u001b[0m\u001b[39;49m -> \u001b[0m\u001b[32;49m23.1.2\u001b[0m\n",
      "\u001b[1m[\u001b[0m\u001b[34;49mnotice\u001b[0m\u001b[1;39;49m]\u001b[0m\u001b[39;49m To update, run: \u001b[0m\u001b[32;49mpip install --upgrade pip\u001b[0m\n",
      "Note: you may need to restart the kernel to use updated packages.\n"
     ]
    }
   ],
   "source": [
    "pip install discopy"
   ]
  },
  {
   "cell_type": "code",
   "execution_count": 4,
   "id": "b96d190e-051e-4968-a978-76b37a73e677",
   "metadata": {},
   "outputs": [
    {
     "name": "stdout",
     "output_type": "stream",
     "text": [
      "Collecting spacy\n",
      "  Downloading spacy-3.5.3-cp310-cp310-manylinux_2_17_x86_64.manylinux2014_x86_64.whl (6.6 MB)\n",
      "\u001b[2K     \u001b[90m━━━━━━━━━━━━━━━━━━━━━━━━━━━━━━━━━━━━━━━━\u001b[0m \u001b[32m6.6/6.6 MB\u001b[0m \u001b[31m4.3 MB/s\u001b[0m eta \u001b[36m0:00:00\u001b[0m:00:01\u001b[0m00:01\u001b[0m\n",
      "\u001b[?25hCollecting thinc<8.2.0,>=8.1.8\n",
      "  Downloading thinc-8.1.10-cp310-cp310-manylinux_2_17_x86_64.manylinux2014_x86_64.whl (913 kB)\n",
      "\u001b[2K     \u001b[90m━━━━━━━━━━━━━━━━━━━━━━━━━━━━━━━━━━━━━━━\u001b[0m \u001b[32m913.3/913.3 kB\u001b[0m \u001b[31m2.5 MB/s\u001b[0m eta \u001b[36m0:00:00\u001b[0m00:01\u001b[0m\n",
      "\u001b[?25hCollecting spacy-loggers<2.0.0,>=1.0.0\n",
      "  Using cached spacy_loggers-1.0.4-py3-none-any.whl (11 kB)\n",
      "Requirement already satisfied: numpy>=1.15.0 in /opt/conda/lib/python3.10/site-packages (from spacy) (1.23.5)\n",
      "Collecting pydantic!=1.8,!=1.8.1,<1.11.0,>=1.7.4\n",
      "  Downloading pydantic-1.10.8-cp310-cp310-manylinux_2_17_x86_64.manylinux2014_x86_64.whl (3.1 MB)\n",
      "\u001b[2K     \u001b[90m━━━━━━━━━━━━━━━━━━━━━━━━━━━━━━━━━━━━━━━━\u001b[0m \u001b[32m3.1/3.1 MB\u001b[0m \u001b[31m5.7 MB/s\u001b[0m eta \u001b[36m0:00:00\u001b[0m:00:01\u001b[0m\n",
      "\u001b[?25hRequirement already satisfied: setuptools in /opt/conda/lib/python3.10/site-packages (from spacy) (67.7.2)\n",
      "Collecting typer<0.8.0,>=0.3.0\n",
      "  Using cached typer-0.7.0-py3-none-any.whl (38 kB)\n",
      "Collecting wasabi<1.2.0,>=0.9.1\n",
      "  Using cached wasabi-1.1.1-py3-none-any.whl (27 kB)\n",
      "Requirement already satisfied: jinja2 in /opt/conda/lib/python3.10/site-packages (from spacy) (3.1.2)\n",
      "Requirement already satisfied: requests<3.0.0,>=2.13.0 in /opt/conda/lib/python3.10/site-packages (from spacy) (2.28.1)\n",
      "Requirement already satisfied: packaging>=20.0 in /opt/conda/lib/python3.10/site-packages (from spacy) (21.3)\n",
      "Collecting pathy>=0.10.0\n",
      "  Using cached pathy-0.10.1-py3-none-any.whl (48 kB)\n",
      "Collecting preshed<3.1.0,>=3.0.2\n",
      "  Downloading preshed-3.0.8-cp310-cp310-manylinux_2_5_x86_64.manylinux1_x86_64.manylinux_2_17_x86_64.manylinux2014_x86_64.whl (124 kB)\n",
      "\u001b[2K     \u001b[90m━━━━━━━━━━━━━━━━━━━━━━━━━━━━━━━━━━━━━\u001b[0m \u001b[32m124.7/124.7 kB\u001b[0m \u001b[31m266.0 kB/s\u001b[0m eta \u001b[36m0:00:00\u001b[0m00:01\u001b[0m\n",
      "\u001b[?25hCollecting spacy-legacy<3.1.0,>=3.0.11\n",
      "  Using cached spacy_legacy-3.0.12-py2.py3-none-any.whl (29 kB)\n",
      "Collecting cymem<2.1.0,>=2.0.2\n",
      "  Downloading cymem-2.0.7-cp310-cp310-manylinux_2_17_x86_64.manylinux2014_x86_64.whl (34 kB)\n",
      "Collecting murmurhash<1.1.0,>=0.28.0\n",
      "  Downloading murmurhash-1.0.9-cp310-cp310-manylinux_2_5_x86_64.manylinux1_x86_64.manylinux_2_17_x86_64.manylinux2014_x86_64.whl (21 kB)\n",
      "Collecting smart-open<7.0.0,>=5.2.1\n",
      "  Using cached smart_open-6.3.0-py3-none-any.whl (56 kB)\n",
      "Collecting catalogue<2.1.0,>=2.0.6\n",
      "  Using cached catalogue-2.0.8-py3-none-any.whl (17 kB)\n",
      "Collecting srsly<3.0.0,>=2.4.3\n",
      "  Downloading srsly-2.4.6-cp310-cp310-manylinux_2_17_x86_64.manylinux2014_x86_64.whl (492 kB)\n",
      "\u001b[2K     \u001b[90m━━━━━━━━━━━━━━━━━━━━━━━━━━━━━━━━━━━━━━━\u001b[0m \u001b[32m492.2/492.2 kB\u001b[0m \u001b[31m1.1 MB/s\u001b[0m eta \u001b[36m0:00:00\u001b[0m00:01\u001b[0m\n",
      "\u001b[?25hCollecting langcodes<4.0.0,>=3.2.0\n",
      "  Using cached langcodes-3.3.0-py3-none-any.whl (181 kB)\n",
      "Requirement already satisfied: tqdm<5.0.0,>=4.38.0 in /opt/conda/lib/python3.10/site-packages (from spacy) (4.65.0)\n",
      "Requirement already satisfied: pyparsing!=3.0.5,>=2.0.2 in /opt/conda/lib/python3.10/site-packages (from packaging>=20.0->spacy) (3.0.9)\n",
      "Requirement already satisfied: typing-extensions>=4.2.0 in /opt/conda/lib/python3.10/site-packages (from pydantic!=1.8,!=1.8.1,<1.11.0,>=1.7.4->spacy) (4.5.0)\n",
      "Requirement already satisfied: charset-normalizer<3,>=2 in /opt/conda/lib/python3.10/site-packages (from requests<3.0.0,>=2.13.0->spacy) (2.1.1)\n",
      "Requirement already satisfied: idna<4,>=2.5 in /opt/conda/lib/python3.10/site-packages (from requests<3.0.0,>=2.13.0->spacy) (3.4)\n",
      "Requirement already satisfied: urllib3<1.27,>=1.21.1 in /opt/conda/lib/python3.10/site-packages (from requests<3.0.0,>=2.13.0->spacy) (1.26.13)\n",
      "Requirement already satisfied: certifi>=2017.4.17 in /opt/conda/lib/python3.10/site-packages (from requests<3.0.0,>=2.13.0->spacy) (2022.9.24)\n",
      "Collecting blis<0.8.0,>=0.7.8\n",
      "  Downloading blis-0.7.9-cp310-cp310-manylinux_2_17_x86_64.manylinux2014_x86_64.whl (10.2 MB)\n",
      "\u001b[2K     \u001b[90m━━━━━━━━━━━━━━━━━━━━━━━━━━━━━━━━━━━━━━━━\u001b[0m \u001b[32m10.2/10.2 MB\u001b[0m \u001b[31m6.7 MB/s\u001b[0m eta \u001b[36m0:00:00\u001b[0m:00:01\u001b[0m00:01\u001b[0m\n",
      "\u001b[?25hCollecting confection<1.0.0,>=0.0.1\n",
      "  Using cached confection-0.0.4-py3-none-any.whl (32 kB)\n",
      "Requirement already satisfied: click<9.0.0,>=7.1.1 in /opt/conda/lib/python3.10/site-packages (from typer<0.8.0,>=0.3.0->spacy) (8.1.3)\n",
      "Requirement already satisfied: MarkupSafe>=2.0 in /opt/conda/lib/python3.10/site-packages (from jinja2->spacy) (2.1.2)\n",
      "Installing collected packages: cymem, wasabi, typer, spacy-loggers, spacy-legacy, smart-open, pydantic, murmurhash, langcodes, catalogue, blis, srsly, preshed, pathy, confection, thinc, spacy\n",
      "Successfully installed blis-0.7.9 catalogue-2.0.8 confection-0.0.4 cymem-2.0.7 langcodes-3.3.0 murmurhash-1.0.9 pathy-0.10.1 preshed-3.0.8 pydantic-1.10.8 smart-open-6.3.0 spacy-3.5.3 spacy-legacy-3.0.12 spacy-loggers-1.0.4 srsly-2.4.6 thinc-8.1.10 typer-0.7.0 wasabi-1.1.1\n",
      "\n",
      "\u001b[1m[\u001b[0m\u001b[34;49mnotice\u001b[0m\u001b[1;39;49m]\u001b[0m\u001b[39;49m A new release of pip available: \u001b[0m\u001b[31;49m23.1.1\u001b[0m\u001b[39;49m -> \u001b[0m\u001b[32;49m23.1.2\u001b[0m\n",
      "\u001b[1m[\u001b[0m\u001b[34;49mnotice\u001b[0m\u001b[1;39;49m]\u001b[0m\u001b[39;49m To update, run: \u001b[0m\u001b[32;49mpip install --upgrade pip\u001b[0m\n",
      "Note: you may need to restart the kernel to use updated packages.\n"
     ]
    }
   ],
   "source": [
    "pip install spacy"
   ]
  },
  {
   "cell_type": "code",
   "execution_count": 5,
   "id": "7783b39f-6dc4-402a-af5c-0e6e57179655",
   "metadata": {},
   "outputs": [
    {
     "name": "stdout",
     "output_type": "stream",
     "text": [
      "Collecting lambeq\n",
      "  Downloading lambeq-0.3.1-py3-none-any.whl (133 kB)\n",
      "\u001b[2K     \u001b[90m━━━━━━━━━━━━━━━━━━━━━━━━━━━━━━━━━━━━━\u001b[0m \u001b[32m134.0/134.0 kB\u001b[0m \u001b[31m178.6 kB/s\u001b[0m eta \u001b[36m0:00:00\u001b[0m00:01\u001b[0m00:01\u001b[0m\n",
      "\u001b[?25hCollecting tensornetwork\n",
      "  Using cached tensornetwork-0.4.6-py3-none-any.whl (364 kB)\n",
      "Collecting discopy==0.5.*,>=0.5.1.1\n",
      "  Downloading discopy-0.5.1.1.tar.gz (126 kB)\n",
      "\u001b[2K     \u001b[90m━━━━━━━━━━━━━━━━━━━━━━━━━━━━━━━━━━━━━\u001b[0m \u001b[32m126.6/126.6 kB\u001b[0m \u001b[31m221.4 kB/s\u001b[0m eta \u001b[36m0:00:00\u001b[0ma \u001b[36m0:00:01\u001b[0m\n",
      "\u001b[?25h  Preparing metadata (setup.py) ... \u001b[?25ldone\n",
      "\u001b[?25hRequirement already satisfied: torch>=1.12.1 in /opt/conda/lib/python3.10/site-packages (from lambeq) (2.0.1)\n",
      "Requirement already satisfied: pyyaml in /opt/conda/lib/python3.10/site-packages (from lambeq) (6.0)\n",
      "Requirement already satisfied: spacy>=3.0 in /opt/conda/lib/python3.10/site-packages (from lambeq) (3.5.3)\n",
      "Collecting transformers\n",
      "  Downloading transformers-4.29.2-py3-none-any.whl (7.1 MB)\n",
      "\u001b[2K     \u001b[90m━━━━━━━━━━━━━━━━━━━━━━━━━━━━━━━━━━━━━━━━\u001b[0m \u001b[32m7.1/7.1 MB\u001b[0m \u001b[31m6.7 MB/s\u001b[0m eta \u001b[36m0:00:00\u001b[0m:00:01\u001b[0m00:01\u001b[0m\n",
      "\u001b[?25hCollecting pytket>=0.19.2\n",
      "  Downloading pytket-1.15.0-cp310-cp310-manylinux_2_17_x86_64.manylinux2014_x86_64.whl (7.3 MB)\n",
      "\u001b[2K     \u001b[90m━━━━━━━━━━━━━━━━━━━━━━━━━━━━━━━━━━━━━━━━\u001b[0m \u001b[32m7.3/7.3 MB\u001b[0m \u001b[31m8.8 MB/s\u001b[0m eta \u001b[36m0:00:00\u001b[0m:00:01\u001b[0m00:01\u001b[0mm\n",
      "\u001b[?25hRequirement already satisfied: numpy>=1.18.1 in /opt/conda/lib/python3.10/site-packages (from discopy==0.5.*,>=0.5.1.1->lambeq) (1.23.5)\n",
      "Requirement already satisfied: networkx>=2.4 in /opt/conda/lib/python3.10/site-packages (from discopy==0.5.*,>=0.5.1.1->lambeq) (2.8.8)\n",
      "Requirement already satisfied: matplotlib>=3.1.2 in /opt/conda/lib/python3.10/site-packages (from discopy==0.5.*,>=0.5.1.1->lambeq) (3.6.3)\n",
      "Requirement already satisfied: pillow>=6.2.1 in /opt/conda/lib/python3.10/site-packages (from discopy==0.5.*,>=0.5.1.1->lambeq) (9.2.0)\n",
      "Requirement already satisfied: sympy~=1.6 in /opt/conda/lib/python3.10/site-packages (from pytket>=0.19.2->lambeq) (1.11.1)\n",
      "Collecting qwasm~=1.0\n",
      "  Using cached qwasm-1.0.1-py3-none-any.whl (15 kB)\n",
      "Collecting types-pkg-resources\n",
      "  Using cached types_pkg_resources-0.1.3-py2.py3-none-any.whl (4.8 kB)\n",
      "Collecting networkx>=2.4\n",
      "  Downloading networkx-3.1-py3-none-any.whl (2.1 MB)\n",
      "\u001b[2K     \u001b[90m━━━━━━━━━━━━━━━━━━━━━━━━━━━━━━━━━━━━━━━━\u001b[0m \u001b[32m2.1/2.1 MB\u001b[0m \u001b[31m3.9 MB/s\u001b[0m eta \u001b[36m0:00:00\u001b[0m0:00:01\u001b[0m\n",
      "\u001b[?25hRequirement already satisfied: jinja2~=3.0 in /opt/conda/lib/python3.10/site-packages (from pytket>=0.19.2->lambeq) (3.1.2)\n",
      "Requirement already satisfied: scipy<2.0,>=1.7.2 in /opt/conda/lib/python3.10/site-packages (from pytket>=0.19.2->lambeq) (1.9.3)\n",
      "Requirement already satisfied: graphviz~=0.14 in /opt/conda/lib/python3.10/site-packages (from pytket>=0.19.2->lambeq) (0.20.1)\n",
      "Requirement already satisfied: typing-extensions~=4.2 in /opt/conda/lib/python3.10/site-packages (from pytket>=0.19.2->lambeq) (4.5.0)\n",
      "Collecting lark-parser~=0.7\n",
      "  Using cached lark_parser-0.12.0-py2.py3-none-any.whl (103 kB)\n",
      "Requirement already satisfied: typer<0.8.0,>=0.3.0 in /opt/conda/lib/python3.10/site-packages (from spacy>=3.0->lambeq) (0.7.0)\n",
      "Requirement already satisfied: pydantic!=1.8,!=1.8.1,<1.11.0,>=1.7.4 in /opt/conda/lib/python3.10/site-packages (from spacy>=3.0->lambeq) (1.10.8)\n",
      "Requirement already satisfied: srsly<3.0.0,>=2.4.3 in /opt/conda/lib/python3.10/site-packages (from spacy>=3.0->lambeq) (2.4.6)\n",
      "Requirement already satisfied: cymem<2.1.0,>=2.0.2 in /opt/conda/lib/python3.10/site-packages (from spacy>=3.0->lambeq) (2.0.7)\n",
      "Requirement already satisfied: pathy>=0.10.0 in /opt/conda/lib/python3.10/site-packages (from spacy>=3.0->lambeq) (0.10.1)\n",
      "Requirement already satisfied: smart-open<7.0.0,>=5.2.1 in /opt/conda/lib/python3.10/site-packages (from spacy>=3.0->lambeq) (6.3.0)\n",
      "Requirement already satisfied: wasabi<1.2.0,>=0.9.1 in /opt/conda/lib/python3.10/site-packages (from spacy>=3.0->lambeq) (1.1.1)\n",
      "Requirement already satisfied: langcodes<4.0.0,>=3.2.0 in /opt/conda/lib/python3.10/site-packages (from spacy>=3.0->lambeq) (3.3.0)\n",
      "Requirement already satisfied: thinc<8.2.0,>=8.1.8 in /opt/conda/lib/python3.10/site-packages (from spacy>=3.0->lambeq) (8.1.10)\n",
      "Requirement already satisfied: spacy-legacy<3.1.0,>=3.0.11 in /opt/conda/lib/python3.10/site-packages (from spacy>=3.0->lambeq) (3.0.12)\n",
      "Requirement already satisfied: tqdm<5.0.0,>=4.38.0 in /opt/conda/lib/python3.10/site-packages (from spacy>=3.0->lambeq) (4.65.0)\n",
      "Requirement already satisfied: packaging>=20.0 in /opt/conda/lib/python3.10/site-packages (from spacy>=3.0->lambeq) (21.3)\n",
      "Requirement already satisfied: murmurhash<1.1.0,>=0.28.0 in /opt/conda/lib/python3.10/site-packages (from spacy>=3.0->lambeq) (1.0.9)\n",
      "Requirement already satisfied: preshed<3.1.0,>=3.0.2 in /opt/conda/lib/python3.10/site-packages (from spacy>=3.0->lambeq) (3.0.8)\n",
      "Requirement already satisfied: setuptools in /opt/conda/lib/python3.10/site-packages (from spacy>=3.0->lambeq) (67.7.2)\n",
      "Requirement already satisfied: catalogue<2.1.0,>=2.0.6 in /opt/conda/lib/python3.10/site-packages (from spacy>=3.0->lambeq) (2.0.8)\n",
      "Requirement already satisfied: requests<3.0.0,>=2.13.0 in /opt/conda/lib/python3.10/site-packages (from spacy>=3.0->lambeq) (2.28.1)\n",
      "Requirement already satisfied: spacy-loggers<2.0.0,>=1.0.0 in /opt/conda/lib/python3.10/site-packages (from spacy>=3.0->lambeq) (1.0.4)\n",
      "Requirement already satisfied: filelock in /opt/conda/lib/python3.10/site-packages (from torch>=1.12.1->lambeq) (3.12.0)\n",
      "Requirement already satisfied: nvidia-cuda-nvrtc-cu11==11.7.99 in /opt/conda/lib/python3.10/site-packages (from torch>=1.12.1->lambeq) (11.7.99)\n",
      "Requirement already satisfied: triton==2.0.0 in /opt/conda/lib/python3.10/site-packages (from torch>=1.12.1->lambeq) (2.0.0)\n",
      "Requirement already satisfied: nvidia-cudnn-cu11==8.5.0.96 in /opt/conda/lib/python3.10/site-packages (from torch>=1.12.1->lambeq) (8.5.0.96)\n",
      "Requirement already satisfied: nvidia-curand-cu11==10.2.10.91 in /opt/conda/lib/python3.10/site-packages (from torch>=1.12.1->lambeq) (10.2.10.91)\n",
      "Requirement already satisfied: nvidia-cusparse-cu11==11.7.4.91 in /opt/conda/lib/python3.10/site-packages (from torch>=1.12.1->lambeq) (11.7.4.91)\n",
      "Requirement already satisfied: nvidia-cufft-cu11==10.9.0.58 in /opt/conda/lib/python3.10/site-packages (from torch>=1.12.1->lambeq) (10.9.0.58)\n",
      "Requirement already satisfied: nvidia-nvtx-cu11==11.7.91 in /opt/conda/lib/python3.10/site-packages (from torch>=1.12.1->lambeq) (11.7.91)\n",
      "Requirement already satisfied: nvidia-cusolver-cu11==11.4.0.1 in /opt/conda/lib/python3.10/site-packages (from torch>=1.12.1->lambeq) (11.4.0.1)\n",
      "Requirement already satisfied: nvidia-cuda-cupti-cu11==11.7.101 in /opt/conda/lib/python3.10/site-packages (from torch>=1.12.1->lambeq) (11.7.101)\n",
      "Requirement already satisfied: nvidia-cuda-runtime-cu11==11.7.99 in /opt/conda/lib/python3.10/site-packages (from torch>=1.12.1->lambeq) (11.7.99)\n",
      "Requirement already satisfied: nvidia-nccl-cu11==2.14.3 in /opt/conda/lib/python3.10/site-packages (from torch>=1.12.1->lambeq) (2.14.3)\n",
      "Requirement already satisfied: nvidia-cublas-cu11==11.10.3.66 in /opt/conda/lib/python3.10/site-packages (from torch>=1.12.1->lambeq) (11.10.3.66)\n",
      "Requirement already satisfied: wheel in /opt/conda/lib/python3.10/site-packages (from nvidia-cublas-cu11==11.10.3.66->torch>=1.12.1->lambeq) (0.38.4)\n",
      "Requirement already satisfied: lit in /opt/conda/lib/python3.10/site-packages (from triton==2.0.0->torch>=1.12.1->lambeq) (16.0.5)\n",
      "Requirement already satisfied: cmake in /opt/conda/lib/python3.10/site-packages (from triton==2.0.0->torch>=1.12.1->lambeq) (3.26.3)\n",
      "Requirement already satisfied: h5py>=2.9.0 in /opt/conda/lib/python3.10/site-packages (from tensornetwork->lambeq) (3.7.0)\n",
      "Collecting opt-einsum>=2.3.0\n",
      "  Using cached opt_einsum-3.3.0-py3-none-any.whl (65 kB)\n",
      "Collecting tokenizers!=0.11.3,<0.14,>=0.11.1\n",
      "  Downloading tokenizers-0.13.3-cp310-cp310-manylinux_2_17_x86_64.manylinux2014_x86_64.whl (7.8 MB)\n",
      "\u001b[2K     \u001b[90m━━━━━━━━━━━━━━━━━━━━━━━━━━━━━━━━━━━━━━━━\u001b[0m \u001b[32m7.8/7.8 MB\u001b[0m \u001b[31m10.6 MB/s\u001b[0m eta \u001b[36m0:00:00\u001b[0m:00:01\u001b[0m00:01\u001b[0m\n",
      "\u001b[?25hCollecting huggingface-hub<1.0,>=0.14.1\n",
      "  Downloading huggingface_hub-0.14.1-py3-none-any.whl (224 kB)\n",
      "\u001b[2K     \u001b[90m━━━━━━━━━━━━━━━━━━━━━━━━━━━━━━━━━━━━━\u001b[0m \u001b[32m224.5/224.5 kB\u001b[0m \u001b[31m615.3 kB/s\u001b[0m eta \u001b[36m0:00:00\u001b[0ma \u001b[36m0:00:01\u001b[0m\n",
      "\u001b[?25hRequirement already satisfied: regex!=2019.12.17 in /opt/conda/lib/python3.10/site-packages (from transformers->lambeq) (2023.5.5)\n",
      "Requirement already satisfied: fsspec in /opt/conda/lib/python3.10/site-packages (from huggingface-hub<1.0,>=0.14.1->transformers->lambeq) (2023.4.0)\n",
      "Requirement already satisfied: MarkupSafe>=2.0 in /opt/conda/lib/python3.10/site-packages (from jinja2~=3.0->pytket>=0.19.2->lambeq) (2.1.2)\n",
      "Requirement already satisfied: python-dateutil>=2.7 in /opt/conda/lib/python3.10/site-packages (from matplotlib>=3.1.2->discopy==0.5.*,>=0.5.1.1->lambeq) (2.8.2)\n",
      "Requirement already satisfied: contourpy>=1.0.1 in /opt/conda/lib/python3.10/site-packages (from matplotlib>=3.1.2->discopy==0.5.*,>=0.5.1.1->lambeq) (1.0.6)\n",
      "Requirement already satisfied: fonttools>=4.22.0 in /opt/conda/lib/python3.10/site-packages (from matplotlib>=3.1.2->discopy==0.5.*,>=0.5.1.1->lambeq) (4.38.0)\n",
      "Requirement already satisfied: kiwisolver>=1.0.1 in /opt/conda/lib/python3.10/site-packages (from matplotlib>=3.1.2->discopy==0.5.*,>=0.5.1.1->lambeq) (1.4.4)\n",
      "Requirement already satisfied: cycler>=0.10 in /opt/conda/lib/python3.10/site-packages (from matplotlib>=3.1.2->discopy==0.5.*,>=0.5.1.1->lambeq) (0.11.0)\n",
      "Requirement already satisfied: pyparsing>=2.2.1 in /opt/conda/lib/python3.10/site-packages (from matplotlib>=3.1.2->discopy==0.5.*,>=0.5.1.1->lambeq) (3.0.9)\n",
      "Requirement already satisfied: charset-normalizer<3,>=2 in /opt/conda/lib/python3.10/site-packages (from requests<3.0.0,>=2.13.0->spacy>=3.0->lambeq) (2.1.1)\n",
      "Requirement already satisfied: idna<4,>=2.5 in /opt/conda/lib/python3.10/site-packages (from requests<3.0.0,>=2.13.0->spacy>=3.0->lambeq) (3.4)\n",
      "Requirement already satisfied: certifi>=2017.4.17 in /opt/conda/lib/python3.10/site-packages (from requests<3.0.0,>=2.13.0->spacy>=3.0->lambeq) (2022.9.24)\n",
      "Requirement already satisfied: urllib3<1.27,>=1.21.1 in /opt/conda/lib/python3.10/site-packages (from requests<3.0.0,>=2.13.0->spacy>=3.0->lambeq) (1.26.13)\n",
      "Requirement already satisfied: mpmath>=0.19 in /opt/conda/lib/python3.10/site-packages (from sympy~=1.6->pytket>=0.19.2->lambeq) (1.2.1)\n",
      "Requirement already satisfied: confection<1.0.0,>=0.0.1 in /opt/conda/lib/python3.10/site-packages (from thinc<8.2.0,>=8.1.8->spacy>=3.0->lambeq) (0.0.4)\n",
      "Requirement already satisfied: blis<0.8.0,>=0.7.8 in /opt/conda/lib/python3.10/site-packages (from thinc<8.2.0,>=8.1.8->spacy>=3.0->lambeq) (0.7.9)\n",
      "Requirement already satisfied: click<9.0.0,>=7.1.1 in /opt/conda/lib/python3.10/site-packages (from typer<0.8.0,>=0.3.0->spacy>=3.0->lambeq) (8.1.3)\n",
      "Requirement already satisfied: six>=1.5 in /opt/conda/lib/python3.10/site-packages (from python-dateutil>=2.7->matplotlib>=3.1.2->discopy==0.5.*,>=0.5.1.1->lambeq) (1.16.0)\n",
      "Building wheels for collected packages: discopy\n",
      "  Building wheel for discopy (setup.py) ... \u001b[?25ldone\n",
      "\u001b[?25h  Created wheel for discopy: filename=discopy-0.5.1.1-py3-none-any.whl size=112872 sha256=9c5188cbad10220c2d2d098c0755746f765dbdb2082a5657ae2066482b75d402\n",
      "  Stored in directory: /home/jovyan/.cache/pip/wheels/30/b8/d1/d57ca0dd7579105993a55cb69c77b1f6f27b471b7061240eb0\n",
      "Successfully built discopy\n",
      "Installing collected packages: types-pkg-resources, tokenizers, lark-parser, qwasm, opt-einsum, networkx, tensornetwork, pytket, huggingface-hub, transformers, discopy, lambeq\n",
      "  Attempting uninstall: networkx\n",
      "    Found existing installation: networkx 2.8.8\n",
      "    Uninstalling networkx-2.8.8:\n",
      "      Successfully uninstalled networkx-2.8.8\n",
      "  Attempting uninstall: discopy\n",
      "    Found existing installation: discopy 1.1.2\n",
      "    Uninstalling discopy-1.1.2:\n",
      "      Successfully uninstalled discopy-1.1.2\n",
      "Successfully installed discopy-0.5.1.1 huggingface-hub-0.14.1 lambeq-0.3.1 lark-parser-0.12.0 networkx-3.1 opt-einsum-3.3.0 pytket-1.15.0 qwasm-1.0.1 tensornetwork-0.4.6 tokenizers-0.13.3 transformers-4.29.2 types-pkg-resources-0.1.3\n",
      "\n",
      "\u001b[1m[\u001b[0m\u001b[34;49mnotice\u001b[0m\u001b[1;39;49m]\u001b[0m\u001b[39;49m A new release of pip available: \u001b[0m\u001b[31;49m23.1.1\u001b[0m\u001b[39;49m -> \u001b[0m\u001b[32;49m23.1.2\u001b[0m\n",
      "\u001b[1m[\u001b[0m\u001b[34;49mnotice\u001b[0m\u001b[1;39;49m]\u001b[0m\u001b[39;49m To update, run: \u001b[0m\u001b[32;49mpip install --upgrade pip\u001b[0m\n",
      "Note: you may need to restart the kernel to use updated packages.\n"
     ]
    }
   ],
   "source": [
    "pip install lambeq"
   ]
  },
  {
   "cell_type": "code",
   "execution_count": 6,
   "id": "842e2f61-fddb-4136-bc06-613983a327d5",
   "metadata": {},
   "outputs": [
    {
     "name": "stdout",
     "output_type": "stream",
     "text": [
      "Collecting pytket-qiskit\n",
      "  Downloading pytket_qiskit-0.39.0-py3-none-any.whl (44 kB)\n",
      "\u001b[2K     \u001b[90m━━━━━━━━━━━━━━━━━━━━━━━━━━━━━━━━━━━━━━━━\u001b[0m \u001b[32m44.2/44.2 kB\u001b[0m \u001b[31m90.2 kB/s\u001b[0m eta \u001b[36m0:00:00\u001b[0m \u001b[36m0:00:01\u001b[0m\n",
      "\u001b[?25hRequirement already satisfied: qiskit-ibm-runtime~=0.9.2 in /opt/conda/lib/python3.10/site-packages (from pytket-qiskit) (0.9.4)\n",
      "Requirement already satisfied: pytket~=1.15 in /opt/conda/lib/python3.10/site-packages (from pytket-qiskit) (1.15.0)\n",
      "Requirement already satisfied: numpy in /opt/conda/lib/python3.10/site-packages (from pytket-qiskit) (1.23.5)\n",
      "Collecting qiskit~=0.42.1\n",
      "  Downloading qiskit-0.42.1.tar.gz (14 kB)\n",
      "  Preparing metadata (setup.py) ... \u001b[?25ldone\n",
      "\u001b[?25hRequirement already satisfied: qiskit-aer~=0.12.0 in /opt/conda/lib/python3.10/site-packages (from pytket-qiskit) (0.12.0)\n",
      "Requirement already satisfied: graphviz~=0.14 in /opt/conda/lib/python3.10/site-packages (from pytket~=1.15->pytket-qiskit) (0.20.1)\n",
      "Requirement already satisfied: scipy<2.0,>=1.7.2 in /opt/conda/lib/python3.10/site-packages (from pytket~=1.15->pytket-qiskit) (1.9.3)\n",
      "Requirement already satisfied: qwasm~=1.0 in /opt/conda/lib/python3.10/site-packages (from pytket~=1.15->pytket-qiskit) (1.0.1)\n",
      "Requirement already satisfied: typing-extensions~=4.2 in /opt/conda/lib/python3.10/site-packages (from pytket~=1.15->pytket-qiskit) (4.5.0)\n",
      "Requirement already satisfied: jinja2~=3.0 in /opt/conda/lib/python3.10/site-packages (from pytket~=1.15->pytket-qiskit) (3.1.2)\n",
      "Requirement already satisfied: networkx~=3.0 in /opt/conda/lib/python3.10/site-packages (from pytket~=1.15->pytket-qiskit) (3.1)\n",
      "Requirement already satisfied: sympy~=1.6 in /opt/conda/lib/python3.10/site-packages (from pytket~=1.15->pytket-qiskit) (1.11.1)\n",
      "Requirement already satisfied: types-pkg-resources in /opt/conda/lib/python3.10/site-packages (from pytket~=1.15->pytket-qiskit) (0.1.3)\n",
      "Requirement already satisfied: lark-parser~=0.7 in /opt/conda/lib/python3.10/site-packages (from pytket~=1.15->pytket-qiskit) (0.12.0)\n",
      "Collecting qiskit-terra==0.23.3\n",
      "  Downloading qiskit_terra-0.23.3-cp310-cp310-manylinux_2_17_x86_64.manylinux2014_x86_64.whl (5.1 MB)\n",
      "\u001b[2K     \u001b[90m━━━━━━━━━━━━━━━━━━━━━━━━━━━━━━━━━━━━━━━━\u001b[0m \u001b[32m5.1/5.1 MB\u001b[0m \u001b[31m8.3 MB/s\u001b[0m eta \u001b[36m0:00:00\u001b[0m0:00:01\u001b[0m00:01\u001b[0m\n",
      "\u001b[?25hRequirement already satisfied: qiskit-ibmq-provider==0.20.2 in /opt/conda/lib/python3.10/site-packages (from qiskit~=0.42.1->pytket-qiskit) (0.20.2)\n",
      "Requirement already satisfied: python-dateutil>=2.8.0 in /opt/conda/lib/python3.10/site-packages (from qiskit-ibmq-provider==0.20.2->qiskit~=0.42.1->pytket-qiskit) (2.8.2)\n",
      "Requirement already satisfied: requests>=2.19 in /opt/conda/lib/python3.10/site-packages (from qiskit-ibmq-provider==0.20.2->qiskit~=0.42.1->pytket-qiskit) (2.28.1)\n",
      "Requirement already satisfied: websocket-client>=1.5.1 in /opt/conda/lib/python3.10/site-packages (from qiskit-ibmq-provider==0.20.2->qiskit~=0.42.1->pytket-qiskit) (1.5.2)\n",
      "Requirement already satisfied: requests-ntlm<=1.1.0 in /opt/conda/lib/python3.10/site-packages (from qiskit-ibmq-provider==0.20.2->qiskit~=0.42.1->pytket-qiskit) (1.1.0)\n",
      "Requirement already satisfied: urllib3>=1.21.1 in /opt/conda/lib/python3.10/site-packages (from qiskit-ibmq-provider==0.20.2->qiskit~=0.42.1->pytket-qiskit) (1.26.13)\n",
      "Requirement already satisfied: websockets>=10.0 in /opt/conda/lib/python3.10/site-packages (from qiskit-ibmq-provider==0.20.2->qiskit~=0.42.1->pytket-qiskit) (10.4)\n",
      "Requirement already satisfied: dill>=0.3 in /opt/conda/lib/python3.10/site-packages (from qiskit-terra==0.23.3->qiskit~=0.42.1->pytket-qiskit) (0.3.6)\n",
      "Requirement already satisfied: ply>=3.10 in /opt/conda/lib/python3.10/site-packages (from qiskit-terra==0.23.3->qiskit~=0.42.1->pytket-qiskit) (3.11)\n",
      "Requirement already satisfied: stevedore>=3.0.0 in /opt/conda/lib/python3.10/site-packages (from qiskit-terra==0.23.3->qiskit~=0.42.1->pytket-qiskit) (4.1.1)\n",
      "Requirement already satisfied: symengine>=0.9 in /opt/conda/lib/python3.10/site-packages (from qiskit-terra==0.23.3->qiskit~=0.42.1->pytket-qiskit) (0.9.2)\n",
      "Requirement already satisfied: psutil>=5 in /opt/conda/lib/python3.10/site-packages (from qiskit-terra==0.23.3->qiskit~=0.42.1->pytket-qiskit) (5.9.4)\n",
      "Requirement already satisfied: rustworkx>=0.12.0 in /opt/conda/lib/python3.10/site-packages (from qiskit-terra==0.23.3->qiskit~=0.42.1->pytket-qiskit) (0.12.1)\n",
      "Collecting qiskit-ibm-runtime~=0.9.2\n",
      "  Downloading qiskit_ibm_runtime-0.9.3-py3-none-any.whl (177 kB)\n",
      "\u001b[2K     \u001b[90m━━━━━━━━━━━━━━━━━━━━━━━━━━━━━━━━━━━━━\u001b[0m \u001b[32m177.7/177.7 kB\u001b[0m \u001b[31m355.0 kB/s\u001b[0m eta \u001b[36m0:00:00\u001b[0m00:01\u001b[0m\n",
      "\u001b[?25hRequirement already satisfied: ibm-platform-services>=0.22.6 in /opt/conda/lib/python3.10/site-packages (from qiskit-ibm-runtime~=0.9.2->pytket-qiskit) (0.30.3)\n",
      "Requirement already satisfied: ibm-cloud-sdk-core<4.0.0,>=3.16.0 in /opt/conda/lib/python3.10/site-packages (from ibm-platform-services>=0.22.6->qiskit-ibm-runtime~=0.9.2->pytket-qiskit) (3.16.1)\n",
      "Requirement already satisfied: MarkupSafe>=2.0 in /opt/conda/lib/python3.10/site-packages (from jinja2~=3.0->pytket~=1.15->pytket-qiskit) (2.1.2)\n",
      "Requirement already satisfied: six>=1.5 in /opt/conda/lib/python3.10/site-packages (from python-dateutil>=2.8.0->qiskit-ibmq-provider==0.20.2->qiskit~=0.42.1->pytket-qiskit) (1.16.0)\n",
      "Requirement already satisfied: setuptools in /opt/conda/lib/python3.10/site-packages (from qwasm~=1.0->pytket~=1.15->pytket-qiskit) (67.7.2)\n",
      "Requirement already satisfied: idna<4,>=2.5 in /opt/conda/lib/python3.10/site-packages (from requests>=2.19->qiskit-ibmq-provider==0.20.2->qiskit~=0.42.1->pytket-qiskit) (3.4)\n",
      "Requirement already satisfied: certifi>=2017.4.17 in /opt/conda/lib/python3.10/site-packages (from requests>=2.19->qiskit-ibmq-provider==0.20.2->qiskit~=0.42.1->pytket-qiskit) (2022.9.24)\n",
      "Requirement already satisfied: charset-normalizer<3,>=2 in /opt/conda/lib/python3.10/site-packages (from requests>=2.19->qiskit-ibmq-provider==0.20.2->qiskit~=0.42.1->pytket-qiskit) (2.1.1)\n",
      "Requirement already satisfied: ntlm-auth>=1.0.2 in /opt/conda/lib/python3.10/site-packages (from requests-ntlm<=1.1.0->qiskit-ibmq-provider==0.20.2->qiskit~=0.42.1->pytket-qiskit) (1.5.0)\n",
      "Requirement already satisfied: cryptography>=1.3 in /opt/conda/lib/python3.10/site-packages (from requests-ntlm<=1.1.0->qiskit-ibmq-provider==0.20.2->qiskit~=0.42.1->pytket-qiskit) (38.0.4)\n",
      "Requirement already satisfied: mpmath>=0.19 in /opt/conda/lib/python3.10/site-packages (from sympy~=1.6->pytket~=1.15->pytket-qiskit) (1.2.1)\n",
      "Requirement already satisfied: cffi>=1.12 in /opt/conda/lib/python3.10/site-packages (from cryptography>=1.3->requests-ntlm<=1.1.0->qiskit-ibmq-provider==0.20.2->qiskit~=0.42.1->pytket-qiskit) (1.15.1)\n",
      "Requirement already satisfied: PyJWT<3.0.0,>=2.4.0 in /opt/conda/lib/python3.10/site-packages (from ibm-cloud-sdk-core<4.0.0,>=3.16.0->ibm-platform-services>=0.22.6->qiskit-ibm-runtime~=0.9.2->pytket-qiskit) (2.6.0)\n",
      "Requirement already satisfied: pbr!=2.1.0,>=2.0.0 in /opt/conda/lib/python3.10/site-packages (from stevedore>=3.0.0->qiskit-terra==0.23.3->qiskit~=0.42.1->pytket-qiskit) (5.11.1)\n",
      "Requirement already satisfied: pycparser in /opt/conda/lib/python3.10/site-packages (from cffi>=1.12->cryptography>=1.3->requests-ntlm<=1.1.0->qiskit-ibmq-provider==0.20.2->qiskit~=0.42.1->pytket-qiskit) (2.21)\n",
      "Building wheels for collected packages: qiskit\n",
      "  Building wheel for qiskit (setup.py) ... \u001b[?25ldone\n",
      "\u001b[?25h  Created wheel for qiskit: filename=qiskit-0.42.1-py3-none-any.whl size=12924 sha256=25dd4d568af8cbfe958f9458aca189eab6d0e57ddd5638aa21a4bd89659c80b0\n",
      "  Stored in directory: /home/jovyan/.cache/pip/wheels/8b/8f/a2/ca1a9ab6067e054be4a2b65158eff344245e806f354ffc797f\n",
      "Successfully built qiskit\n",
      "Installing collected packages: qiskit-terra, qiskit-ibm-runtime, qiskit, pytket-qiskit\n",
      "  Attempting uninstall: qiskit-terra\n",
      "    Found existing installation: qiskit-terra 0.24.0\n",
      "    Uninstalling qiskit-terra-0.24.0:\n",
      "      Successfully uninstalled qiskit-terra-0.24.0\n",
      "  Attempting uninstall: qiskit-ibm-runtime\n",
      "    Found existing installation: qiskit-ibm-runtime 0.9.4\n",
      "    Uninstalling qiskit-ibm-runtime-0.9.4:\n",
      "      Successfully uninstalled qiskit-ibm-runtime-0.9.4\n",
      "  Attempting uninstall: qiskit\n",
      "    Found existing installation: qiskit 0.43.0\n",
      "    Uninstalling qiskit-0.43.0:\n",
      "      Successfully uninstalled qiskit-0.43.0\n",
      "\u001b[31mERROR: pip's dependency resolver does not currently take into account all the packages that are installed. This behaviour is the source of the following dependency conflicts.\n",
      "qiskit-nature 0.6.1 requires qiskit-terra>=0.24, but you have qiskit-terra 0.23.3 which is incompatible.\n",
      "qiskit-machine-learning 0.6.0 requires dill<0.3.6,>=0.3.4, but you have dill 0.3.6 which is incompatible.\n",
      "qiskit-ibm-provider 0.5.3 requires qiskit-terra>=0.24.0, but you have qiskit-terra 0.23.3 which is incompatible.\u001b[0m\u001b[31m\n",
      "\u001b[0mSuccessfully installed pytket-qiskit-0.39.0 qiskit-0.42.1 qiskit-ibm-runtime-0.9.3 qiskit-terra-0.23.3\n",
      "\n",
      "\u001b[1m[\u001b[0m\u001b[34;49mnotice\u001b[0m\u001b[1;39;49m]\u001b[0m\u001b[39;49m A new release of pip available: \u001b[0m\u001b[31;49m23.1.1\u001b[0m\u001b[39;49m -> \u001b[0m\u001b[32;49m23.1.2\u001b[0m\n",
      "\u001b[1m[\u001b[0m\u001b[34;49mnotice\u001b[0m\u001b[1;39;49m]\u001b[0m\u001b[39;49m To update, run: \u001b[0m\u001b[32;49mpip install --upgrade pip\u001b[0m\n",
      "Note: you may need to restart the kernel to use updated packages.\n"
     ]
    }
   ],
   "source": [
    "pip install pytket-qiskit"
   ]
  },
  {
   "cell_type": "code",
   "execution_count": 7,
   "id": "e6750a56-ac74-4d17-bc83-f851204e4368",
   "metadata": {},
   "outputs": [
    {
     "name": "stdout",
     "output_type": "stream",
     "text": [
      "\u001b[38;5;3m⚠ As of spaCy v3.0, shortcuts like 'en' are deprecated. Please use the\n",
      "full pipeline package name 'en_core_web_sm' instead.\u001b[0m\n",
      "Collecting en-core-web-sm==3.5.0\n",
      "  Downloading https://github.com/explosion/spacy-models/releases/download/en_core_web_sm-3.5.0/en_core_web_sm-3.5.0-py3-none-any.whl (12.8 MB)\n",
      "\u001b[2K     \u001b[90m━━━━━━━━━━━━━━━━━━━━━━━━━━━━━━━━━━━━━━━━\u001b[0m \u001b[32m12.8/12.8 MB\u001b[0m \u001b[31m11.0 MB/s\u001b[0m eta \u001b[36m0:00:00\u001b[0m00:01\u001b[0m00:01\u001b[0m\n",
      "\u001b[?25hRequirement already satisfied: spacy<3.6.0,>=3.5.0 in /opt/conda/lib/python3.10/site-packages (from en-core-web-sm==3.5.0) (3.5.3)\n",
      "Requirement already satisfied: thinc<8.2.0,>=8.1.8 in /opt/conda/lib/python3.10/site-packages (from spacy<3.6.0,>=3.5.0->en-core-web-sm==3.5.0) (8.1.10)\n",
      "Requirement already satisfied: preshed<3.1.0,>=3.0.2 in /opt/conda/lib/python3.10/site-packages (from spacy<3.6.0,>=3.5.0->en-core-web-sm==3.5.0) (3.0.8)\n",
      "Requirement already satisfied: spacy-loggers<2.0.0,>=1.0.0 in /opt/conda/lib/python3.10/site-packages (from spacy<3.6.0,>=3.5.0->en-core-web-sm==3.5.0) (1.0.4)\n",
      "Requirement already satisfied: langcodes<4.0.0,>=3.2.0 in /opt/conda/lib/python3.10/site-packages (from spacy<3.6.0,>=3.5.0->en-core-web-sm==3.5.0) (3.3.0)\n",
      "Requirement already satisfied: setuptools in /opt/conda/lib/python3.10/site-packages (from spacy<3.6.0,>=3.5.0->en-core-web-sm==3.5.0) (67.7.2)\n",
      "Requirement already satisfied: packaging>=20.0 in /opt/conda/lib/python3.10/site-packages (from spacy<3.6.0,>=3.5.0->en-core-web-sm==3.5.0) (21.3)\n",
      "Requirement already satisfied: pydantic!=1.8,!=1.8.1,<1.11.0,>=1.7.4 in /opt/conda/lib/python3.10/site-packages (from spacy<3.6.0,>=3.5.0->en-core-web-sm==3.5.0) (1.10.8)\n",
      "Requirement already satisfied: tqdm<5.0.0,>=4.38.0 in /opt/conda/lib/python3.10/site-packages (from spacy<3.6.0,>=3.5.0->en-core-web-sm==3.5.0) (4.65.0)\n",
      "Requirement already satisfied: smart-open<7.0.0,>=5.2.1 in /opt/conda/lib/python3.10/site-packages (from spacy<3.6.0,>=3.5.0->en-core-web-sm==3.5.0) (6.3.0)\n",
      "Requirement already satisfied: spacy-legacy<3.1.0,>=3.0.11 in /opt/conda/lib/python3.10/site-packages (from spacy<3.6.0,>=3.5.0->en-core-web-sm==3.5.0) (3.0.12)\n",
      "Requirement already satisfied: murmurhash<1.1.0,>=0.28.0 in /opt/conda/lib/python3.10/site-packages (from spacy<3.6.0,>=3.5.0->en-core-web-sm==3.5.0) (1.0.9)\n",
      "Requirement already satisfied: cymem<2.1.0,>=2.0.2 in /opt/conda/lib/python3.10/site-packages (from spacy<3.6.0,>=3.5.0->en-core-web-sm==3.5.0) (2.0.7)\n",
      "Requirement already satisfied: pathy>=0.10.0 in /opt/conda/lib/python3.10/site-packages (from spacy<3.6.0,>=3.5.0->en-core-web-sm==3.5.0) (0.10.1)\n",
      "Requirement already satisfied: catalogue<2.1.0,>=2.0.6 in /opt/conda/lib/python3.10/site-packages (from spacy<3.6.0,>=3.5.0->en-core-web-sm==3.5.0) (2.0.8)\n",
      "Requirement already satisfied: typer<0.8.0,>=0.3.0 in /opt/conda/lib/python3.10/site-packages (from spacy<3.6.0,>=3.5.0->en-core-web-sm==3.5.0) (0.7.0)\n",
      "Requirement already satisfied: numpy>=1.15.0 in /opt/conda/lib/python3.10/site-packages (from spacy<3.6.0,>=3.5.0->en-core-web-sm==3.5.0) (1.23.5)\n",
      "Requirement already satisfied: requests<3.0.0,>=2.13.0 in /opt/conda/lib/python3.10/site-packages (from spacy<3.6.0,>=3.5.0->en-core-web-sm==3.5.0) (2.28.1)\n",
      "Requirement already satisfied: wasabi<1.2.0,>=0.9.1 in /opt/conda/lib/python3.10/site-packages (from spacy<3.6.0,>=3.5.0->en-core-web-sm==3.5.0) (1.1.1)\n",
      "Requirement already satisfied: srsly<3.0.0,>=2.4.3 in /opt/conda/lib/python3.10/site-packages (from spacy<3.6.0,>=3.5.0->en-core-web-sm==3.5.0) (2.4.6)\n",
      "Requirement already satisfied: jinja2 in /opt/conda/lib/python3.10/site-packages (from spacy<3.6.0,>=3.5.0->en-core-web-sm==3.5.0) (3.1.2)\n",
      "Requirement already satisfied: pyparsing!=3.0.5,>=2.0.2 in /opt/conda/lib/python3.10/site-packages (from packaging>=20.0->spacy<3.6.0,>=3.5.0->en-core-web-sm==3.5.0) (3.0.9)\n",
      "Requirement already satisfied: typing-extensions>=4.2.0 in /opt/conda/lib/python3.10/site-packages (from pydantic!=1.8,!=1.8.1,<1.11.0,>=1.7.4->spacy<3.6.0,>=3.5.0->en-core-web-sm==3.5.0) (4.5.0)\n",
      "Requirement already satisfied: idna<4,>=2.5 in /opt/conda/lib/python3.10/site-packages (from requests<3.0.0,>=2.13.0->spacy<3.6.0,>=3.5.0->en-core-web-sm==3.5.0) (3.4)\n",
      "Requirement already satisfied: charset-normalizer<3,>=2 in /opt/conda/lib/python3.10/site-packages (from requests<3.0.0,>=2.13.0->spacy<3.6.0,>=3.5.0->en-core-web-sm==3.5.0) (2.1.1)\n",
      "Requirement already satisfied: certifi>=2017.4.17 in /opt/conda/lib/python3.10/site-packages (from requests<3.0.0,>=2.13.0->spacy<3.6.0,>=3.5.0->en-core-web-sm==3.5.0) (2022.9.24)\n",
      "Requirement already satisfied: urllib3<1.27,>=1.21.1 in /opt/conda/lib/python3.10/site-packages (from requests<3.0.0,>=2.13.0->spacy<3.6.0,>=3.5.0->en-core-web-sm==3.5.0) (1.26.13)\n",
      "Requirement already satisfied: confection<1.0.0,>=0.0.1 in /opt/conda/lib/python3.10/site-packages (from thinc<8.2.0,>=8.1.8->spacy<3.6.0,>=3.5.0->en-core-web-sm==3.5.0) (0.0.4)\n",
      "Requirement already satisfied: blis<0.8.0,>=0.7.8 in /opt/conda/lib/python3.10/site-packages (from thinc<8.2.0,>=8.1.8->spacy<3.6.0,>=3.5.0->en-core-web-sm==3.5.0) (0.7.9)\n",
      "Requirement already satisfied: click<9.0.0,>=7.1.1 in /opt/conda/lib/python3.10/site-packages (from typer<0.8.0,>=0.3.0->spacy<3.6.0,>=3.5.0->en-core-web-sm==3.5.0) (8.1.3)\n",
      "Requirement already satisfied: MarkupSafe>=2.0 in /opt/conda/lib/python3.10/site-packages (from jinja2->spacy<3.6.0,>=3.5.0->en-core-web-sm==3.5.0) (2.1.2)\n",
      "Installing collected packages: en-core-web-sm\n",
      "Successfully installed en-core-web-sm-3.5.0\n",
      "\n",
      "\u001b[1m[\u001b[0m\u001b[34;49mnotice\u001b[0m\u001b[1;39;49m]\u001b[0m\u001b[39;49m A new release of pip available: \u001b[0m\u001b[31;49m23.1.1\u001b[0m\u001b[39;49m -> \u001b[0m\u001b[32;49m23.1.2\u001b[0m\n",
      "\u001b[1m[\u001b[0m\u001b[34;49mnotice\u001b[0m\u001b[1;39;49m]\u001b[0m\u001b[39;49m To update, run: \u001b[0m\u001b[32;49mpip install --upgrade pip\u001b[0m\n",
      "\u001b[38;5;2m✔ Download and installation successful\u001b[0m\n",
      "You can now load the package via spacy.load('en_core_web_sm')\n"
     ]
    }
   ],
   "source": [
    "import sys\n",
    "!{sys.executable} -m spacy download en"
   ]
  },
  {
   "cell_type": "code",
   "execution_count": 3,
   "id": "0ed4d158-24ed-4656-8017-bf51a59e2ce5",
   "metadata": {},
   "outputs": [
    {
     "name": "stdout",
     "output_type": "stream",
     "text": [
      "All packages imported successfully!\n"
     ]
    }
   ],
   "source": [
    "import collections\n",
    "import pickle\n",
    "import sys\n",
    "import warnings\n",
    "import os\n",
    "from random import shuffle\n",
    "\n",
    "from textblob import TextBlob\n",
    "from cleantext import clean\n",
    "\n",
    "from discopy.tensor import Tensor\n",
    "from discopy import Word\n",
    "from discopy.rigid import Functor\n",
    "import spacy\n",
    "\n",
    "import matplotlib.pyplot as plt\n",
    "import numpy as np\n",
    "from numpy import random, unique\n",
    "import lambeq\n",
    "from lambeq import AtomicType, IQPAnsatz, remove_cups, NumpyModel, spiders_reader, cups_reader, stairs_reader, Rewriter, WebParser\n",
    "from lambeq import BobcatParser\n",
    "from lambeq import Dataset\n",
    "from lambeq import TreeReader, TreeReaderMode\n",
    "from lambeq import QuantumTrainer, SPSAOptimizer\n",
    "from lambeq import TketModel\n",
    "from lambeq import SpacyTokeniser\n",
    "from pytket.circuit.display import render_circuit_jupyter\n",
    "from pytket.extensions.qiskit import AerBackend\n",
    "\n",
    "print(\"All packages imported successfully!\")"
   ]
  },
  {
   "cell_type": "code",
   "execution_count": 4,
   "id": "f1ad9e6d-c333-457b-8d01-8f19d26207b8",
   "metadata": {},
   "outputs": [
    {
     "data": {
      "text/plain": [
       "<spacy.lang.en.English at 0x7f09c20a6dd0>"
      ]
     },
     "execution_count": 4,
     "metadata": {},
     "output_type": "execute_result"
    }
   ],
   "source": [
    "warnings.filterwarnings(\"ignore\")\n",
    "os.environ[\"TOKENIZERS_PARALLELISM\"] = \"false\"\n",
    "spacy.load('en_core_web_sm')"
   ]
  },
  {
   "cell_type": "code",
   "execution_count": 5,
   "id": "4319c40c-e483-4a1e-a6e5-6b72d309f1b5",
   "metadata": {},
   "outputs": [],
   "source": [
    "BATCH_SIZE = 30\n",
    "EPOCHS = 300\n",
    "EPSILON = sys.float_info.epsilon\n",
    "SEED = 0"
   ]
  },
  {
   "cell_type": "code",
   "execution_count": 6,
   "id": "d22d839b-cd13-4c67-a7bd-318155503441",
   "metadata": {},
   "outputs": [],
   "source": [
    "# Function for replacing low occuring or replacing the unknown word(s) with <unk> token\n",
    "def UNKRewriter(threshold, status):\n",
    "    if status:\n",
    "        def replace(box):\n",
    "            if isinstance(box, Word) and dataset.count(box.name) < threshold:\n",
    "                return Word('unk', box.cod, box.dom)\n",
    "            return box\n",
    "    \n",
    "    else:\n",
    "        def replace(box):\n",
    "            if box.name not in known_words_list:\n",
    "                return Word('unk', box.cod, box.dom)\n",
    "            return box\n",
    "\n",
    "    return Functor(ob=lambda x: x, ar=replace)\n",
    "\n",
    "# reading dataset from a .txt file\n",
    "def read_data(filename):\n",
    "    labels, sentences = [], []\n",
    "    with open(filename) as f:\n",
    "        for line in f:\n",
    "            t = int(line[0])\n",
    "            labels.append([t, 1 - t])\n",
    "            sentences.append(line[1:].strip())\n",
    "    return labels, sentences"
   ]
  },
  {
   "cell_type": "code",
   "execution_count": 7,
   "id": "28c89f32-7566-4e5d-b5c4-3779386de1d2",
   "metadata": {},
   "outputs": [
    {
     "name": "stdout",
     "output_type": "stream",
     "text": [
      "323\n"
     ]
    }
   ],
   "source": [
    "# train/test split\n",
    "\n",
    "# training dataset\n",
    "train_labels, train_data = read_data('bc_train_data.txt')\n",
    "# validation dataset\n",
    "dev_labels, dev_data = read_data('bc_dev_data.txt')\n",
    "# test dataset\n",
    "test_labels, test_data = read_data('bc_test_data.txt')\n",
    "\n",
    "labels = train_labels + dev_labels + test_labels\n",
    "data = train_data + dev_data + test_data\n",
    "\n",
    "pairs = list(zip(labels, data))\n",
    "random.seed(0)\n",
    "random.shuffle(pairs)\n",
    "print(len(pairs))\n",
    "\n",
    "N_EXAMPLES = len(pairs)"
   ]
  },
  {
   "cell_type": "code",
   "execution_count": 8,
   "id": "a722fc30-3d4f-4462-b14c-1c964a440d27",
   "metadata": {},
   "outputs": [],
   "source": [
    "# Shuffling datasets\n",
    "train_labels, train_data = zip(*pairs[:round(N_EXAMPLES * 0.4)])\n",
    "dev_labels, dev_data = zip(*pairs[round(N_EXAMPLES * 0.4):round(N_EXAMPLES * 0.8)])\n",
    "test_labels, test_data = zip(*pairs[round(N_EXAMPLES * 0.8):])\n",
    "\n",
    "# training set words (with repetition)\n",
    "train_data_string = ' '.join(train_data)\n",
    "train_data_list = train_data_string.split(' ')\n",
    "# validation set words (with repetition)\n",
    "dev_data_string = ' '.join(dev_data)\n",
    "dev_data_list = dev_data_string.split(' ')\n",
    "# test set words (with repetition)\n",
    "test_data_string = ' '.join(test_data)\n",
    "test_data_list = test_data_string.split(' ')"
   ]
  },
  {
   "cell_type": "code",
   "execution_count": 9,
   "id": "6a3daa25-3270-4b28-93bc-c9ddb1b76f6e",
   "metadata": {},
   "outputs": [
    {
     "name": "stdout",
     "output_type": "stream",
     "text": [
      "Counter({'.': 323, 'I': 83, 'he': 72, 'she': 66, 'to': 65, 'a': 61, 'was': 59, 'the': 53, 'is': 46, 'am': 30, 'happy': 29, 'of': 28, 'man': 26, 'her': 26, 'sad': 25, 'depressed': 24, 'upset': 23, 'you': 21, 'suicide': 20, 'in': 19, 'very': 19, 'and': 16, 'depression': 15, 'are': 15, 'crying': 15, 'good': 15, 'my': 14, 'for': 14, 'his': 14, 'woman': 13, 'it': 13, 'cry': 13, 'great': 13, 'we': 13, 'lonely': 12, 'him': 12, 'because': 12, 'they': 12, 'with': 10, 'life': 10, 'by': 9, 'have': 9, 'love': 9, 'dream': 8, 'joyful': 8, 'committed': 8, 'see': 8, 'dance': 8, 'about': 8, 'had': 8, 'that': 7, 'people': 7, 'feel': 7, 'be': 7, 'person': 7, 'depressing': 7, 'room': 7, 'like': 7, 'lovely': 6, 'me': 6, 'this': 6, 'success': 6, 'feeling': 6, 'felt': 6, 'has': 6, 'remorse': 5, 'helps': 5, \"she's\": 5, 'laughing': 5, 'all': 5, 'at': 5, 'failure': 5, 'loves': 5, 'would': 5, 'herself': 5, 'himself': 5, 'sadness': 5, 'today': 5, 'disappoint': 5, 'anxiety': 5, 'cries': 5, 'makes': 4, 'lucky': 4, 'play': 4, 'meal': 4, 'treat': 4, 'glad': 4, 'kind': 4, 'something': 4, 'should': 4, 'help': 4, 'anger': 3, 'suffered': 3, 'agonies': 3, 'every': 3, 'day': 3, 'laugh': 3, 'shower': 3, 'alone': 3, 'their': 3, 'decision': 3, 'failed': 3, 'exam': 3, 'world': 3, 'started': 3, 'perfect': 3, 'lead': 3, 'on': 3, 'as': 3, 'successful': 3, 'nightmare': 3, 'killed': 3, 'expressed': 3, 'smiling': 3, 'much': 3, 'were': 3, 'listen': 3, 'commited': 3, 'surprise': 3, 'unhappy': 3, 'fearful': 3, 'smile': 3, 'knew': 3, 'depress': 3, \"he's\": 3, 'did': 3, 'sleep': 3, 'when': 3, 'commit': 3, 'happiness': 3, 'photo': 2, 'holding': 2, 'cooks': 2, 'dinner': 2, 'heart': 2, 'so': 2, 'mom': 2, 'family': 2, 'together': 2, 'runs': 2, \"you're\": 2, 'confused': 2, 'ashamed': 2, \"they're\": 2, 'way': 2, 'from': 2, 'doing': 2, 'appreciate': 2, 'must': 2, '': 2, 'cooking': 2, 'sorrow': 2, 'kills': 2, 'fell': 2, 'into': 2, 'thought': 2, 'again': 2, 'make': 2, 'try': 2, 'amazing': 2, 'suicidal': 2, 'points': 2, 'read': 2, 'letter': 2, 'two': 2, 'wants': 2, 'going': 2, 'area': 2, 'sudden': 2, 'time': 2, 'share': 2, 'others': 2, 'hate': 2, 'began': 2, 'little': 2, 'over': 2, 'month': 2, 'sorry': 2, 'will': 2, 'back': 2, 'attempted': 2, 'rising': 2, 'angry': 2, 'note': 2, 'appreciates': 2, 'days': 2, 'came': 2, 'who': 2, 'not': 2, 'overwhelmed': 2, 'really': 2, 'hope': 2, 'without': 2, 'consider': 2, 'friends': 2, 'take': 1, 'said': 1, 'caused': 1, 'recalled': 1, 'blooming': 1, 'visage': 1, 'saw': 1, 'told': 1, 'reunion': 1, 'They': 1, 'yesterday': 1, 'drunk': 1, 'end': 1, 'party': 1, 'grieving': 1, 'software': 1, 'state': 1, 'mind': 1, 'likely': 1, 'lot': 1, 'too': 1, 'rational': 1, 'hurt': 1, 'use': 1, 'only': 1, 'figure': 1, 'board': 1, 'mourn': 1, 'suit': 1, 'allow': 1, 'speculated': 1, 'might': 1, 'smooched': 1, 'floor': 1, 'fish': 1, 'rage': 1, 'pierced': 1, 'core': 1, 'desperately': 1, 'looked': 1, 'misery': 1, 'awake': 1, 'such': 1, 'taking': 1, 'hated': 1, 'forget': 1, 'affair': 1, 'background': 1, 'right': 1, 'school': 1, 'talk': 1, 'evidence': 1, 'bakes': 1, 'tasty': 1, 'suiced': 1, 'meeting': 1, 'between': 1, 'families': 1, 'one': 1, 'sorrowful': 1, 'shed': 1, 'tears': 1, 'cancel': 1, 'concert': 1, 'bound': 1, 'fans': 1, 'kill': 1, 'occasioned': 1, 'around': 1, 'news': 1, 'death': 1, 'result': 1, 'spotted': 1, 'danger': 1, 'student': 1, 'keyhole': 1, 'boy': 1, 'braced': 1, 'add': 1, 'mounted': 1, 'want': 1, 'having': 1, 'road': 1, 'heard': 1, 'shocked': 1, 'no': 1, 'wonder': 1, 'stair': 1, 'bled': 1, 'poor': 1, 'children': 1, 'outside': 1, 'cut': 1, 'off': 1, 'any': 1, 'reason': 1, 'investigation': 1, 'drive': 1, 'thick': 1, 'fog': 1, 'realised': 1, 'becoming': 1, 'increasingly': 1, 'story': 1, 'made': 1, 'us': 1, 'owe': 1, 'helping': 1, 'rainy': 1, 'always': 1, 'singing': 1, 'songs': 1, 'joy': 1, 'suffering': 1, 'distressed': 1, 'committing': 1, 'living': 1, 'hobby': 1, 'certainly': 1, 'audience': 1, 'jumped': 1, 'yelp': 1, 'just': 1, 'surge': 1, 'say': 1, 'regretted': 1, 'if': 1, 'deliberately': 1, 'trying': 1, 'drug': 1, 'wedding': 1, 'celebration': 1, 'feelings': 1, 'feels': 1, 'constantly': 1, 'young': 1, 'standing': 1, 'bus': 1, 'stop': 1, 'mass': 1, 'visibly': 1, 'eyes': 1, 'deep': 1, 'more': 1, 'show': 1, 'truly': 1, 'baby': 1, 'gets': 1, 'leave': 1, 'home': 1, 'animals': 1, \"I'm\": 1, 'crime': 1, 'yours': 1, 'prepares': 1, 'overtaken': 1, 'dreaded': 1, 'deal': 1, 'died': 1, 'leaving': 1, 'report': 1, 'seemed': 1, 'anxious': 1, 'after': 1, 'buried': 1, 'friend': 1, 'lived': 1, 'filled': 1, 'three': 1, 'later': 1, 'humble': 1, 'uttered': 1, 'wordless': 1, 'complete': 1, 'quite': 1, 'someone': 1, 'laughs': 1, 'exhibited': 1, 'symptoms': 1, 'crimes': 1, 'attempt': 1, 'can': 1, 'traced': 1, 'games': 1, 'angery': 1, 'some': 1, 'babies': 1, 'during': 1, 'night': 1, 'need': 1, 'there': 1, 'unconfirmed': 1, 'reports': 1, 'tried': 1, 'partnered': 1, 'up': 1, 'repeatedly': 1, 'threatened': 1, 'nuzzled': 1, 'neck': 1, 'move': 1, 'writes': 1, 'letters': 1, 'next': 1, 'new': 1, 'job': 1, 'sister': 1, 'put': 1, 'face': 1, 'got': 1, 'smiles': 1, 'sees': 1, 'kicked': 1, 'out': 1, 'being': 1, 'work': 1, 'boys': 1, 'wanted': 1, 'starves': 1, 'friendship': 1})\n"
     ]
    }
   ],
   "source": [
    "# dataset words (with repetition)\n",
    "dataset = train_data_list + dev_data_list + test_data_list\n",
    "# list of all unique words in the dataset\n",
    "unique_words = unique(dataset)\n",
    "# frequency for each unique word\n",
    "counter = collections.Counter(dataset)\n",
    "print(counter)"
   ]
  },
  {
   "cell_type": "code",
   "execution_count": 11,
   "id": "b4b1f8ba-3161-44a0-8eb7-c1f7055c848b",
   "metadata": {},
   "outputs": [],
   "source": [
    "# initializing the replace functor for UNK tokenization\n",
    "replace_functor = UNKRewriter(2, True)"
   ]
  },
  {
   "cell_type": "code",
   "execution_count": 14,
   "id": "06f267fa-53a2-4d90-9eee-3b76b5209577",
   "metadata": {},
   "outputs": [],
   "source": [
    "# initializing the parser (bag of words)\n",
    "parser = spiders_reader"
   ]
  },
  {
   "cell_type": "code",
   "execution_count": 9,
   "id": "29d5a44a-5e18-46a3-8c15-4cae55ce25b1",
   "metadata": {},
   "outputs": [],
   "source": [
    "#initializing the parser (sequence-dependent)\n",
    "parser = BobcatParser(verbose = 'suppress')\n",
    "# parser = cups_reader\n",
    "# parser = stairs_reader"
   ]
  },
  {
   "cell_type": "code",
   "execution_count": 15,
   "id": "0acebb4c-9377-4fcf-a8e8-79656d741dc6",
   "metadata": {},
   "outputs": [],
   "source": [
    "# parsing the dataset into sentence diagrams\n",
    "raw_train_diagrams = parser.sentences2diagrams(train_data)\n",
    "raw_dev_diagrams = parser.sentences2diagrams(dev_data)\n",
    "raw_test_diagrams = parser.sentences2diagrams(test_data)"
   ]
  },
  {
   "cell_type": "code",
   "execution_count": 16,
   "id": "97bc9c0d-bb60-40ea-95c7-975f2596a537",
   "metadata": {},
   "outputs": [
    {
     "data": {
      "image/png": "[encoded data removed]",
      "text/plain": [
       "<Figure size 640x480 with 1 Axes>"
      ]
     },
     "metadata": {},
     "output_type": "display_data"
    }
   ],
   "source": [
    "raw_train_diagrams[0].draw()"
   ]
  },
  {
   "cell_type": "code",
   "execution_count": 17,
   "id": "b1ec1307-b52f-44ca-899c-1332d3ccbdbc",
   "metadata": {},
   "outputs": [],
   "source": [
    "\"\"\"\n",
    "Note : IF you are not using preprocessing at sentence level for rewrite rules besides remove_dots_commas, uncomment the\n",
    "rewrite lines below with the normal_form() for normalizing the diagram. Given we are using spiders_reader, we will not\n",
    "use the Rewriter object.\n",
    "\"\"\"\n",
    "# Rewriting the sentence diagrams\n",
    "for i in range(len(raw_train_diagrams)):\n",
    "    # Tokenizing low occuring words in training dataset\n",
    "    raw_train_diagrams[i] = replace_functor(raw_train_diagrams[i])\n",
    "\n",
    "for i in range(len(raw_dev_diagrams)):\n",
    "    # Tokenizing low occuring words in validation dataset\n",
    "    raw_dev_diagrams[i] = replace_functor(raw_dev_diagrams[i])\n",
    "\n",
    "for i in range(len(raw_test_diagrams)):\n",
    "    # Tokenizing low occuring words in test dataset\n",
    "    raw_test_diagrams[i] = replace_functor(raw_test_diagrams[i])"
   ]
  },
  {
   "cell_type": "code",
   "execution_count": 18,
   "id": "2c20763d-6559-4638-8923-035ee8deb1a0",
   "metadata": {},
   "outputs": [
    {
     "data": {
      "image/png": "[encoded data removed]",
      "text/plain": [
       "<Figure size 640x480 with 1 Axes>"
      ]
     },
     "metadata": {},
     "output_type": "display_data"
    }
   ],
   "source": [
    "raw_train_diagrams[0].draw()"
   ]
  },
  {
   "cell_type": "code",
   "execution_count": 16,
   "id": "1ee16083-8e23-40b6-9112-43e14d4e75fc",
   "metadata": {},
   "outputs": [],
   "source": [
    "# merging all diagrams into one for checking the new words\n",
    "raw_all_diagrams = raw_train_diagrams + raw_dev_diagrams + raw_test_diagrams"
   ]
  },
  {
   "cell_type": "code",
   "execution_count": 29,
   "id": "8a33652b-b88f-4f8a-967f-c5e94e123411",
   "metadata": {},
   "outputs": [],
   "source": [
    "# removing cups (after performing top-to-bottom scan of the word diagrams)\n",
    "train_diagrams = [remove_cups(diagram) for diagram in raw_train_diagrams]\n",
    "dev_diagrams = [remove_cups(diagram) for diagram in raw_dev_diagrams]\n",
    "test_diagrams = [remove_cups(diagram) for diagram in raw_test_diagrams]"
   ]
  },
  {
   "cell_type": "code",
   "execution_count": 18,
   "id": "b6c2e0c5-90eb-4771-9460-b20b9fcfdbe9",
   "metadata": {},
   "outputs": [
    {
     "data": {
      "image/png": "[encoded data removed]",
      "text/plain": [
       "<Figure size 640x480 with 1 Axes>"
      ]
     },
     "metadata": {},
     "output_type": "display_data"
    }
   ],
   "source": [
    "train_diagrams[0].draw()"
   ]
  },
  {
   "cell_type": "code",
   "execution_count": null,
   "id": "bd269654-4ba9-4474-adf7-eaafcdc85711",
   "metadata": {},
   "outputs": [],
   "source": []
  },
  {
   "cell_type": "code",
   "execution_count": null,
   "id": "43b22798-b6a0-4020-b08b-32382e5c427d",
   "metadata": {},
   "outputs": [],
   "source": []
  },
  {
   "cell_type": "code",
   "execution_count": 19,
   "id": "402da519-88fe-4673-a7f2-cf819000fb49",
   "metadata": {},
   "outputs": [],
   "source": [
    "# Function for printing the label based on the prediction array\n",
    "def result_label(prediction):\n",
    "    depressive_score = prediction[0][0]\n",
    "    non_depressive_score = prediction[0][1]\n",
    "    label = 0\n",
    "\n",
    "    if depressive_score > non_depressive_score:\n",
    "        label = 1\n",
    "        return label\n",
    "    elif depressive_score <= non_depressive_score:\n",
    "        return label\n",
    "\n",
    "\n",
    "\"\"\"\n",
    "With this approach we can have both the similarity check of two sentences as well as their individual label, hence we \n",
    "won't have any loss of information since we trained the model to classify each label, not just which two labels are in\n",
    "one category.\n",
    "\"\"\"\n",
    "\n",
    "\n",
    "def same_category(sentence1, sentence2):\n",
    "    if result_label(sentence1) == result_label(sentence2) and result_label(sentence1) == 1:\n",
    "        print(\"Both sentences are depressive\")\n",
    "        group = \"Same Category Depressive\"\n",
    "        return group\n",
    "    elif result_label(sentence1) == result_label(sentence2) and result_label(sentence1) == 0:\n",
    "        print(\"Both sentences are non-depressive\")\n",
    "        group = \"Same Category Non-depressive\"\n",
    "        return group\n",
    "    elif result_label(sentence1) == 1 and result_label(sentence2) == 0:\n",
    "        print(\"Sentence 1 is depressive and Sentence 2 is non-depressive\")\n",
    "        group = \"Different Category\"\n",
    "        return group\n",
    "    elif result_label(sentence1) == 0 and result_label(sentence2) == 1:\n",
    "        print(\"Sentence 1 is non-depressive and Sentence 2 is depressive\")\n",
    "        group = \"Different Category\"\n",
    "        return group"
   ]
  },
  {
   "cell_type": "code",
   "execution_count": 25,
   "id": "864b7cc0-99ce-4c83-9198-bea730a32b34",
   "metadata": {},
   "outputs": [],
   "source": [
    "# Loading checkpoint model (300 epoch model)\n",
    "model = NumpyModel.from_checkpoint('runs/Nov23_13-38-47_jupyter-62cd92e9ccef1cfbb44b4d25/model.lt')"
   ]
  },
  {
   "cell_type": "code",
   "execution_count": 26,
   "id": "886a11a4-0448-4e1b-b1ae-842c7e5bb156",
   "metadata": {},
   "outputs": [
    {
     "name": "stdout",
     "output_type": "stream",
     "text": [
      "[I__s_0, I__s_1, I__s_2, a__s_0, a__s_1, a__s_2, about__s_0, about__s_1, about__s_2, again__s_0, again__s_1, again__s_2, agonies__s_0, agonies__s_1, agonies__s_2, all__s_0, all__s_1, all__s_2, alone__s_0, alone__s_1, alone__s_2, amazing__s_0, amazing__s_1, amazing__s_2, and__s_0, and__s_1, and__s_2, anger__s_0, anger__s_1, anger__s_2, angry__s_0, angry__s_1, angry__s_2, anxiety__s_0, anxiety__s_1, anxiety__s_2, appreciate__s_0, appreciate__s_1, appreciate__s_2, appreciates__s_0, appreciates__s_1, appreciates__s_2, are__s_0, are__s_1, are__s_2, area__s_0, area__s_1, area__s_2, as__s_0, as__s_1, as__s_2, ashamed__s_0, ashamed__s_1, ashamed__s_2, at__s_0, at__s_1, at__s_2, attempted__s_0, attempted__s_1, attempted__s_2, back__s_0, back__s_1, back__s_2, be__s_0, be__s_1, be__s_2, because__s_0, because__s_1, because__s_2, began__s_0, began__s_1, began__s_2, by__s_0, by__s_1, by__s_2, came__s_0, came__s_1, came__s_2, commit__s_0, commit__s_1, commit__s_2, commited__s_0, commited__s_1, commited__s_2, committed__s_0, committed__s_1, committed__s_2, confused__s_0, confused__s_1, confused__s_2, consider__s_0, consider__s_1, consider__s_2, cooking__s_0, cooking__s_1, cooking__s_2, cooks__s_0, cooks__s_1, cooks__s_2, cries__s_0, cries__s_1, cries__s_2, cry__s_0, cry__s_1, cry__s_2, crying__s_0, crying__s_1, crying__s_2, dance__s_0, dance__s_1, dance__s_2, day__s_0, day__s_1, day__s_2, days__s_0, days__s_1, days__s_2, decision__s_0, decision__s_1, decision__s_2, depress__s_0, depress__s_1, depress__s_2, depressed__s_0, depressed__s_1, depressed__s_2, depressing__s_0, depressing__s_1, depressing__s_2, depression__s_0, depression__s_1, depression__s_2, did__s_0, did__s_1, did__s_2, dinner__s_0, dinner__s_1, dinner__s_2, disappoint__s_0, disappoint__s_1, disappoint__s_2, doing__s_0, doing__s_1, doing__s_2, dream__s_0, dream__s_1, dream__s_2, every__s_0, every__s_1, every__s_2, exam__s_0, exam__s_1, exam__s_2, expressed__s_0, expressed__s_1, expressed__s_2, failed__s_0, failed__s_1, failed__s_2, failure__s_0, failure__s_1, failure__s_2, family__s_0, family__s_1, family__s_2, fearful__s_0, fearful__s_1, fearful__s_2, feel__s_0, feel__s_1, feel__s_2, feeling__s_0, feeling__s_1, feeling__s_2, fell__s_0, fell__s_1, fell__s_2, felt__s_0, felt__s_1, felt__s_2, for__s_0, for__s_1, for__s_2, friends__s_0, friends__s_1, friends__s_2, from__s_0, from__s_1, from__s_2, glad__s_0, glad__s_1, glad__s_2, going__s_0, going__s_1, going__s_2, good__s_0, good__s_1, good__s_2, great__s_0, great__s_1, great__s_2, had__s_0, had__s_1, had__s_2, happiness__s_0, happiness__s_1, happiness__s_2, happy__s_0, happy__s_1, happy__s_2, has__s_0, has__s_1, has__s_2, hate__s_0, hate__s_1, hate__s_2, have__s_0, have__s_1, have__s_2, he__s_0, he__s_1, he__s_2, heart__s_0, heart__s_1, heart__s_2, help__s_0, help__s_1, help__s_2, helps__s_0, helps__s_1, helps__s_2, her__s_0, her__s_1, her__s_2, herself__s_0, herself__s_1, herself__s_2, him__s_0, him__s_1, him__s_2, himself__s_0, himself__s_1, himself__s_2, his__s_0, his__s_1, his__s_2, holding__s_0, holding__s_1, holding__s_2, hope__s_0, hope__s_1, hope__s_2, in__s_0, in__s_1, in__s_2, into__s_0, into__s_1, into__s_2, is__s_0, is__s_1, is__s_2, it__s_0, it__s_1, it__s_2, joyful__s_0, joyful__s_1, joyful__s_2, killed__s_0, killed__s_1, killed__s_2, kills__s_0, kills__s_1, kills__s_2, kind__s_0, kind__s_1, kind__s_2, knew__s_0, knew__s_1, knew__s_2, laugh__s_0, laugh__s_1, laugh__s_2, laughing__s_0, laughing__s_1, laughing__s_2, lead__s_0, lead__s_1, lead__s_2, letter__s_0, letter__s_1, letter__s_2, life__s_0, life__s_1, life__s_2, like__s_0, like__s_1, like__s_2, listen__s_0, listen__s_1, listen__s_2, little__s_0, little__s_1, little__s_2, lonely__s_0, lonely__s_1, lonely__s_2, love__s_0, love__s_1, love__s_2, lovely__s_0, lovely__s_1, lovely__s_2, loves__s_0, loves__s_1, loves__s_2, lucky__s_0, lucky__s_1, lucky__s_2, make__s_0, make__s_1, make__s_2, makes__s_0, makes__s_1, makes__s_2, man__s_0, man__s_1, man__s_2, me__s_0, me__s_1, me__s_2, meal__s_0, meal__s_1, meal__s_2, mom__s_0, mom__s_1, mom__s_2, month__s_0, month__s_1, month__s_2, much__s_0, much__s_1, much__s_2, must__s_0, must__s_1, must__s_2, my__s_0, my__s_1, my__s_2, nightmare__s_0, nightmare__s_1, nightmare__s_2, not__s_0, not__s_1, not__s_2, note__s_0, note__s_1, note__s_2, of__s_0, of__s_1, of__s_2, on__s_0, on__s_1, on__s_2, others__s_0, others__s_1, others__s_2, over__s_0, over__s_1, over__s_2, overwhelmed__s_0, overwhelmed__s_1, overwhelmed__s_2, people__s_0, people__s_1, people__s_2, perfect__s_0, perfect__s_1, perfect__s_2, person__s_0, person__s_1, person__s_2, photo__s_0, photo__s_1, photo__s_2, play__s_0, play__s_1, play__s_2, points__s_0, points__s_1, points__s_2, read__s_0, read__s_1, read__s_2, really__s_0, really__s_1, really__s_2, remorse__s_0, remorse__s_1, remorse__s_2, rising__s_0, rising__s_1, rising__s_2, room__s_0, room__s_1, room__s_2, runs__s_0, runs__s_1, runs__s_2, sad__s_0, sad__s_1, sad__s_2, sadness__s_0, sadness__s_1, sadness__s_2, see__s_0, see__s_1, see__s_2, share__s_0, share__s_1, share__s_2, she__s_0, she__s_1, she__s_2, should__s_0, should__s_1, should__s_2, shower__s_0, shower__s_1, shower__s_2, sleep__s_0, sleep__s_1, sleep__s_2, smile__s_0, smile__s_1, smile__s_2, smiling__s_0, smiling__s_1, smiling__s_2, so__s_0, so__s_1, so__s_2, something__s_0, something__s_1, something__s_2, sorrow__s_0, sorrow__s_1, sorrow__s_2, sorry__s_0, sorry__s_1, sorry__s_2, started__s_0, started__s_1, started__s_2, success__s_0, success__s_1, success__s_2, successful__s_0, successful__s_1, successful__s_2, sudden__s_0, sudden__s_1, sudden__s_2, suffered__s_0, suffered__s_1, suffered__s_2, suicidal__s_0, suicidal__s_1, suicidal__s_2, suicide__s_0, suicide__s_1, suicide__s_2, surprise__s_0, surprise__s_1, surprise__s_2, their__s_0, their__s_1, their__s_2, they__s_0, they__s_1, they__s_2, this__s_0, this__s_1, this__s_2, thought__s_0, thought__s_1, thought__s_2, time__s_0, time__s_1, time__s_2, to__s_0, to__s_1, to__s_2, today__s_0, today__s_1, today__s_2, together__s_0, together__s_1, together__s_2, treat__s_0, treat__s_1, treat__s_2, try__s_0, try__s_1, try__s_2, two__s_0, two__s_1, two__s_2, unhappy__s_0, unhappy__s_1, unhappy__s_2, unk__s_0, unk__s_1, unk__s_2, upset__s_0, upset__s_1, upset__s_2, very__s_0, very__s_1, very__s_2, wants__s_0, wants__s_1, wants__s_2, was__s_0, was__s_1, was__s_2, way__s_0, way__s_1, way__s_2, we__s_0, we__s_1, we__s_2, were__s_0, were__s_1, were__s_2, when__s_0, when__s_1, when__s_2, who__s_0, who__s_1, who__s_2, will__s_0, will__s_1, will__s_2, with__s_0, with__s_1, with__s_2, without__s_0, without__s_1, without__s_2, woman__s_0, woman__s_1, woman__s_2, world__s_0, world__s_1, world__s_2, would__s_0, would__s_1, would__s_2, you__s_0, you__s_1, you__s_2]\n"
     ]
    }
   ],
   "source": [
    "print(model.symbols)"
   ]
  },
  {
   "cell_type": "code",
   "execution_count": 27,
   "id": "58d3a8a8-76a4-499f-a77e-a191b3d116c4",
   "metadata": {},
   "outputs": [],
   "source": [
    "# test sentence\n",
    "test_sentence = ['I am really sad max .', 'I am very happy']"
   ]
  },
  {
   "cell_type": "code",
   "execution_count": 30,
   "id": "12d192f7-eeef-4ac2-8a45-356da6e815fb",
   "metadata": {},
   "outputs": [
    {
     "name": "stdout",
     "output_type": "stream",
     "text": [
      "['she', 'was', 'happy', 'to', 'unk', 'a', 'photo', '.', 'he', 'unk', 'that', 'he', 'was', 'lonely', '.', 'depression', 'is', 'unk', 'by', 'holding', 'in', 'anger', '.', 'he', 'suffered', 'agonies', 'of', 'remorse', '.', 'he', 'helps', 'people', 'every', 'day', '.', 'man', 'cooks', 'a', 'lovely', 'dinner', '.', 'she', 'unk', 'her', 'happy', 'dream', 'with', 'him', '.', 'a', 'happy', 'heart', 'makes', 'a', 'unk', 'unk', '.', 'I', 'feel', 'so', 'lonely', '.', 'I', 'unk', 'my', 'lovely', 'mom', 'in', 'a', 'dream', '.', \"she's\", 'depressed', '.', 'I', 'am', 'depressed', '.', 'you', 'are', 'laughing', '.', 'he', 'was', 'upset', '.', \"she's\", 'a', 'lucky', 'woman', '.', 'he', 'unk', 'me', 'that', 'he', 'was', 'lonely', '.', 'he', 'is', 'upset', '.', 'it', 'was', 'a', 'joyful', 'unk', 'of', 'all', 'the', 'family', '.', 'unk', 'laugh', 'together', '.', 'he', 'committed', 'suicide', 'unk', '.', 'he', 'was', 'sad', 'and', 'unk', 'at', 'the', 'unk', 'of', 'the', 'unk', '.', 'she', 'was', 'unk', '.', 'man', 'runs', 'unk', '.', \"you're\", 'depressed', '.', 'he', 'was', 'in', 'a', 'confused', 'unk', 'of', 'unk', '.', 'she', 'was', 'joyful', '.', 'she', 'is', 'upset', '.', 'I', 'feel', 'ashamed', 'of', 'my', 'failure', '.', 'he', 'was', 'crying', 'in', 'the', 'shower', 'alone', '.', \"they're\", 'crying', 'in', 'their', 'shower', '.', 'this', 'decision', 'is', 'unk', 'to', 'upset', 'a', 'unk', 'of', 'people', '.', 'he', 'was', 'unk', 'upset', 'to', 'be', 'unk', '.', 'I', 'cry', 'because', 'I', 'failed', 'my', 'exam', '.', 'the', 'great', 'woman', 'makes', 'dinner', '.', 'she', 'was', 'unk', '.', 'to', 'be', 'of', 'unk', 'in', 'the', 'world', 'is', 'the', 'unk', 'way', 'to', 'be', 'happy', '.', 'she', 'started', 'to', 'cry', '.', 'the', 'depressed', 'person', 'was', 'very', 'sad', 'and', 'lonely', '.', 'he', 'loves', 'the', 'unk', 'from', 'the', 'unk', '.', 'he', 'loves', 'to', 'play', '.', 'you', 'are', 'doing', 'good', '.', 'person', 'cooks', 'great', 'meal', '.', 'we', 'would', 'appreciate', 'it', '.', 'I', 'unk', 'him', '.', 'this', 'unk', 'is', 'perfect', 'for', 'me', '.', 'we', 'must', 'unk', 'for', 'his', 'success', '.', 'he', 'unk', 'that', 'this', 'unk', 'lead', 'to', 'a', 'success', '.', 'I', 'am', 'happy', 'to', 'see', 'you', '.', 'I', 'unk', 'with', 'him', 'on', 'the', 'dance', 'unk', '.', 'she', 'was', 'feeling', 'great', 'because', 'of', 'her', 'dream', '.', 'she', 'committed', 'suicide', '.', 'she', 'was', 'cooking', 'a', 'great', 'unk', 'as', 'a', 'treat', '.', 'sorrow', 'and', 'unk', 'unk', 'him', 'to', 'the', 'unk', '.', 'they', 'are', 'depressed', '.', 'she', 'was', 'unk', 'lonely', '.', 'he', 'is', 'a', 'successful', 'man', '.', 'woman', 'kills', 'herself', '.', 'she', 'unk', 'about', 'to', 'cry', '.', 'I', 'fell', 'into', 'unk', '.', 'I', 'was', 'glad', 'to', 'unk', 'from', 'unk', 'a', 'nightmare', '.', 'the', 'thought', 'of', 'unk', 'the', 'exam', 'again', 'depressed', 'him', '.', 'it', 'is', 'a', 'sad', 'and', 'depressing', 'world', '.', 'man', 'killed', 'himself', '.', \"she's\", 'crying', 'alone', 'in', 'her', 'room', '.', 'I', 'unk', 'to', 'make', 'her', 'sad', '.', 'woman', 'was', 'kind', '.', 'man', 'kills', 'himself', '.', 'she', 'was', 'upset', 'for', 'crying', '.', 'we', 'must', 'try', 'to', 'unk', 'this', 'sad', 'unk', '.', \"they're\", 'crying', 'in', 'their', 'room', '.', 'she', 'is', 'very', 'depressed', '.', 'she', 'was', 'ashamed', 'of', 'her', 'unk', '.', 'he', 'is', 'depressed', '.', 'I', 'have', 'a', 'unk', 'to', 'be', 'upset', '.', 'she', 'felt', 'like', 'a', 'failure', 'at', 'her', 'unk', '.', 'she', 'was', 'happy', '.', 'life', 'is', 'a', 'lovely', 'dream', '.', 'he', 'expressed', 'sadness', '.', 'happy', 'woman', 'is', 'smiling', '.', 'I', 'am', 'feeling', 'amazing', '.', 'I', 'am', 'happy', 'to', 'unk', '.', 'I', 'feel', 'suicidal', 'because', 'I', 'am', 'depressed', '.', 'all', 'the', 'unk', 'points', 'to', 'suicide', '.', 'I', 'read', 'the', 'love', 'letter', '.', 'woman', 'unk', 'unk', 'meal', '.', 'she', 'committed', 'unk', 'today', '.', 'the', 'unk', 'unk', 'the', 'two', 'unk', 'was', 'a', 'joyful', 'unk', '.', 'she', 'is', 'the', 'perfect', 'woman', '.', 'unk', 'woman', 'unk', 'unk', '.', 'her', 'decision', 'to', 'unk', 'the', 'unk', 'is', 'unk', 'to', 'disappoint', 'her', 'unk', '.', 'he', 'wants', 'to', 'dance', '.', 'I', 'was', 'glad', 'to', 'have', 'a', 'success', '.', 'I', 'was', 'happy', 'to', 'see', 'him', '.', 'I', 'am', 'depressed', '.', 'the', 'man', 'was', 'doing', 'amazing', '.', 'she', 'was', 'going', 'to', 'unk', 'herself', '.', 'much', 'sadness', 'was', 'unk', 'unk', 'the', 'area', 'by', 'the', 'unk', 'of', 'her', 'sudden', 'unk', '.', 'I', 'am', 'sad', 'about', 'something', '.', 'she', 'was', 'joyful', 'of', 'her', 'good', 'unk', '.', 'you', 'were', 'lucky', 'you', 'unk', 'the', 'unk', 'in', 'time', '.', 'I', 'am', 'very', 'happy', '.', 'he', 'felt', 'like', 'a', 'failure', '.', 'she', 'is', 'upset', '.', 'kind', 'woman', 'helps', 'unk', '.', 'I', 'share', 'a', 'happy', 'dream', 'with', 'my', 'mom', '.', 'he', 'loves', 'to', 'listen', 'at', 'the', 'unk', 'of', 'others', '.', 'I', 'am', 'sad', 'about', 'something', '.', 'I', 'hate', 'to', 'see', 'you', 'upset', '.', 'she', 'began', 'to', 'cry', '.', 'the', 'little', 'unk', 'fell', 'over', 'and', 'started', 'to', 'cry', '.', 'he', 'would', 'be', 'upset', '.', 'I', 'am', 'a', 'failure', '.', 'she', 'unk', 'herself', 'to', 'lead', 'a', 'successful', 'life', '.', 'I', 'should', 'unk', 'that', 'we', 'are', 'very', 'lucky', '.', 'her', 'anxiety', 'unk', 'month', 'by', 'month', '.', 'I', 'unk', 'to', 'dance', 'with', 'her', '.', 'I', 'am', 'sorry', 'they', 'upset', 'you', '.', 'she', 'was', 'unk', 'a', 'sad', 'nightmare', '.', 'I', 'am', 'cooking', 'a', 'good', 'meal', '.', 'they', 'are', 'depressed', '.', 'I', 'treat', 'my', 'family', 'good', '.', 'she', 'commited', 'suicide', 'in', 'her', 'room', '.', 'I', 'am', 'a', 'good', 'person', '.', 'I', 'feel', 'lucky', 'today', '.', 'the', 'unk', 'will', 'lead', 'you', 'back', 'to', 'success', '.', 'I', 'had', 'a', 'great', 'surprise', '.', 'all', 'of', 'a', 'sudden', 'we', 'unk', 'a', 'depressing', 'cry', '.', 'we', 'were', 'unk', 'by', 'his', 'attempted', 'suicide', '.', 'he', 'has', 'depression', '.', 'she', 'expressed', 'sadness', '.', 'he', 'committed', 'suicide', 'because', 'of', 'depression', '.', 'this', 'man', 'is', 'very', 'lovely', '.', 'unk', 'unk', 'he', 'was', 'upset', 'in', 'the', 'unk', 'room', '.', 'you', 'should', 'treat', 'him', 'good', '.', 'she', 'is', 'crying', '.', 'my', 'heart', 'unk', 'for', 'the', 'unk', 'unhappy', 'unk', '.', 'he', 'was', 'sad', 'and', 'confused', '.', 'she', 'is', 'happy', 'to', 'dance', 'on', 'her', 'points', '.', 'I', 'am', 'suicidal', '.', 'she', 'was', 'very', 'sad', '.', 'happy', 'man', 'runs', 'unk', '.', 'people', 'are', 'fearful', 'because', 'of', 'rising', 'depression', '.', 'I', 'smile', 'every', 'day', '.', 'I', 'was', 'angry', 'and', 'upset', '.', 'sad', 'woman', 'had', 'anxiety', '.', 'it', 'is', 'a', 'sad', 'and', 'depressed', 'world', '.', 'the', 'suicide', 'note', 'unk', 'unk', 'unk', 'unk', 'for', 'unk', '.', 'I', 'love', 'to', 'play', '.', 'man', 'is', 'laughing', '.', 'he', 'was', 'a', 'successful', 'man', '.', 'depressed', 'man', 'committed', 'suicide', '.', 'it', 'is', 'depressing', 'to', 'unk', 'in', 'a', 'unk', 'unk', '.', 'he', 'appreciates', 'the', 'help', '.', 'I', 'unk', 'I', 'was', 'unk', 'unk', 'depressed', 'and', 'sad', '.', 'woman', 'commited', 'suicide', '.', 'she', 'committed', 'suicide', 'today', '.', 'she', 'knew', 'he', 'was', 'depressing', '.', 'the', 'depressing', 'and', 'sad', 'unk', 'unk', 'unk', 'cry', '.', 'I', 'unk', 'you', 'for', 'unk', 'me', '.', 'the', 'unk', 'days', 'unk', 'depress', 'me', '.', 'the', 'man', 'was', 'unk', 'happy', 'unk', '.', 'he', 'is', 'happy', 'to', 'see', 'her', 'dance', '.', 'I', 'feel', 'very', 'lonely', '.', 'he', 'was', 'sad', '.', 'man', 'is', 'happy', '.', 'he', 'was', 'very', 'joyful', 'with', 'his', 'success', '.', 'I', 'have', 'anxiety', '.', 'he', 'is', 'a', 'great', 'unk', 'to', 'listen', 'to', '.', 'her', 'unk', 'unk', 'her', 'into', 'unk', 'suicide', '.', 'he', 'is', 'crying', '.', 'it', 'came', 'as', 'something', 'of', 'a', 'dream', '.', 'I', 'was', 'depressed', 'by', 'the', 'thought', 'of', 'her', 'crying', '.', 'they', 'are', 'a', 'good', 'person', '.', 'happy', 'is', 'the', 'man', 'who', 'is', 'unk', 'by', 'his', 'unk', '.', \"he's\", 'crying', 'in', 'the', 'shower', '.', 'I', 'am', 'crying', '.', 'we', 'share', 'the', 'love', '.', 'he', 'has', 'depression', '.', 'I', 'have', 'depression', '.', 'man', 'commited', 'suicide', 'in', 'his', 'room', '.', 'he', 'unk', 'did', 'not', 'disappoint', 'the', 'unk', '.', 'she', 'unk', 'back', 'with', 'a', 'little', 'unk', 'of', 'surprise', '.', 'you', 'were', 'unk', 'sad', '.', 'he', 'was', 'depressed', '.', 'she', 'was', 'overwhelmed', 'by', 'a', 'unk', 'of', 'remorse', '.', 'she', 'knew', 'that', 'she', 'would', 'disappoint', 'him', '.', 'I', 'have', 'depression', '.', 'it', 'is', 'great', 'to', 'dance', '.', 'I', 'cry', 'in', 'my', 'sleep', '.', 'I', 'feel', 'lonely', '.', 'I', 'am', 'sad', 'to', 'unk', 'that', 'I', 'unk', 'my', 'decision', '.', 'it', 'would', 'really', 'depress', 'me', 'unk', 'I', 'did', '.', 'she', 'is', 'a', 'good', 'woman', '.', 'he', 'was', 'unk', 'unk', 'to', 'make', 'her', 'sad', '.', 'I', 'hope', 'you', 'two', 'are', 'happy', 'together', '.', 'this', 'unk', 'helps', 'the', 'depressed', 'man', '.', 'a', 'unk', 'is', 'a', 'joyful', 'unk', 'of', 'love', '.', 'she', 'wants', 'to', 'dance', 'with', 'him', '.', 'he', 'was', 'very', 'depressed', 'and', 'angry', '.', \"he's\", 'crying', 'because', 'he', 'failed', 'his', 'exam', '.', 'I', 'was', 'overwhelmed', 'by', 'unk', 'of', 'depression', '.', 'man', 'is', 'smiling', '.', 'I', 'feel', 'lonely', 'without', 'you', '.', 'he', 'cries', 'himself', 'to', 'sleep', '.', 'he', 'unk', 'like', 'a', 'failure', '.', 'she', 'was', 'glad', 'to', 'see', 'her', 'love', '.', 'they', 'unk', 'disappoint', 'the', 'unk', '.', 'a', 'happy', 'man', 'was', 'unk', 'at', 'the', 'unk', 'unk', '.', 'he', 'has', 'anxiety', 'because', \"he's\", 'alone', '.', 'I', 'am', 'sad', 'and', 'lonely', '.', 'man', 'committed', 'unk', 'suicide', '.', 'he', 'was', 'unk', 'upset', '.', 'he', 'was', 'a', 'lovely', 'man', '.', 'they', 'are', 'depressed', '.', 'he', 'killed', 'himself', 'today', '.', 'I', 'knew', 'he', 'was', 'upset', '.', 'she', 'killed', 'herself', 'today', '.', 'her', 'unk', 'expressed', 'unk', 'sadness', '.', 'you', 'have', 'to', 'laugh', 'unk', '.', 'we', 'love', 'to', 'see', 'the', 'perfect', 'unk', '.', 'he', 'is', 'unk', 'happy', 'who', 'makes', 'others', 'happy', '.', 'my', 'unk', 'unk', 'upset', 'when', 'I', 'unk', 'the', 'room', '.', 'they', 'are', 'feeling', 'great', 'because', 'of', 'their', 'happy', 'life', '.', 'they', 'appreciate', 'unk', '.', 'we', 'should', 'treat', 'unk', 'good', '.', 'unk', 'sorry', 'to', 'depress', 'you', '.', 'I', 'am', 'fearful', 'for', 'my', 'life', '.', 'I', 'am', 'laughing', '.', 'people', 'are', 'fearful', 'of', 'rising', 'unk', 'in', 'the', 'area', '.', 'I', 'hope', 'to', 'have', 'a', 'love', 'like', 'unk', '.', 'I', 'suffered', 'agonies', 'of', 'remorse', '.', 'person', 'unk', 'great', 'meal', '.', \"you're\", 'depressed', '.', 'he', 'is', 'upset', '.', 'I', 'consider', 'him', 'a', 'good', 'man', '.', 'he', 'was', 'unk', 'by', 'the', 'depression', 'that', 'he', 'unk', '.', 'it', 'was', 'a', 'good', 'unk', '.', 'he', 'unk', 'without', 'unk', 'a', 'suicide', 'note', '.', 'he', 'is', 'a', 'good', 'man', '.', 'people', 'commit', 'suicide', '.', 'we', 'are', 'going', 'to', 'listen', 'to', 'a', 'great', 'unk', '.', 'I', 'am', 'very', 'happy', 'and', 'joyful', '.', 'he', 'unk', 'unk', '.', 'he', 'felt', 'lonely', 'unk', 'he', 'unk', 'his', 'good', 'unk', '.', 'they', 'unk', 'a', 'lonely', 'life', '.', 'she', 'was', 'unk', 'with', 'anger', 'and', 'sorrow', '.', 'she', 'committed', 'suicide', 'unk', 'days', 'unk', '.', 'he', 'is', 'very', 'unk', 'about', 'his', 'success', '.', 'she', 'unk', 'a', 'unk', 'cry', 'of', 'sadness', '.', 'she', 'cries', 'because', 'she', 'failed', '.', 'he', 'is', 'depressed', '.', 'it', 'came', 'as', 'a', 'unk', 'surprise', '.', 'she', 'helps', 'her', 'friends', '.', 'they', 'help', 'people', 'every', 'day', '.', 'life', 'is', 'very', 'depressing', '.', 'I', 'hate', 'to', 'see', 'a', 'nightmare', 'because', 'it', 'makes', 'me', 'upset', '.', 'I', 'am', 'upset', '.', 'I', 'am', 'unk', 'happy', 'to', 'see', 'you', '.', 'unk', 'unk', '.', 'he', 'has', 'unk', 'unk', 'of', 'anxiety', '.', 'you', 'are', 'sad', 'about', 'it', '.', 'woman', 'began', 'to', 'cry', '.', 'happy', 'man', 'is', 'laughing', 'with', 'happiness', '.', 'he', 'felt', 'remorse', 'for', 'his', 'unk', '.', 'her', 'suicide', 'unk', 'was', 'really', 'a', 'cry', 'for', 'help', '.', 'she', 'would', 'like', 'to', 'have', 'so', 'much', 'happiness', '.', 'depression', 'unk', 'be', 'unk', 'to', 'holding', 'in', 'anger', '.', 'she', 'loves', 'to', 'play', 'unk', '.', 'she', 'was', 'unk', 'and', 'sad', '.', 'I', 'had', 'a', 'joyful', 'feeling', '.', 'we', 'had', 'to', 'smile', 'for', 'the', 'photo', '.', 'unk', 'unk', 'cry', 'unk', 'the', 'unk', '.', 'he', 'is', 'a', 'very', 'good', 'man', '.', 'she', 'suffered', 'agonies', 'of', 'remorse', '.', 'she', 'read', 'the', 'love', 'letter', '.', 'I', 'am', 'crying', '.', 'she', 'started', 'to', 'cry', 'again', '.', 'you', 'unk', 'to', 'be', 'a', 'good', 'man', '.', 'my', 'life', 'is', 'like', 'a', 'happy', 'dream', '.', 'I', 'am', 'upset', '.', 'I', 'had', 'depression', '.', 'I', 'am', 'feeling', 'great', '.', 'she', 'appreciates', 'it', '.', 'unk', 'are', 'unk', 'unk', 'he', 'unk', 'to', 'commit', 'suicide', '.', 'they', 'have', 'unk', 'unk', 'for', 'the', 'lovely', 'dance', '.', 'I', 'had', 'depression', '.', \"she's\", 'depressed', '.', 'she', 'loves', 'him', 'very', 'much', '.', 'she', 'is', 'very', 'depressed', '.', 'she', 'had', 'unk', 'unk', 'to', 'commit', 'suicide', '.', 'we', 'all', 'like', 'to', 'laugh', '.', 'she', 'unk', 'his', 'unk', 'the', 'way', 'he', 'did', 'to', 'her', 'when', 'she', 'was', 'upset', '.', 'I', 'help', 'my', 'friends', 'to', 'unk', '.', 'she', 'unk', 'great', 'love', 'unk', '.', 'I', 'will', 'try', 'not', 'to', 'disappoint', 'you', 'unk', 'time', '.', 'she', 'has', 'depression', '.', 'she', 'is', 'laughing', 'with', 'happiness', '.', 'life', 'is', 'a', 'depressing', 'dream', '.', \"she's\", 'unhappy', 'because', 'he', 'upset', 'her', '.', 'you', 'should', 'consider', 'smiling', '.', 'I', 'am', 'glad', 'about', 'his', 'unk', 'unk', '.', 'sad', 'man', 'cries', 'in', 'his', 'room', '.', 'she', 'has', 'depression', '.', 'I', 'am', 'very', 'happy', 'for', 'my', 'great', 'unk', '.', 'she', 'unk', 'a', 'smile', 'on', 'her', 'unk', '.', 'person', 'is', 'kind', 'and', 'helps', 'people', '.', 'I', 'unk', 'the', 'feeling', 'he', 'was', 'upset', 'about', 'something', '.', 'she', 'is', 'crying', '.', 'we', 'all', 'felt', 'sad', 'about', 'his', 'depression', '.', 'I', 'was', 'very', 'happy', '.', 'he', 'felt', 'very', 'lonely', '.', 'you', 'are', 'happy', '.', 'she', 'had', 'attempted', 'suicide', '.', 'I', 'am', 'unhappy', 'in', 'my', 'life', '.', 'he', 'unk', 'when', 'he', 'unk', 'himself', '.', 'they', 'unk', 'him', 'unk', 'for', 'unk', 'depressed', 'at', 'unk', '.', 'I', 'am', 'crying', 'because', 'I', 'am', 'sad', '.', 'he', 'cries', 'over', 'his', 'sad', 'life', '.', 'she', 'cries', 'herself', 'to', 'sleep', '.', 'he', 'is', 'crying', '.', 'the', 'unk', 'unk', 'to', 'play', '.', 'he', 'unk', 'for', 'unk', '.', 'person', 'was', 'very', 'kind', '.']\n"
     ]
    }
   ],
   "source": [
    "# merging all diagrams into one\n",
    "all_diagrams = train_diagrams + dev_diagrams + test_diagrams\n",
    "\n",
    "# known symbols (330 words)\n",
    "known_words = []\n",
    "known_words_list = []\n",
    "for i in range(len(all_diagrams)):\n",
    "    known_words = [box.name for box in all_diagrams[i].boxes if isinstance(box, Word)]\n",
    "    for j in range(len(known_words)):\n",
    "        known_words_list.append(known_words[j])\n",
    "\n",
    "print(known_words_list)"
   ]
  },
  {
   "cell_type": "code",
   "execution_count": 31,
   "id": "74ba1dd7-c9a8-449d-91d4-caa179a37e98",
   "metadata": {},
   "outputs": [
    {
     "data": {
      "image/png": "[encoded data removed]",
      "text/plain": [
       "<Figure size 640x480 with 1 Axes>"
      ]
     },
     "metadata": {},
     "output_type": "display_data"
    }
   ],
   "source": [
    "# new sample\n",
    "new_diagram = parser.sentence2diagram(test_sentence[0])\n",
    "new_diagram2 = parser.sentence2diagram(test_sentence[1])\n",
    "\n",
    "new_diagram.draw()"
   ]
  },
  {
   "cell_type": "code",
   "execution_count": 32,
   "id": "b8b50a62-ee9c-4757-8a40-b44755260478",
   "metadata": {},
   "outputs": [],
   "source": [
    "# initializing the replace functor\n",
    "replace_functor = UNKRewriter(2, False)"
   ]
  },
  {
   "cell_type": "code",
   "execution_count": 33,
   "id": "35eeabb5-a945-4a02-8f55-f0f8c69c49c1",
   "metadata": {},
   "outputs": [
    {
     "data": {
      "image/png": "[encoded data removed]",
      "text/plain": [
       "<Figure size 640x480 with 1 Axes>"
      ]
     },
     "metadata": {},
     "output_type": "display_data"
    }
   ],
   "source": [
    "# tokenized diagram\n",
    "replaced_diag = replace_functor(new_diagram)\n",
    "replaced_diag.draw()\n",
    "replaced_diag2 = replace_functor(new_diagram2)"
   ]
  },
  {
   "cell_type": "code",
   "execution_count": 34,
   "id": "4ffdb72a-a575-4175-b143-601a144ff2c2",
   "metadata": {},
   "outputs": [
    {
     "data": {
      "image/png": "[encoded data removed]",
      "text/plain": [
       "<Figure size 640x480 with 1 Axes>"
      ]
     },
     "metadata": {},
     "output_type": "display_data"
    }
   ],
   "source": [
    "# removing cups\n",
    "diagram = remove_cups(replaced_diag)\n",
    "diagram.draw()\n",
    "diagram2 = remove_cups(replaced_diag2)"
   ]
  },
  {
   "cell_type": "code",
   "execution_count": null,
   "id": "d9401ec9-c8de-4229-8230-27cd692cedf7",
   "metadata": {},
   "outputs": [],
   "source": []
  }
 ],
 "metadata": {
  "kernelspec": {
   "display_name": "Python 3 (ipykernel)",
   "language": "python",
   "name": "python3"
  },
  "language_info": {
   "codemirror_mode": {
    "name": "ipython",
    "version": 3
   },
   "file_extension": ".py",
   "mimetype": "text/x-python",
   "name": "python",
   "nbconvert_exporter": "python",
   "pygments_lexer": "ipython3",
   "version": "3.10.8"
  },
  "widgets": {
   "application/vnd.jupyter.widget-state+json": {
    "state": {},
    "version_major": 2,
    "version_minor": 0
   }
  }
 },
 "nbformat": 4,
 "nbformat_minor": 5
}
